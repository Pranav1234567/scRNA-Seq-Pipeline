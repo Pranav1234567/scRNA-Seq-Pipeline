{
 "cells": [
  {
   "cell_type": "markdown",
   "metadata": {},
   "source": [
    "# From FastQ to count data"
   ]
  },
  {
   "cell_type": "markdown",
   "metadata": {},
   "source": [
    "## Paths"
   ]
  },
  {
   "cell_type": "code",
   "execution_count": 1,
   "metadata": {
    "collapsed": true
   },
   "outputs": [],
   "source": [
    "# Need QC to be on diectory that can be linked to within Jupyter\n",
    "QC=\"/Users/cliburn/_learn/hts/qc\"\n",
    "\n",
    "BASE=\"/Volumes/HD2/data/HTS\"\n",
    "RAW=${BASE}/raw_data\n",
    "DEMUX=${BASE}/demux\n",
    "INFO=${BASE}/info\n",
    "TRIM=${BASE}/trim\n",
    "REF=${BASE}/genome\n",
    "ALIGN=${BASE}/align\n",
    "COUNT=${BASE}/counts"
   ]
  },
  {
   "cell_type": "markdown",
   "metadata": {},
   "source": [
    "## Demultiplex"
   ]
  },
  {
   "cell_type": "code",
   "execution_count": 2,
   "metadata": {},
   "outputs": [],
   "source": [
    "mkdir -p ${DEMUX}"
   ]
  },
  {
   "cell_type": "code",
   "execution_count": 3,
   "metadata": {},
   "outputs": [
    {
     "name": "stdout",
     "output_type": "stream",
     "text": [
      "Usage: fastq-multx [-g|-l|-B] <barcodes.fil> <read1.fq> -o r1.%.fq [mate.fq -o r2.%.fq] ...\n",
      "Version: 1.02.772\n",
      "\n",
      "Output files must contain a '%' sign which is replaced with the barcode id in the barcodes file.\n",
      "Output file can be n/a to discard the corresponding data (use this for the barcode read)\n",
      "\n",
      "Barcodes file (-B) looks like this:\n",
      "\n",
      "<id1> <sequence1>\n",
      "<id2> <sequence2> ...\n",
      "\n",
      "Default is to guess the -bol or -eol based on clear stats.\n",
      "\n",
      "If -g is used, then it's parameter is an index lane, and frequently occuring sequences are used.\n",
      "\n",
      "If -l is used then all barcodes in the file are tried, and the *group* with the *most* matches is chosen.\n",
      "\n",
      "Grouped barcodes file (-l or -L) looks like this:\n",
      "\n",
      "<id1> <sequence1> <group1>\n",
      "<id1> <sequence1> <group1>\n",
      "<id2> <sequence2> <group2>...\n",
      "\n",
      "Mated reads, if supplied, are kept in-sync\n",
      "\n",
      "Options:\n",
      "\n",
      "-o FIL1     Output files (one per input, required)\n",
      "-g SEQFIL   Determine barcodes from the indexed read SEQFIL\n",
      "-l BCFIL    Determine barcodes from any read, using BCFIL as a master list\n",
      "-L BCFIL    Determine barcodes from <read1.fq>, using BCFIL as a master list\n",
      "-B BCFIL    Use barcodes from BCFIL, no determination step, codes in <read1.fq>\n",
      "-H          Use barcodes from illumina's header, instead of a read\n",
      "-b          Force beginning of line (5') for barcode matching\n",
      "-e          Force end of line (3') for batcode matching\n",
      "-t NUM      Divide threshold for auto-determine by factor NUM (1), > 1 = more sensitive\n",
      "-G NAME     Use group(s) matching NAME only\n",
      "-x          Don't trim barcodes off before writing out destination\n",
      "-n          Don't execute, just print likely barcode list\n",
      "-v C        Verify that mated id's match up to character C (Use ' ' for illumina)\n",
      "-m N        Allow up to N mismatches, as long as they are unique (1)\n",
      "-d N        Require a minimum distance of N between the best and next best (2)\n",
      "-q N        Require a minimum phred quality of N to accept a barcode base (0)\n"
     ]
    }
   ],
   "source": [
    "fastq-multx -h"
   ]
  },
  {
   "cell_type": "code",
   "execution_count": 4,
   "metadata": {},
   "outputs": [
    {
     "name": "stdout",
     "output_type": "stream",
     "text": [
      "7A_pilot\tAGTCAA\n",
      "7B_pilot\tAGTTCC\n",
      "7C_pilot\tATGTCA\n",
      "8A_pilot\tCCGTCC\n",
      "8B_pilot\tGTCCGC\n",
      "8C_pilot\tGTGAAA\n"
     ]
    }
   ],
   "source": [
    "head $INFO/2015pilot_barcodes.tab"
   ]
  },
  {
   "cell_type": "code",
   "execution_count": 5,
   "metadata": {},
   "outputs": [
    {
     "name": "stdout",
     "output_type": "stream",
     "text": [
      "Using Barcode File: /Volumes/HD2/data/HTS/info/2015pilot_barcodes.tab\n",
      "End used: start\n",
      "Skipped because of distance < 2 : 36036\n",
      "Id\tCount\tFile(s)\n",
      "7A_pilot\t1303312\t/Volumes/HD2/data/HTS/demux/i1.7A_pilot.fq\t/Volumes/HD2/data/HTS/demux/r1.7A_pilot.fq\t/Volumes/HD2/data/HTS/demux/r2.7A_pilot.fq\n",
      "7B_pilot\t1828191\t/Volumes/HD2/data/HTS/demux/i1.7B_pilot.fq\t/Volumes/HD2/data/HTS/demux/r1.7B_pilot.fq\t/Volumes/HD2/data/HTS/demux/r2.7B_pilot.fq\n",
      "7C_pilot\t1689864\t/Volumes/HD2/data/HTS/demux/i1.7C_pilot.fq\t/Volumes/HD2/data/HTS/demux/r1.7C_pilot.fq\t/Volumes/HD2/data/HTS/demux/r2.7C_pilot.fq\n",
      "8A_pilot\t1242748\t/Volumes/HD2/data/HTS/demux/i1.8A_pilot.fq\t/Volumes/HD2/data/HTS/demux/r1.8A_pilot.fq\t/Volumes/HD2/data/HTS/demux/r2.8A_pilot.fq\n",
      "8B_pilot\t1480948\t/Volumes/HD2/data/HTS/demux/i1.8B_pilot.fq\t/Volumes/HD2/data/HTS/demux/r1.8B_pilot.fq\t/Volumes/HD2/data/HTS/demux/r2.8B_pilot.fq\n",
      "8C_pilot\t1238935\t/Volumes/HD2/data/HTS/demux/i1.8C_pilot.fq\t/Volumes/HD2/data/HTS/demux/r1.8C_pilot.fq\t/Volumes/HD2/data/HTS/demux/r2.8C_pilot.fq\n",
      "unmatched\t371408\t/Volumes/HD2/data/HTS/demux/i1.unmatched.fq\t/Volumes/HD2/data/HTS/demux/r1.unmatched.fq\t/Volumes/HD2/data/HTS/demux/r2.unmatched.fq\n",
      "total\t9155406\n"
     ]
    }
   ],
   "source": [
    "fastq-multx -B ${INFO}/2015pilot_barcodes.tab \\\n",
    "    ${RAW}/dryrun_combined_I1.fastq  \\\n",
    "    ${RAW}/dryrun_combined_R1.fastq \\\n",
    "    ${RAW}/dryrun_combined_R2.fastq \\\n",
    "    -o ${DEMUX}/i1.%.fq ${DEMUX}/r1.%.fq ${DEMUX}/r2.%.fq"
   ]
  },
  {
   "cell_type": "code",
   "execution_count": 6,
   "metadata": {},
   "outputs": [
    {
     "name": "stdout",
     "output_type": "stream",
     "text": [
      "@M00698:36:000000000-AFBEL:1:1101:10614:3485 1:N:0:1\n",
      "GTCAAGGACTGGTTTAGATATGAGTCACATTTTGTTCATGGTAGAGATTCTCTTGTTGACATTTTAAAAGAGCGTGGATTACTATCTGAGTCCGATG\n",
      "+\n",
      "DDDDCFFFFFDCGGGGGGGGGGHHHHHHHHHHHHHHHHHHHHHHHHHHHHHHHHHHHHHIHIHHHIHIHHGHHGFGGGHHHHHHHHHHHHHHHGGGG\n",
      "@M00698:36:000000000-AFBEL:1:1101:19528:3613 1:N:0:1\n",
      "TTGAGTCTCATTTTGCATCTCGGCAATCTCTTTCTGATTGTCCAGTTGCATTTTAGTAAGCTCTTTTTGATTCTCAAATCCGGCGTCAACCATACCAGCAG\n",
      "+\n",
      "C@BBCFFFFFFFGGGGGGGGGGGGGGHHHHHGHHHHHHHHHHHHHHHHHHHHHHHHHHHHIHHHIIHHGFHHHHHHHHHHHGGGGGGGGHHGHHHHHHHHH\n",
      "@M00698:36:000000000-AFBEL:1:1101:23305:5068 1:N:0:1\n",
      "TAACTTTACCGCTACTAAATGCCGCGGATTGGTTTCGCTGAATCAGGTTATTAAAGAGATTATTTGTCTCCAGCCACTTAAGTGAGGTGATTTATGTTTGG\n"
     ]
    }
   ],
   "source": [
    "head ${RAW}/dryrun_combined_R1.fastq"
   ]
  },
  {
   "cell_type": "code",
   "execution_count": 7,
   "metadata": {},
   "outputs": [
    {
     "name": "stdout",
     "output_type": "stream",
     "text": [
      "@M00698:36:000000000-AFBEL:1:1101:15186:1341 1:N:0:0\n",
      "AGCTGGCGGGAGTTGAACCCGCGTCCGAAATTCCTACATCCTCGGTACTACATGCTTAGTCAGTCTTTACATTCGCTTGCCAGCTGCGGACGGACACGCCA\n",
      "+\n",
      "3BBBBFBCDEECGGGGGGGGGGGGGGGGGGHHHHHHHHHHHHHGGGHGHHHHHHHHHHHHHHHHHHHHHHHHHHHGGHGHHHHGHHHGGGGGGGGGHGGGG\n",
      "@M00698:36:000000000-AFBEL:1:1101:15472:1353 1:N:0:0\n",
      "CCAACCATCAACGTGTCCCTGAATATCGCCTTCTGAGGCTTTGCCGTCATGCATAATGGCGTTCTGGGCGTTAATATCTGCCACTGGCAACTGCATAATGG\n",
      "+\n",
      ">AABBBBFFFFFGGGGGGGGGGHHGHHGGGGGHHHGFAFHHHFHHGGGGFHHHHEDHHHHGEFGGHGHHGGGGGDGFHHHHHHHHFGFHHHHGHHHHHHHG\n",
      "@M00698:36:000000000-AFBEL:1:1101:16252:1353 1:N:0:0\n",
      "CGGTGCATCTTCTTGTTAACTTTTTGACTGTGGTCCTGCGGACGAGCAGCAAAGGTCACGCCACCAGAACGCCAGATCGGGCTCTTGATAGAACCAGAACG\n"
     ]
    }
   ],
   "source": [
    "head ${DEMUX}/r1.7A_pilot.fq"
   ]
  },
  {
   "cell_type": "markdown",
   "metadata": {},
   "source": [
    "## Quality Control"
   ]
  },
  {
   "cell_type": "code",
   "execution_count": 8,
   "metadata": {},
   "outputs": [],
   "source": [
    "mkdir -p ${QC}"
   ]
  },
  {
   "cell_type": "code",
   "execution_count": 9,
   "metadata": {
    "scrolled": false
   },
   "outputs": [
    {
     "name": "stdout",
     "output_type": "stream",
     "text": [
      "\n",
      "            FastQC - A high throughput sequence QC analysis tool\n",
      "\n",
      "SYNOPSIS\n",
      "\n",
      "\tfastqc seqfile1 seqfile2 .. seqfileN\n",
      "\n",
      "    fastqc [-o output dir] [--(no)extract] [-f fastq|bam|sam] \n",
      "           [-c contaminant file] seqfile1 .. seqfileN\n",
      "\n",
      "DESCRIPTION\n",
      "\n",
      "    FastQC reads a set of sequence files and produces from each one a quality\n",
      "    control report consisting of a number of different modules, each one of \n",
      "    which will help to identify a different potential type of problem in your\n",
      "    data.\n",
      "    \n",
      "    If no files to process are specified on the command line then the program\n",
      "    will start as an interactive graphical application.  If files are provided\n",
      "    on the command line then the program will run with no user interaction\n",
      "    required.  In this mode it is suitable for inclusion into a standardised\n",
      "    analysis pipeline.\n",
      "    \n",
      "    The options for the program as as follows:\n",
      "    \n",
      "    -h --help       Print this help file and exit\n",
      "    \n",
      "    -v --version    Print the version of the program and exit\n",
      "    \n",
      "    -o --outdir     Create all output files in the specified output directory.\n",
      "                    Please note that this directory must exist as the program\n",
      "                    will not create it.  If this option is not set then the \n",
      "                    output file for each sequence file is created in the same\n",
      "                    directory as the sequence file which was processed.\n",
      "                    \n",
      "    --casava        Files come from raw casava output. Files in the same sample\n",
      "                    group (differing only by the group number) will be analysed\n",
      "                    as a set rather than individually. Sequences with the filter\n",
      "                    flag set in the header will be excluded from the analysis.\n",
      "                    Files must have the same names given to them by casava\n",
      "                    (including being gzipped and ending with .gz) otherwise they\n",
      "                    won't be grouped together correctly.\n",
      "                    \n",
      "    --nano          Files come from naopore sequences and are in fast5 format. In\n",
      "                    this mode you can pass in directories to process and the program\n",
      "                    will take in all fast5 files within those directories and produce\n",
      "                    a single output file from the sequences found in all files.                    \n",
      "                    \n",
      "    --nofilter      If running with --casava then don't remove read flagged by\n",
      "                    casava as poor quality when performing the QC analysis.\n",
      "                   \n",
      "    --extract       If set then the zipped output file will be uncompressed in\n",
      "                    the same directory after it has been created.  By default\n",
      "                    this option will be set if fastqc is run in non-interactive\n",
      "                    mode.\n",
      "                    \n",
      "    -j --java       Provides the full path to the java binary you want to use to\n",
      "                    launch fastqc. If not supplied then java is assumed to be in\n",
      "                    your path.\n",
      "                   \n",
      "    --noextract     Do not uncompress the output file after creating it.  You\n",
      "                    should set this option if you do not wish to uncompress\n",
      "                    the output when running in non-interactive mode.\n",
      "                    \n",
      "    --nogroup       Disable grouping of bases for reads >50bp. All reports will\n",
      "                    show data for every base in the read.  WARNING: Using this\n",
      "                    option will cause fastqc to crash and burn if you use it on\n",
      "                    really long reads, and your plots may end up a ridiculous size.\n",
      "                    You have been warned!\n",
      "                    \n",
      "    -f --format     Bypasses the normal sequence file format detection and\n",
      "                    forces the program to use the specified format.  Valid\n",
      "                    formats are bam,sam,bam_mapped,sam_mapped and fastq\n",
      "                    \n",
      "    -t --threads    Specifies the number of files which can be processed\n",
      "                    simultaneously.  Each thread will be allocated 250MB of\n",
      "                    memory so you shouldn't run more threads than your\n",
      "                    available memory will cope with, and not more than\n",
      "                    6 threads on a 32 bit machine\n",
      "                  \n",
      "    -c              Specifies a non-default file which contains the list of\n",
      "    --contaminants  contaminants to screen overrepresented sequences against.\n",
      "                    The file must contain sets of named contaminants in the\n",
      "                    form name[tab]sequence.  Lines prefixed with a hash will\n",
      "                    be ignored.\n",
      "\n",
      "    -a              Specifies a non-default file which contains the list of\n",
      "    --adapters      adapter sequences which will be explicity searched against\n",
      "                    the library. The file must contain sets of named adapters\n",
      "                    in the form name[tab]sequence.  Lines prefixed with a hash\n",
      "                    will be ignored.\n",
      "                    \n",
      "    -l              Specifies a non-default file which contains a set of criteria\n",
      "    --limits        which will be used to determine the warn/error limits for the\n",
      "                    various modules.  This file can also be used to selectively \n",
      "                    remove some modules from the output all together.  The format\n",
      "                    needs to mirror the default limits.txt file found in the\n",
      "                    Configuration folder.\n",
      "                    \n",
      "   -k --kmers       Specifies the length of Kmer to look for in the Kmer content\n",
      "                    module. Specified Kmer length must be between 2 and 10. Default\n",
      "                    length is 7 if not specified.\n",
      "                    \n",
      "   -q --quiet       Supress all progress messages on stdout and only report errors.\n",
      "   \n",
      "   -d --dir         Selects a directory to be used for temporary files written when\n",
      "                    generating report images. Defaults to system temp directory if\n",
      "                    not specified.\n",
      "                    \n",
      "BUGS\n",
      "\n",
      "    Any bugs in fastqc should be reported either to simon.andrews@babraham.ac.uk\n",
      "    or in www.bioinformatics.babraham.ac.uk/bugzilla/\n",
      "                   \n",
      "    "
     ]
    }
   ],
   "source": [
    "fastqc -h"
   ]
  },
  {
   "cell_type": "code",
   "execution_count": 10,
   "metadata": {
    "collapsed": true
   },
   "outputs": [],
   "source": [
    "fastqc --threads 8 --quiet ${DEMUX}/r*fq -o ${QC}"
   ]
  },
  {
   "cell_type": "code",
   "execution_count": 11,
   "metadata": {
    "scrolled": false
   },
   "outputs": [
    {
     "name": "stdout",
     "output_type": "stream",
     "text": [
      "/Users/cliburn/_learn/hts/qc/r1.7A_pilot_fastqc.html\n",
      "/Users/cliburn/_learn/hts/qc/r1.7A_pilot_trim_fastqc.html\n",
      "/Users/cliburn/_learn/hts/qc/r1.7B_pilot_fastqc.html\n",
      "/Users/cliburn/_learn/hts/qc/r1.7B_pilot_trim_fastqc.html\n",
      "/Users/cliburn/_learn/hts/qc/r1.7C_pilot_fastqc.html\n",
      "/Users/cliburn/_learn/hts/qc/r1.7C_pilot_trim_fastqc.html\n",
      "/Users/cliburn/_learn/hts/qc/r1.8A_pilot_fastqc.html\n",
      "/Users/cliburn/_learn/hts/qc/r1.8A_pilot_trim_fastqc.html\n",
      "/Users/cliburn/_learn/hts/qc/r1.8B_pilot_fastqc.html\n",
      "/Users/cliburn/_learn/hts/qc/r1.8B_pilot_trim_fastqc.html\n",
      "/Users/cliburn/_learn/hts/qc/r1.8C_pilot_fastqc.html\n",
      "/Users/cliburn/_learn/hts/qc/r1.8C_pilot_trim_fastqc.html\n",
      "/Users/cliburn/_learn/hts/qc/r1.unmatched_fastqc.html\n",
      "/Users/cliburn/_learn/hts/qc/r2.7A_pilot_fastqc.html\n",
      "/Users/cliburn/_learn/hts/qc/r2.7A_pilot_trim_fastqc.html\n",
      "/Users/cliburn/_learn/hts/qc/r2.7B_pilot_fastqc.html\n",
      "/Users/cliburn/_learn/hts/qc/r2.7B_pilot_trim_fastqc.html\n",
      "/Users/cliburn/_learn/hts/qc/r2.7C_pilot_fastqc.html\n",
      "/Users/cliburn/_learn/hts/qc/r2.7C_pilot_trim_fastqc.html\n",
      "/Users/cliburn/_learn/hts/qc/r2.8A_pilot_fastqc.html\n",
      "/Users/cliburn/_learn/hts/qc/r2.8A_pilot_trim_fastqc.html\n",
      "/Users/cliburn/_learn/hts/qc/r2.8B_pilot_fastqc.html\n",
      "/Users/cliburn/_learn/hts/qc/r2.8B_pilot_trim_fastqc.html\n",
      "/Users/cliburn/_learn/hts/qc/r2.8C_pilot_fastqc.html\n",
      "/Users/cliburn/_learn/hts/qc/r2.8C_pilot_trim_fastqc.html\n",
      "/Users/cliburn/_learn/hts/qc/r2.unmatched_fastqc.html\n"
     ]
    }
   ],
   "source": [
    "ls ${QC}/*.html"
   ]
  },
  {
   "cell_type": "markdown",
   "metadata": {},
   "source": [
    "### QC reports\n",
    "\n",
    "- [R1 7A](qc/r1.7A_pilot_fastqc.html)\n",
    "- [R1 7B](qc/r1.7B_pilot_fastqc.html)\n",
    "- [R1 7C](qc/r1.7C_pilot_fastqc.html)\n",
    "- [R1 8A](qc/r1.8A_pilot_fastqc.html)\n",
    "- [R1 8B](qc/r1.8B_pilot_fastqc.html)\n",
    "- [R1 8C](qc/r1.8C_pilot_fastqc.html)\n",
    "- [R1 unmatched](qc/r1.unmatched_fastqc.html)\n",
    "- [R2 7A](qc/r2.7A_pilot_fastqc.html)\n",
    "- [R2 7B](qc/r2.7B_pilot_fastqc.html)\n",
    "- [R2 7C](qc/r2.7C_pilot_fastqc.html)\n",
    "- [R2 8A](qc/r2.8A_pilot_fastqc.html)\n",
    "- [R2 8B](qc/r2.8B_pilot_fastqc.html)\n",
    "- [R2 8C](qc/r2.8C_pilot_fastqc.html)\n",
    "- [R2 unmatched](qc/r2.unmatched_fastqc.html)"
   ]
  },
  {
   "cell_type": "markdown",
   "metadata": {},
   "source": [
    "## Trimming and Filtering\n",
    "\n",
    "We need to get rid of sequences from the adapter to align against the reference genome."
   ]
  },
  {
   "cell_type": "code",
   "execution_count": 12,
   "metadata": {
    "collapsed": true
   },
   "outputs": [],
   "source": [
    "mkdir -p ${TRIM}"
   ]
  },
  {
   "cell_type": "markdown",
   "metadata": {},
   "source": [
    "### Crate an adapter file from primer information"
   ]
  },
  {
   "cell_type": "markdown",
   "metadata": {},
   "source": [
    "Get primer sequences from [NEB Manual](https://www.neb.com/~/media/Catalog/All-Products/6B6FC6C03B274E7FA0FDBF13015AB194/Datacards%20or%20Manuals/manualE7500.pdf)"
   ]
  },
  {
   "cell_type": "code",
   "execution_count": 13,
   "metadata": {},
   "outputs": [
    {
     "name": "stdout",
     "output_type": "stream",
     "text": [
      "7A_pilot\tAGTCAA\n",
      "7B_pilot\tAGTTCC\n",
      "7C_pilot\tATGTCA\n",
      "8A_pilot\tCCGTCC\n",
      "8B_pilot\tGTCCGC\n",
      "8C_pilot\tGTGAAA\n"
     ]
    }
   ],
   "source": [
    "cat ${INFO}/2015pilot_barcodes.tab"
   ]
  },
  {
   "cell_type": "markdown",
   "metadata": {},
   "source": [
    "We see that 7A_pilot uses barcode  AGTCAA which matches NEBNext Index 13 Primer for Illumina."
   ]
  },
  {
   "cell_type": "markdown",
   "metadata": {},
   "source": [
    "### Use heredoc to write FASTA file for adapter sequence"
   ]
  },
  {
   "cell_type": "code",
   "execution_count": 14,
   "metadata": {},
   "outputs": [],
   "source": [
    "cat >${INFO}/neb_adapters.fa << EOL\n",
    "> NEBNext Universal PCR Primer for Illumina\n",
    "AATGATACGGCGACCACCGAGATCTACACTCTTTCCCTACACGACGCTCTTCCGATCT\n",
    "> NEBNext Universal PCR Primer for Illumina rc\n",
    "AGATCGGAAGAGCGTCGTGTAGGGAAAGAGTGTAGATCTCGGTGGTCGCCGTATCATT\n",
    "> NEBNext Index 13 Primer for Illumina\n",
    "CAAGCAGAAGACGGCATACGAGATTGTTGACTGTGACTGGAGTTCAGACGTGTGCTCTTCCGATCT\n",
    "> NEBNext Index 13 Primer for Illumina rc\n",
    "AGATCGGAAGAGCACACGTCTGAACTCCAGTCACAGTCAACAATCTCGTATGCCGTCTTCTGCTTG\n",
    "> NEBNext Index 14 Primer for Illumina\n",
    "CAAGCAGAAGACGGCATACGAGATACGGAACTGTGACTGGAGTTCAGACGTGTGCTCTTCCGATCT\n",
    "> NEBNext Index 14 Primer for Illumina rc\n",
    "AGATCGGAAGAGCACACGTCTGAACTCCAGTCACAGTTCCGTATCTCGTATGCCGTCTTCTGCTTG\n",
    "> NEBNext Index 15 Primer for Illumina\n",
    "CAAGCAGAAGACGGCATACGAGATTCTGACATGTGACTGGAGTTCAGACGTGTGCTCTTCCGATCT\n",
    "> NEBNext Index 15 Primer for Illumina rc\n",
    "AGATCGGAAGAGCACACGTCTGAACTCCAGTCACATGTCAGAATCTCGTATGCCGTCTTCTGCTTG\n",
    "> NEBNext Index 16 Primer for Illumina\n",
    "CAAGCAGAAGACGGCATACGAGATGGACGGGTGACTGGAGTTCAGACGTGTGCTCTTCCGATCT\n",
    "> NEBNext Index 16 Primer for Illumina rc\n",
    "AGATCGGAAGAGCACACGTCTGAACTCCAGTCACCCGTCCATCTCGTATGCCGTCTTCTGCTTG\n",
    "> NEBNext Index 18 Primer for Illumina\n",
    "CAAGCAGAAGACGGCATACGAGATGTGCGGACGTGACTGGAGTTCAGACGTGTGCTCTTCCGATCT\n",
    "> NEBNext Index 18 Primer for Illumina rc\n",
    "AGATCGGAAGAGCACACGTCTGAACTCCAGTCACGTCCGCACATCTCGTATGCCGTCTTCTGCTTG\n",
    "> NEBNext Index 19 Primer for Illumina\n",
    "CAAGCAGAAGACGGCATACGAGATCGTTTCACGTGACTGGAGTTCAGACGTGTGCTCTTCCGATCT\n",
    "> NEBNext Index 19 Primer for Illumina rc\n",
    "AGATCGGAAGAGCACACGTCTGAACTCCAGTCACGTGAAACGATCTCGTATGCCGTCTTCTGCTTG\n",
    "> NEBNext Index 20 Primer for Illumina\n",
    "CAAGCAGAAGACGGCATACGAGATAAGGCCACGTGACTGGAGTTCAGACGTGTGCTCTTCCGATCT\n",
    "> NEBNext Index 20 Primer for Illumina rc\n",
    "AGATCGGAAGAGCACACGTCTGAACTCCAGTCACGTGGCCTTATCTCGTATGCCGTCTTCTGCTTG\n",
    "> NEBNext Index 21 Primer for Illumina\n",
    "CAAGCAGAAGACGGCATACGAGATTCCGAAACGTGACTGGAGTTCAGACGTGTGCTCTTCCGATCT\n",
    "> NEBNext Index 21 Primer for Illumina rc\n",
    "AGATCGGAAGAGCACACGTCTGAACTCCAGTCACGTTTCGGAATCTCGTATGCCGTCTTCTGCTTG\n",
    "> NEBNext Index 22 Primer for Illumina\n",
    "CAAGCAGAAGACGGCATACGAGATTACGTACGGTGACTGGAGTTCAGACGTGTGCTCTTCCGATCT\n",
    "> NEBNext Index 22 Primer for Illumina rc\n",
    "AGATCGGAAGAGCACACGTCTGAACTCCAGTCACCGTACGTAATCTCGTATGCCGTCTTCTGCTTG\n",
    "> NEBNext Index 23 Primer for Illumina\n",
    "CAAGCAGAAGACGGCATACGAGATATCCACTCGTGACTGGAGTTCAGACGTGTGCTCTTCCGATCT\n",
    "> NEBNext Index 23 Primer for Illumina rc\n",
    "AGATCGGAAGAGCACACGTCTGAACTCCAGTCACGAGTGGATATCTCGTATGCCGTCTTCTGCTTG\n",
    "> NEBNext Index 27 Primer for Illumina\n",
    "CAAGCAGAAGACGGCATACGAGATAAAGGAATGTGACTGGAGTTCAGACGTGTGCTCTTCCGATCT\n",
    "> NEBNext Index 27 Primer for Illumina rc\n",
    "AGATCGGAAGAGCACACGTCTGAACTCCAGTCACATTCCTTTATCTCGTATGCCGTCTTCTGCTTG\n",
    "EOL"
   ]
  },
  {
   "cell_type": "markdown",
   "metadata": {},
   "source": [
    "### Run `fastq-mcf`\n",
    "\n",
    "[fastq-mcf](https://github.com/ExpressionAnalysis/ea-utils/blob/wiki/FastqMcf.md)"
   ]
  },
  {
   "cell_type": "code",
   "execution_count": 15,
   "metadata": {},
   "outputs": [
    {
     "name": "stdout",
     "output_type": "stream",
     "text": [
      "Usage: fastq-mcf [options] <adapters.fa> <reads.fq> [mates1.fq ...] \n",
      "Version: 1.04.803\n",
      "\n",
      "Detects levels of adapter presence, computes likelihoods and\n",
      "locations (start, end) of the adapters.   Removes the adapter\n",
      "sequences from the fastq file(s).\n",
      "\n",
      "Stats go to stderr, unless -o is specified.\n",
      "\n",
      "Specify -0 to turn off all default settings\n",
      "\n",
      "If you specify multiple 'paired-end' inputs, then a -o option is\n",
      "required for each.  IE: -o read1.clip.q -o read2.clip.fq\n",
      "\n",
      "Options:\n",
      "    -h       This help\n",
      "    -o FIL   Output file (stats to stdout)\n",
      "    -O N     Only output the first N records (all)\n",
      "    -s N.N   Log scale for adapter minimum-length-match (2.2)\n",
      "    -t N     % occurance threshold before adapter clipping (0.25)\n",
      "    -m N     Minimum clip length, overrides scaled auto (1)\n",
      "    -p N     Maximum adapter difference percentage (10)\n",
      "    -l N     Minimum remaining sequence length (19)\n",
      "    -L N     Maximum remaining sequence length (none)\n",
      "    -D N     Remove duplicate reads : Read_1 has an identical N bases (0)\n",
      "    -k N     sKew percentage-less-than causing cycle removal (2)\n",
      "    -x N     'N' (Bad read) percentage causing cycle removal (20)\n",
      "    -q N     quality threshold causing base removal (10)\n",
      "    -w N     window-size for quality trimming (1)\n",
      "    -H       remove >95% homopolymer reads (no)\n",
      "    -X       remove low complexity reads (no)\n",
      "    -0       Set all default parameters to zero/do nothing\n",
      "    -U|u     Force disable/enable Illumina PF filtering (auto)\n",
      "    -P N     Phred-scale (auto)\n",
      "    -R       Don't remove N's from the fronts/ends of reads\n",
      "    -n       Don't clip, just output what would be done\n",
      "    -K       Only keep clipped reads\n",
      "    -S       Save all discarded reads to '.skip' files\n",
      "    -C N     Number of reads to use for subsampling (300k)\n",
      "    -d       Output lots of random debugging stuff\n",
      "\n",
      "Quality adjustment options:\n",
      "    --cycle-adjust      CYC,AMT   Adjust cycle CYC (negative = offset from end) by amount AMT\n",
      "    --phred-adjust      SCORE,AMT Adjust score SCORE by amount AMT\n",
      "    --phred-adjust-max  SCORE     Adjust scores > SCORE to SCOTE\n",
      "\n",
      "Filtering options*:\n",
      "    --[mate-]qual-mean  NUM       Minimum mean quality score\n",
      "    --[mate-]qual-gt    NUM,THR   At least NUM quals > THR\n",
      "    --[mate-]max-ns     NUM       Maxmium N-calls in a read (can be a %)\n",
      "    --[mate-]min-len    NUM       Minimum remaining length (same as -l)\n",
      "    --homopolymer-pct   PCT       Homopolymer filter percent (95)\n",
      "    --lowcomplex-pct    PCT       Complexity filter percent (95)\n",
      "    --keep-clipped                Only keep clipped (same as -K)\n",
      "    --max-output-reads   N        Only output first N records (same as -O)\n",
      "\n",
      "If mate- prefix is used, then applies to second non-barcode read only\n",
      "\n",
      "Adapter files are 'fasta' formatted:\n",
      "\n",
      "Specify n/a to turn off adapter clipping, and just use filters\n",
      "\n",
      "Increasing the scale makes recognition-lengths longer, a scale\n",
      "of 100 will force full-length recognition of adapters.\n",
      "\n",
      "Adapter sequences with _5p in their label will match 'end's,\n",
      "and sequences with _3p in their label will match 'start's,\n",
      "otherwise the 'end' is auto-determined.\n",
      "\n",
      "Skew is when one cycle is poor, 'skewed' toward a particular base.\n",
      "If any nucleotide is less than the skew percentage, then the\n",
      "whole cycle is removed.  Disable for methyl-seq, etc.\n",
      "\n",
      "Set the skew (-k) or N-pct (-x) to 0 to turn it off (should be done\n",
      "for miRNA, amplicon and other low-complexity situations!)\n",
      "\n",
      "Duplicate read filtering is appropriate for assembly tasks, and\n",
      "never when read length < expected coverage.  -D 50 will use\n",
      "4.5GB RAM on 100m DNA reads - be careful. Great for RNA assembly.\n",
      "\n",
      "*Quality filters are evaluated after clipping/trimming\n",
      "\n",
      "Homopolymer filtering is a subset of low-complexity, but will not\n",
      "be separately tracked unless both are turned on.\n"
     ]
    }
   ],
   "source": [
    "fastq-mcf -h | cat"
   ]
  },
  {
   "cell_type": "code",
   "execution_count": 16,
   "metadata": {},
   "outputs": [
    {
     "name": "stdout",
     "output_type": "stream",
     "text": [
      "> NEBNext Universal PCR Primer for Illumina\n",
      "AATGATACGGCGACCACCGAGATCTACACTCTTTCCCTACACGACGCTCTTCCGATCT\n",
      "> NEBNext Universal PCR Primer for Illumina rc\n",
      "AGATCGGAAGAGCGTCGTGTAGGGAAAGAGTGTAGATCTCGGTGGTCGCCGTATCATT\n",
      "> NEBNext Index 13 Primer for Illumina\n",
      "CAAGCAGAAGACGGCATACGAGATTGTTGACTGTGACTGGAGTTCAGACGTGTGCTCTTCCGATCT\n",
      "> NEBNext Index 13 Primer for Illumina rc\n",
      "AGATCGGAAGAGCACACGTCTGAACTCCAGTCACAGTCAACAATCTCGTATGCCGTCTTCTGCTTG\n",
      "> NEBNext Index 14 Primer for Illumina\n",
      "CAAGCAGAAGACGGCATACGAGATACGGAACTGTGACTGGAGTTCAGACGTGTGCTCTTCCGATCT\n",
      "> NEBNext Index 14 Primer for Illumina rc\n",
      "AGATCGGAAGAGCACACGTCTGAACTCCAGTCACAGTTCCGTATCTCGTATGCCGTCTTCTGCTTG\n",
      "> NEBNext Index 15 Primer for Illumina\n",
      "CAAGCAGAAGACGGCATACGAGATTCTGACATGTGACTGGAGTTCAGACGTGTGCTCTTCCGATCT\n",
      "> NEBNext Index 15 Primer for Illumina rc\n",
      "AGATCGGAAGAGCACACGTCTGAACTCCAGTCACATGTCAGAATCTCGTATGCCGTCTTCTGCTTG\n",
      "> NEBNext Index 16 Primer for Illumina\n",
      "CAAGCAGAAGACGGCATACGAGATGGACGGGTGACTGGAGTTCAGACGTGTGCTCTTCCGATCT\n",
      "> NEBNext Index 16 Primer for Illumina rc\n",
      "AGATCGGAAGAGCACACGTCTGAACTCCAGTCACCCGTCCATCTCGTATGCCGTCTTCTGCTTG\n",
      "> NEBNext Index 18 Primer for Illumina\n",
      "CAAGCAGAAGACGGCATACGAGATGTGCGGACGTGACTGGAGTTCAGACGTGTGCTCTTCCGATCT\n",
      "> NEBNext Index 18 Primer for Illumina rc\n",
      "AGATCGGAAGAGCACACGTCTGAACTCCAGTCACGTCCGCACATCTCGTATGCCGTCTTCTGCTTG\n",
      "> NEBNext Index 19 Primer for Illumina\n",
      "CAAGCAGAAGACGGCATACGAGATCGTTTCACGTGACTGGAGTTCAGACGTGTGCTCTTCCGATCT\n",
      "> NEBNext Index 19 Primer for Illumina rc\n",
      "AGATCGGAAGAGCACACGTCTGAACTCCAGTCACGTGAAACGATCTCGTATGCCGTCTTCTGCTTG\n",
      "> NEBNext Index 20 Primer for Illumina\n",
      "CAAGCAGAAGACGGCATACGAGATAAGGCCACGTGACTGGAGTTCAGACGTGTGCTCTTCCGATCT\n",
      "> NEBNext Index 20 Primer for Illumina rc\n",
      "AGATCGGAAGAGCACACGTCTGAACTCCAGTCACGTGGCCTTATCTCGTATGCCGTCTTCTGCTTG\n",
      "> NEBNext Index 21 Primer for Illumina\n",
      "CAAGCAGAAGACGGCATACGAGATTCCGAAACGTGACTGGAGTTCAGACGTGTGCTCTTCCGATCT\n",
      "> NEBNext Index 21 Primer for Illumina rc\n",
      "AGATCGGAAGAGCACACGTCTGAACTCCAGTCACGTTTCGGAATCTCGTATGCCGTCTTCTGCTTG\n",
      "> NEBNext Index 22 Primer for Illumina\n",
      "CAAGCAGAAGACGGCATACGAGATTACGTACGGTGACTGGAGTTCAGACGTGTGCTCTTCCGATCT\n",
      "> NEBNext Index 22 Primer for Illumina rc\n",
      "AGATCGGAAGAGCACACGTCTGAACTCCAGTCACCGTACGTAATCTCGTATGCCGTCTTCTGCTTG\n",
      "> NEBNext Index 23 Primer for Illumina\n",
      "CAAGCAGAAGACGGCATACGAGATATCCACTCGTGACTGGAGTTCAGACGTGTGCTCTTCCGATCT\n",
      "> NEBNext Index 23 Primer for Illumina rc\n",
      "AGATCGGAAGAGCACACGTCTGAACTCCAGTCACGAGTGGATATCTCGTATGCCGTCTTCTGCTTG\n",
      "> NEBNext Index 27 Primer for Illumina\n",
      "CAAGCAGAAGACGGCATACGAGATAAAGGAATGTGACTGGAGTTCAGACGTGTGCTCTTCCGATCT\n",
      "> NEBNext Index 27 Primer for Illumina rc\n",
      "AGATCGGAAGAGCACACGTCTGAACTCCAGTCACATTCCTTTATCTCGTATGCCGTCTTCTGCTTG\n"
     ]
    }
   ],
   "source": [
    "cat ${INFO}/neb_adapters.fa"
   ]
  },
  {
   "cell_type": "code",
   "execution_count": 17,
   "metadata": {},
   "outputs": [
    {
     "name": "stdout",
     "output_type": "stream",
     "text": [
      "i1.7A_pilot.fq\ti1.8C_pilot.fq\tr1.8A_pilot.fq\tr2.7B_pilot.fq\tr2.unmatched.fq\n",
      "i1.7B_pilot.fq\ti1.unmatched.fq\tr1.8B_pilot.fq\tr2.7C_pilot.fq\n",
      "i1.7C_pilot.fq\tr1.7A_pilot.fq\tr1.8C_pilot.fq\tr2.8A_pilot.fq\n",
      "i1.8A_pilot.fq\tr1.7B_pilot.fq\tr1.unmatched.fq\tr2.8B_pilot.fq\n",
      "i1.8B_pilot.fq\tr1.7C_pilot.fq\tr2.7A_pilot.fq\tr2.8C_pilot.fq\n"
     ]
    }
   ],
   "source": [
    "ls ${DEMUX}"
   ]
  },
  {
   "cell_type": "code",
   "execution_count": 18,
   "metadata": {},
   "outputs": [
    {
     "name": "stdout",
     "output_type": "stream",
     "text": [
      "[1] 27641\n",
      "[2] 27642\n",
      "[3] 27643\n",
      "[4] 27644\n",
      "[5] 27645\n",
      "[6] 27646\n",
      "Command Line: /Volumes/HD2/data/HTS/info/neb_adapters.fa -q 20 -x 0.5 /Volumes/HD2/data/HTS/demux/r1.7A_pilot.fq /Volumes/HD2/data/HTS/demux/r2.7A_pilot.fq -o /Volumes/HD2/data/HTS/trim/r1.7A_pilot_trim.fq -o /Volumes/HD2/data/HTS/trim/r2.7A_pilot_trim.fq\n",
      "Scale used: 2.2\n",
      "Command Line: /Volumes/HD2/data/HTS/info/neb_adapters.fa -q 20 -x 0.5 /Volumes/HD2/data/HTS/demux/r1.7B_pilot.fq /Volumes/HD2/data/HTS/demux/r2.7B_pilot.fq -o /Volumes/HD2/data/HTS/trim/r1.7B_pilot_trim.fq -o /Volumes/HD2/data/HTS/trim/r2.7B_pilot_trim.fq\n",
      "Scale used: 2.2\n",
      "Command Line: /Volumes/HD2/data/HTS/info/neb_adapters.fa -q 20 -x 0.5 /Volumes/HD2/data/HTS/demux/r1.7C_pilot.fq /Volumes/HD2/data/HTS/demux/r2.7C_pilot.fq -o /Volumes/HD2/data/HTS/trim/r1.7C_pilot_trim.fq -o /Volumes/HD2/data/HTS/trim/r2.7C_pilot_trim.fq\n",
      "Command Line: /Volumes/HD2/data/HTS/info/neb_adapters.fa -q 20 -x 0.5 /Volumes/HD2/data/HTS/demux/r1.8A_pilot.fq /Volumes/HD2/data/HTS/demux/r2.8A_pilot.fq -o /Volumes/HD2/data/HTS/trim/r1.8A_pilot_trim.fq -o /Volumes/HScale used: 2.2\n",
      "D2/data/HTS/trim/r2.8A_pilot_trim.fq\n",
      "Command Line: /Volumes/HD2/data/HTS/info/neb_adapters.fa -q 20 -x 0.5 /Volumes/HD2/data/HTS/demux/r1.8B_pilot.fq /Volumes/HD2/data/HTS/demux/r2.8B_pilot.fq -o /Volumes/HD2/data/HTS/trim/r1.8B_pilot_trim.fq -o /Volumes/HD2/data/HTS/trim/r2.8B_pilot_trim.fq\n",
      "Command Line: /Volumes/HD2/data/HTS/info/neb_adapters.fa -q 20 -x 0.5 /Volumes/HD2/data/HTS/demux/r1.8C_pilot.fq /Volumes/HD2/data/HTS/demux/r2.8C_pilot.fq -o /Volumes/HD2/data/HTS/trim/r1.8C_pilot_trim.fq -o /Volumes/HD2/data/HTS/trim/r2.8C_pilot_trim.fq\n",
      "Scale used: 2.2\n",
      "Scale used: 2.2\n",
      "Scale used: 2.2\n",
      "Phred: 33\n",
      "Phred: 33\n",
      "Phred: 33\n",
      "Phred: 33\n",
      "Phred: 33\n",
      "Phred: 33\n",
      "Threshold used: 751 out of 300000\n",
      "Adapter NEBNext Universal PCR Primer for Illumina rc (AGATCGGAAGAGCGTCGTGTAGGGAAAGAGTGTAGATCTCGGTGGTCGCCGTATCATT): counted 1819 at the 'end' of '/Volumes/HD2/data/HTS/demux/r2.7B_pilot.fq', clip set to 6\n",
      "Adapter NEBNext Index 13 Primer for Illumina rc (AGATCGGAAGAGCACACGTCTGAACTCCAGTCACAGTCAACAATCTCGTATGCCGTCTTCTGCTTG): counted 1674 at the 'end' of '/Volumes/HD2/data/HTS/demux/r1.7B_pilot.fq', clip set to 6\n",
      "Adapter NEBNext Index 14 Primer for Illumina rc (AGATCGGAAGAGCACACGTCTGAACTCCAGTCACAGTTCCGTATCTCGTATGCCGTCTTCTGCTTG): counted 1674 at the 'end' of '/Volumes/HD2/data/HTS/demux/r1.7B_pilot.fq', clip set to 6\n",
      "Adapter NEBNext Index 15 Primer for Illumina rc (AGATCGGAAGAGCACACGTCTGAACTCCAGTCACATGTCAGAATCTCGTATGCCGTCTTCTGCTTG): counted 1674 at the 'end' of '/Volumes/HD2/data/HTS/demux/r1.7B_pilot.fq', clip set to 6\n",
      "Adapter NEBNext Index 16 Primer for Illumina rc (AGATCGGAAGAGCACACGTCTGAACTCCAGTCACCCGTCCATCTCGTATGCCGTCTTCTGCTTG): counted 1674 at the 'end' of '/Volumes/HD2/data/HTS/demux/r1.7B_pilot.fq', clip set to 6\n",
      "Adapter NEBNext Index 18 Primer for Illumina rc (AGATCGGAAGAGCACACGTCTGAACTCCAGTCACGTCCGCACATCTCGTATGCCGTCTTCTGCTTG): counted 1674 at the 'end' of '/Volumes/HD2/data/HTS/demux/r1.7B_pilot.fq', clip set to 6\n",
      "Adapter NEBNext Index 19 Primer for Illumina rc (AGATCGGAAGAGCACACGTCTGAACTCCAGTCACGTGAAACGATCTCGTATGCCGTCTTCTGCTTG): counted 1674 at the 'end' of '/Volumes/HD2/data/HTS/demux/r1.7B_pilot.fq', clip set to 6\n",
      "Adapter NEBNext Index 20 Primer for Illumina rc (AGATCGGAAGAGCACACGTCTGAACTCCAGTCACGTGGCCTTATCTCGTATGCCGTCTTCTGCTTG): counted 1674 at the 'end' of '/Volumes/HD2/data/HTS/demux/r1.7B_pilot.fq', clip set to 6\n",
      "Adapter NEBNext Index 21 Primer for Illumina rc (AGATCGGAAGAGCACACGTCTGAACTCCAGTCACGTTTCGGAATCTCGTATGCCGTCTTCTGCTTG): counted 1674 at the 'end' of '/Volumes/HD2/data/HTS/demux/r1.7B_pilot.fq', clip set to 6\n",
      "Adapter NEBNext Index 22 Primer for Illumina rc (AGATCGGAAGAGCACACGTCTGAACTCCAGTCACCGTACGTAATCTCGTATGCCGTCTTCTGCTTG): counted 1674 at the 'end' of '/Volumes/HD2/data/HTS/demux/r1.7B_pilot.fq', clip set to 6\n",
      "Adapter NEBNext Index 23 Primer for Illumina rc (AGATCGGAAGAGCACACGTCTGAACTCCAGTCACGAGTGGATATCTCGTATGCCGTCTTCTGCTTG): counted 1674 at the 'end' of '/Volumes/HD2/data/HTS/demux/r1.7B_pilot.fq', clip set to 6\n",
      "Adapter NEBNext Index 27 Primer for Illumina rc (AGATCGGAAGAGCACACGTCTGAACTCCAGTCACATTCCTTTATCTCGTATGCCGTCTTCTGCTTG): counted 1674 at the 'end' of '/Volumes/HD2/data/HTS/demux/r1.7B_pilot.fq', clip set to 6\n",
      "Files: 2\n",
      "Threshold used: 751 out of 300000\n",
      "Adapter NEBNext Universal PCR Primer for Illumina rc (AGATCGGAAGAGCGTCGTGTAGGGAAAGAGTGTAGATCTCGGTGGTCGCCGTATCATT): counted 1002 at the 'end' of '/Volumes/HD2/data/HTS/demux/r2.7A_pilot.fq', clip set to 7\n",
      "Adapter NEBNext Index 13 Primer for Illumina rc (AGATCGGAAGAGCACACGTCTGAACTCCAGTCACAGTCAACAATCTCGTATGCCGTCTTCTGCTTG): counted 927 at the 'end' of '/Volumes/HD2/data/HTS/demux/r1.7A_pilot.fq', clip set to 7\n",
      "Adapter NEBNext Index 14 Primer for Illumina rc (AGATCGGAAGAGCACACGTCTGAACTCCAGTCACAGTTCCGTATCTCGTATGCCGTCTTCTGCTTG): counted 927 at the 'end' of '/Volumes/HD2/data/HTS/demux/r1.7A_pilot.fq', clip set to 7\n",
      "Adapter NEBNext Index 15 Primer for Illumina rc (AGATCGGAAGAGCACACGTCTGAACTCCAGTCACATGTCAGAATCTCGTATGCCGTCTTCTGCTTG): counted 927 at the 'end' of '/Volumes/HD2/data/HTS/demux/r1.7A_pilot.fq', clip set to 7\n",
      "Adapter NEBNext Index 16 Primer for Illumina rc (AGATCGGAAGAGCACACGTCTGAACTCCAGTCACCCGTCCATCTCGTATGCCGTCTTCTGCTTG): counted 927 at the 'end' of '/Volumes/HD2/data/HTS/demux/r1.7A_pilot.fq', clip set to 7\n",
      "Adapter NEBNext Index 18 Primer for Illumina rc (AGATCGGAAGAGCACACGTCTGAACTCCAGTCACGTCCGCACATCTCGTATGCCGTCTTCTGCTTG): counted 927 at the 'end' of '/Volumes/HD2/data/HTS/demux/r1.7A_pilot.fq', clip set to 7\n",
      "Adapter NEBNext Index 19 Primer for Illumina rc (AGATCGGAAGAGCACACGTCTGAACTCCAGTCACGTGAAACGATCTCGTATGCCGTCTTCTGCTTG): counted 927 at the 'end' of '/Volumes/HD2/data/HTS/demux/r1.7A_pilot.fq', clip set to 7\n",
      "Adapter NEBNext Index 20 Primer for Illumina rc (AGATCGGAAGAGCACACGTCTGAACTCCAGTCACGTGGCCTTATCTCGTATGCCGTCTTCTGCTTG): counted 927 at the 'end' of '/Volumes/HD2/data/HTS/demux/r1.7A_pilot.fq', clip set to 7\n",
      "Adapter NEBNext Index 21 Primer for Illumina rc (AGATCGGAAGAGCACACGTCTGAACTCCAGTCACGTTTCGGAATCTCGTATGCCGTCTTCTGCTTG): counted 927 at the 'end' of '/Volumes/HD2/data/HTS/demux/r1.7A_pilot.fq', clip set to 7\n",
      "Adapter NEBNext Index 22 Primer for Illumina rc (AGATCGGAAGAGCACACGTCTGAACTCCAGTCACCGTACGTAATCTCGTATGCCGTCTTCTGCTTG): counted 927 at the 'end' of '/Volumes/HD2/data/HTS/demux/r1.7A_pilot.fq', clip set to 7\n",
      "Adapter NEBNext Index 23 Primer for Illumina rc (AGATCGGAAGAGCACACGTCTGAACTCCAGTCACGAGTGGATATCTCGTATGCCGTCTTCTGCTTG): counted 927 at the 'end' of '/Volumes/HD2/data/HTS/demux/r1.7A_pilot.fq', clip set to 7\n",
      "Adapter NEBNext Index 27 Primer for Illumina rc (AGATCGGAAGAGCACACGTCTGAACTCCAGTCACATTCCTTTATCTCGTATGCCGTCTTCTGCTTG): counted 927 at the 'end' of '/Volumes/HD2/data/HTS/demux/r1.7A_pilot.fq', clip set to 7\n",
      "Files: 2\n",
      "Threshold used: 751 out of 300000\n",
      "Adapter NEBNext Universal PCR Primer for Illumina rc (AGATCGGAAGAGCGTCGTGTAGGGAAAGAGTGTAGATCTCGGTGGTCGCCGTATCATT): counted 1850 at the 'end' of '/Volumes/HD2/data/HTS/demux/r2.7C_pilot.fq', clip set to 6\n",
      "Adapter NEBNext Index 13 Primer for Illumina rc (AGATCGGAAGAGCACACGTCTGAACTCCAGTCACAGTCAACAATCTCGTATGCCGTCTTCTGCTTG): counted 1704 at the 'end' of '/Volumes/HD2/data/HTS/demux/r1.7C_pilot.fq', clip set to 6\n",
      "Adapter NEBNext Index 14 Primer for Illumina rc (AGATCGGAAGAGCACACGTCTGAACTCCAGTCACAGTTCCGTATCTCGTATGCCGTCTTCTGCTTG): counted 1704 at the 'end' of '/Volumes/HD2/data/HTS/demux/r1.7C_pilot.fq', clip set to 6\n",
      "Adapter NEBNext Index 15 Primer for Illumina rc (AGATCGGAAGAGCACACGTCTGAACTCCAGTCACATGTCAGAATCTCGTATGCCGTCTTCTGCTTG): counted 1704 at the 'end' of '/Volumes/HD2/data/HTS/demux/r1.7C_pilot.fq', clip set to 6\n",
      "Adapter NEBNext Index 16 Primer for Illumina rc (AGATCGGAAGAGCACACGTCTGAACTCCAGTCACCCGTCCATCTCGTATGCCGTCTTCTGCTTG): counted 1704 at the 'end' of '/Volumes/HD2/data/HTS/demux/r1.7C_pilot.fq', clip set to 6\n",
      "Adapter NEBNext Index 18 Primer for Illumina rc (AGATCGGAAGAGCACACGTCTGAACTCCAGTCACGTCCGCACATCTCGTATGCCGTCTTCTGCTTG): counted 1704 at the 'end' of '/Volumes/HD2/data/HTS/demux/r1.7C_pilot.fq', clip set to 6\n",
      "Adapter NEBNext Index 19 Primer for Illumina rc (AGATCGGAAGAGCACACGTCTGAACTCCAGTCACGTGAAACGATCTCGTATGCCGTCTTCTGCTTG): counted 1704 at the 'end' of '/Volumes/HD2/data/HTS/demux/r1.7C_pilot.fq', clip set to 6\n"
     ]
    },
    {
     "name": "stdout",
     "output_type": "stream",
     "text": [
      "Adapter NEBNext Index 20 Primer for Illumina rc (AGATCGGAAGAGCACACGTCTGAACTCCAGTCACGTGGCCTTATCTCGTATGCCGTCTTCTGCTTG): counted 1704 at the 'end' of '/Volumes/HD2/data/HTS/demux/r1.7C_pilot.fq', clip set to 6\n",
      "Adapter NEBNext Index 21 Primer for Illumina rc (AGATCGGAAGAGCACACGTCTGAACTCCAGTCACGTTTCGGAATCTCGTATGCCGTCTTCTGCTTG): counted 1704 at the 'end' of '/Volumes/HD2/data/HTS/demux/r1.7C_pilot.fq', clip set to 6\n",
      "Adapter NEBNext Index 22 Primer for Illumina rc (AGATCGGAAGAGCACACGTCTGAACTCCAGTCACCGTACGTAATCTCGTATGCCGTCTTCTGCTTG): counted 1704 at the 'end' of '/Volumes/HD2/data/HTS/demux/r1.7C_pilot.fq', clip set to 6\n",
      "Adapter NEBNext Index 23 Primer for Illumina rc (AGATCGGAAGAGCACACGTCTGAACTCCAGTCACGAGTGGATATCTCGTATGCCGTCTTCTGCTTG): counted 1704 at the 'end' of '/Volumes/HD2/data/HTS/demux/r1.7C_pilot.fq', clip set to 6\n",
      "Adapter NEBNext Index 27 Primer for Illumina rc (AGATCGGAAGAGCACACGTCTGAACTCCAGTCACATTCCTTTATCTCGTATGCCGTCTTCTGCTTG): counted 1704 at the 'end' of '/Volumes/HD2/data/HTS/demux/r1.7C_pilot.fq', clip set to 6\n",
      "Files: 2\n",
      "Threshold used: 751 out of 300000\n",
      "Adapter NEBNext Universal PCR Primer for Illumina rc (AGATCGGAAGAGCGTCGTGTAGGGAAAGAGTGTAGATCTCGGTGGTCGCCGTATCATT): counted 1132 at the 'end' of '/Volumes/HD2/data/HTS/demux/r2.8C_pilot.fq', clip set to 7\n",
      "Adapter NEBNext Index 13 Primer for Illumina rc (AGATCGGAAGAGCACACGTCTGAACTCCAGTCACAGTCAACAATCTCGTATGCCGTCTTCTGCTTG): counted 1037 at the 'end' of '/Volumes/HD2/data/HTS/demux/r1.8C_pilot.fq', clip set to 7\n",
      "Adapter NEBNext Index 14 Primer for Illumina rc (AGATCGGAAGAGCACACGTCTGAACTCCAGTCACAGTTCCGTATCTCGTATGCCGTCTTCTGCTTG): counted 1037 at the 'end' of '/Volumes/HD2/data/HTS/demux/r1.8C_pilot.fq', clip set to 7\n",
      "Adapter NEBNext Index 15 Primer for Illumina rc (AGATCGGAAGAGCACACGTCTGAACTCCAGTCACATGTCAGAATCTCGTATGCCGTCTTCTGCTTG): counted 1037 at the 'end' of '/Volumes/HD2/data/HTS/demux/r1.8C_pilot.fq', clip set to 7\n",
      "Adapter NEBNext Index 16 Primer for Illumina rc (AGATCGGAAGAGCACACGTCTGAACTCCAGTCACCCGTCCATCTCGTATGCCGTCTTCTGCTTG): counted 1037 at the 'end' of '/Volumes/HD2/data/HTS/demux/r1.8C_pilot.fq', clip set to 7\n",
      "Adapter NEBNext Index 18 Primer for Illumina rc (AGATCGGAAGAGCACACGTCTGAACTCCAGTCACGTCCGCACATCTCGTATGCCGTCTTCTGCTTG): counted 1037 at the 'end' of '/Volumes/HD2/data/HTS/demux/r1.8C_pilot.fq', clip set to 7\n",
      "Adapter NEBNext Index 19 Primer for Illumina rc (AGATCGGAAGAGCACACGTCTGAACTCCAGTCACGTGAAACGATCTCGTATGCCGTCTTCTGCTTG): counted 1037 at the 'end' of '/Volumes/HD2/data/HTS/demux/r1.8C_pilot.fq', clip set to 7\n",
      "Adapter NEBNext Index 20 Primer for Illumina rc (AGATCGGAAGAGCACACGTCTGAACTCCAGTCACGTGGCCTTATCTCGTATGCCGTCTTCTGCTTG): counted 1037 at the 'end' of '/Volumes/HD2/data/HTS/demux/r1.8C_pilot.fq', clip set to 7\n",
      "Adapter NEBNext Index 21 Primer for Illumina rc (AGATCGGAAGAGCACACGTCTGAACTCCAGTCACGTTTCGGAATCTCGTATGCCGTCTTCTGCTTG): counted 1037 at the 'end' of '/Volumes/HD2/data/HTS/demux/r1.8C_pilot.fq', clip set to 7\n",
      "Adapter NEBNext Index 22 Primer for Illumina rc (AGATCGGAAGAGCACACGTCTGAACTCCAGTCACCGTACGTAATCTCGTATGCCGTCTTCTGCTTG): counted 1037 at the 'end' of '/Volumes/HD2/data/HTS/demux/r1.8C_pilot.fq', clip set to 7\n",
      "Adapter NEBNext Index 23 Primer for Illumina rc (AGATCGGAAGAGCACACGTCTGAACTCCAGTCACGAGTGGATATCTCGTATGCCGTCTTCTGCTTG): counted 1037 at the 'end' of '/Volumes/HD2/data/HTS/demux/r1.8C_pilot.fq', clip set to 7\n",
      "Adapter NEBNext Index 27 Primer for Illumina rc (AGATCGGAAGAGCACACGTCTGAACTCCAGTCACATTCCTTTATCTCGTATGCCGTCTTCTGCTTG): counted 1037 at the 'end' of '/Volumes/HD2/data/HTS/demux/r1.8C_pilot.fq', clip set to 7\n",
      "Files: 2\n",
      "Trim 'start': 1 from /Volumes/HD2/data/HTS/demux/r2.8A_pilot.fq\n",
      "Threshold used: 751 out of 300000\n",
      "Adapter NEBNext Universal PCR Primer for Illumina rc (AGATCGGAAGAGCGTCGTGTAGGGAAAGAGTGTAGATCTCGGTGGTCGCCGTATCATT): counted 1143 at the 'end' of '/Volumes/HD2/data/HTS/demux/r2.8A_pilot.fq', clip set to 7\n",
      "Adapter NEBNext Index 13 Primer for Illumina rc (AGATCGGAAGAGCACACGTCTGAACTCCAGTCACAGTCAACAATCTCGTATGCCGTCTTCTGCTTG): counted 1028 at the 'end' of '/Volumes/HD2/data/HTS/demux/r1.8A_pilot.fq', clip set to 7\n",
      "Adapter NEBNext Index 14 Primer for Illumina rc (AGATCGGAAGAGCACACGTCTGAACTCCAGTCACAGTTCCGTATCTCGTATGCCGTCTTCTGCTTG): counted 1028 at the 'end' of '/Volumes/HD2/data/HTS/demux/r1.8A_pilot.fq', clip set to 7\n",
      "Adapter NEBNext Index 15 Primer for Illumina rc (AGATCGGAAGAGCACACGTCTGAACTCCAGTCACATGTCAGAATCTCGTATGCCGTCTTCTGCTTG): counted 1028 at the 'end' of '/Volumes/HD2/data/HTS/demux/r1.8A_pilot.fq', clip set to 7\n",
      "Adapter NEBNext Index 16 Primer for Illumina rc (AGATCGGAAGAGCACACGTCTGAACTCCAGTCACCCGTCCATCTCGTATGCCGTCTTCTGCTTG): counted 1028 at the 'end' of '/Volumes/HD2/data/HTS/demux/r1.8A_pilot.fq', clip set to 7\n",
      "Adapter NEBNext Index 18 Primer for Illumina rc (AGATCGGAAGAGCACACGTCTGAACTCCAGTCACGTCCGCACATCTCGTATGCCGTCTTCTGCTTG): counted 1028 at the 'end' of '/Volumes/HD2/data/HTS/demux/r1.8A_pilot.fq', clip set to 7\n",
      "Adapter NEBNext Index 19 Primer for Illumina rc (AGATCGGAAGAGCACACGTCTGAACTCCAGTCACGTGAAACGATCTCGTATGCCGTCTTCTGCTTG): counted 1028 at the 'end' of '/Volumes/HD2/data/HTS/demux/r1.8A_pilot.fq', clip set to 7\n",
      "Adapter NEBNext Index 20 Primer for Illumina rc (AGATCGGAAGAGCACACGTCTGAACTCCAGTCACGTGGCCTTATCTCGTATGCCGTCTTCTGCTTG): counted 1028 at the 'end' of '/Volumes/HD2/data/HTS/demux/r1.8A_pilot.fq', clip set to 7\n",
      "Adapter NEBNext Index 21 Primer for Illumina rc (AGATCGGAAGAGCACACGTCTGAACTCCAGTCACGTTTCGGAATCTCGTATGCCGTCTTCTGCTTG): counted 1028 at the 'end' of '/Volumes/HD2/data/HTS/demux/r1.8A_pilot.fq', clip set to 7\n",
      "Adapter NEBNext Index 22 Primer for Illumina rc (AGATCGGAAGAGCACACGTCTGAACTCCAGTCACCGTACGTAATCTCGTATGCCGTCTTCTGCTTG): counted 1028 at the 'end' of '/Volumes/HD2/data/HTS/demux/r1.8A_pilot.fq', clip set to 7\n",
      "Adapter NEBNext Index 23 Primer for Illumina rc (AGATCGGAAGAGCACACGTCTGAACTCCAGTCACGAGTGGATATCTCGTATGCCGTCTTCTGCTTG): counted 1028 at the 'end' of '/Volumes/HD2/data/HTS/demux/r1.8A_pilot.fq', clip set to 7\n",
      "Adapter NEBNext Index 27 Primer for Illumina rc (AGATCGGAAGAGCACACGTCTGAACTCCAGTCACATTCCTTTATCTCGTATGCCGTCTTCTGCTTG): counted 1028 at the 'end' of '/Volumes/HD2/data/HTS/demux/r1.8A_pilot.fq', clip set to 7\n",
      "Files: 2\n",
      "Threshold used: 751 out of 300000\n",
      "Files: 2\n",
      "Total reads: 1480948\n",
      "Too short after clip: 1\n",
      "Trimmed 85286 reads (/Volumes/HD2/data/HTS/demux/r1.8B_pilot.fq) by an average of 1.41 bases on quality < 20\n",
      "Trimmed 151055 reads (/Volumes/HD2/data/HTS/demux/r2.8B_pilot.fq) by an average of 1.65 bases on quality < 20\n",
      "Total reads: 1238935\n",
      "Too short after clip: 118\n",
      "Clipped 'end' reads (/Volumes/HD2/data/HTS/demux/r1.8C_pilot.fq): Count 11033, Mean: 15.80, Sd: 9.70\n",
      "Trimmed 72133 reads (/Volumes/HD2/data/HTS/demux/r1.8C_pilot.fq) by an average of 1.68 bases on quality < 20\n",
      "Clipped 'end' reads (/Volumes/HD2/data/HTS/demux/r2.8C_pilot.fq): Count 10782, Mean: 16.29, Sd: 9.96\n",
      "Trimmed 127347 reads (/Volumes/HD2/data/HTS/demux/r2.8C_pilot.fq) by an average of 1.92 bases on quality < 20\n",
      "Total reads: 1242748\n",
      "Too short after clip: 3\n",
      "Clipped 'end' reads (/Volumes/HD2/data/HTS/demux/r1.8A_pilot.fq): Count 11810, Mean: 14.92, Sd: 8.38\n",
      "Trimmed 66963 reads (/Volumes/HD2/data/HTS/demux/r1.8A_pilot.fq) by an average of 1.39 bases on quality < 20\n",
      "Clipped 'end' reads (/Volumes/HD2/data/HTS/demux/r2.8A_pilot.fq): Count 11602, Mean: 15.56, Sd: 9.06\n",
      "Trimmed 100289 reads (/Volumes/HD2/data/HTS/demux/r2.8A_pilot.fq) by an average of 1.66 bases on quality < 20\n",
      "Total reads: 1303312\n",
      "Too short after clip: 40\n",
      "Clipped 'end' reads (/Volumes/HD2/data/HTS/demux/r1.7A_pilot.fq): Count 9337, Mean: 17.47, Sd: 11.92\n",
      "Trimmed 73349 reads (/Volumes/HD2/data/HTS/demux/r1.7A_pilot.fq) by an average of 1.48 bases on quality < 20\n",
      "Clipped 'end' reads (/Volumes/HD2/data/HTS/demux/r2.7A_pilot.fq): Count 9002, Mean: 17.99, Sd: 11.99\n",
      "Trimmed 126522 reads (/Volumes/HD2/data/HTS/demux/r2.7A_pilot.fq) by an average of 1.74 bases on quality < 20\n",
      "[1]   Done                    fastq-mcf ${INFO}/neb_adapters.fa -q 20 -x 0.5 ${DEMUX}/${f} ${DEMUX}/${f2} -o ${TRIM}/${fn} -o ${TRIM}/${fn2}\n",
      "[4]   Done                    fastq-mcf ${INFO}/neb_adapters.fa -q 20 -x 0.5 ${DEMUX}/${f} ${DEMUX}/${f2} -o ${TRIM}/${fn} -o ${TRIM}/${fn2}\n",
      "[5]-  Done                    fastq-mcf ${INFO}/neb_adapters.fa -q 20 -x 0.5 ${DEMUX}/${f} ${DEMUX}/${f2} -o ${TRIM}/${fn} -o ${TRIM}/${fn2}\n"
     ]
    },
    {
     "name": "stdout",
     "output_type": "stream",
     "text": [
      "[6]+  Done                    fastq-mcf ${INFO}/neb_adapters.fa -q 20 -x 0.5 ${DEMUX}/${f} ${DEMUX}/${f2} -o ${TRIM}/${fn} -o ${TRIM}/${fn2}\n",
      "Total reads: 1689864\n",
      "Too short after clip: 31\n",
      "Clipped 'end' reads (/Volumes/HD2/data/HTS/demux/r1.7C_pilot.fq): Count 23722, Mean: 16.36, Sd: 11.31\n",
      "Trimmed 92896 reads (/Volumes/HD2/data/HTS/demux/r1.7C_pilot.fq) by an average of 1.44 bases on quality < 20\n",
      "Clipped 'end' reads (/Volumes/HD2/data/HTS/demux/r2.7C_pilot.fq): Count 23086, Mean: 16.79, Sd: 11.49\n",
      "Trimmed 175742 reads (/Volumes/HD2/data/HTS/demux/r2.7C_pilot.fq) by an average of 1.69 bases on quality < 20\n",
      "Total reads: 1828191\n",
      "Too short after clip: 20\n",
      "Clipped 'end' reads (/Volumes/HD2/data/HTS/demux/r1.7B_pilot.fq): Count 24549, Mean: 16.19, Sd: 11.01\n",
      "Trimmed 100838 reads (/Volumes/HD2/data/HTS/demux/r1.7B_pilot.fq) by an average of 1.42 bases on quality < 20\n",
      "Clipped 'end' reads (/Volumes/HD2/data/HTS/demux/r2.7B_pilot.fq): Count 23954, Mean: 16.66, Sd: 11.21\n",
      "Trimmed 181623 reads (/Volumes/HD2/data/HTS/demux/r2.7B_pilot.fq) by an average of 1.66 bases on quality < 20\n",
      "[2]-  Done                    fastq-mcf ${INFO}/neb_adapters.fa -q 20 -x 0.5 ${DEMUX}/${f} ${DEMUX}/${f2} -o ${TRIM}/${fn} -o ${TRIM}/${fn2}\n",
      "[3]+  Done                    fastq-mcf ${INFO}/neb_adapters.fa -q 20 -x 0.5 ${DEMUX}/${f} ${DEMUX}/${f2} -o ${TRIM}/${fn} -o ${TRIM}/${fn2}\n"
     ]
    }
   ],
   "source": [
    "for f in $(ls ${DEMUX}/*r1*pilot* | xargs -n 1 basename) \n",
    "do\n",
    "    f2=${f/r1/r2}\n",
    "    fn=${f/pilot/pilot_trim}\n",
    "    fn2=${f2/pilot/pilot_trim}\n",
    "    fastq-mcf ${INFO}/neb_adapters.fa -q 20 -x 0.5 \\\n",
    "        ${DEMUX}/${f} ${DEMUX}/${f2} \\\n",
    "        -o ${TRIM}/${fn} -o ${TRIM}/${fn2} &\n",
    "done\n",
    "wait"
   ]
  },
  {
   "cell_type": "markdown",
   "metadata": {},
   "source": [
    "### Recheck quality"
   ]
  },
  {
   "cell_type": "code",
   "execution_count": 19,
   "metadata": {},
   "outputs": [],
   "source": [
    "fastqc --threads 8 -q ${TRIM}/r*fq -o ${QC}"
   ]
  },
  {
   "cell_type": "markdown",
   "metadata": {},
   "source": [
    "#### Compare reports\n",
    "\n",
    "- [R1 8A original](qc/r1.8A_pilot_fastqc.html)\n",
    "- [R1 8A trimmed](qc/r1.8A_pilot_trim_fastqc.html)\n",
    "- [R2 8A original](qc/r2.8A_pilot_fastqc.html)\n",
    "- [R2 8A trimmed](qc/r2.8A_pilot_trim_fastqc.html)"
   ]
  },
  {
   "cell_type": "markdown",
   "metadata": {},
   "source": [
    "## Map reads to reference genome"
   ]
  },
  {
   "cell_type": "code",
   "execution_count": 20,
   "metadata": {
    "collapsed": true
   },
   "outputs": [],
   "source": [
    "mkdir -p ${REF} ${ALIGN}"
   ]
  },
  {
   "cell_type": "markdown",
   "metadata": {},
   "source": [
    "### Download reference sequence and annotation from NCBI\n",
    "\n",
    "The genome sequence GCA_000010245.1_ASM1024v1_genomic.fna.gz (.fna is short for FASTA nucleic acid, .gz means its gzipped) - \n",
    "ftp://ftp.ncbi.nlm.nih.gov/genomes/all/GCA/000/010/245/GCA_000010245.1_ASM1024v1/GCA_000010245.1_ASM1024v1_genomic.fna.gz\n",
    "\n",
    "The genome annotation GCA_000010245.1_ASM1024v1_genomic.gff.gz (.gff is Generic Feature Format) ftp://ftp.ncbi.nlm.nih.gov/genomes/all/GCA/000/010/245/GCA_000010245.1_ASM1024v1/GCA_000010245.1_ASM1024v1_genomic.gff.gz"
   ]
  },
  {
   "cell_type": "code",
   "execution_count": 21,
   "metadata": {},
   "outputs": [
    {
     "name": "stdout",
     "output_type": "stream",
     "text": [
      "  % Total    % Received % Xferd  Average Speed   Time    Time     Time  Current\n",
      "                                 Dload  Upload   Total   Spent    Left  Speed\n",
      "100 1348k  100 1348k    0     0  2129k      0 --:--:-- --:--:-- --:--:-- 2131k\n"
     ]
    }
   ],
   "source": [
    "curl -o ${REF}/ecoli_w3110.fa.gz \\\n",
    "ftp://ftp.ncbi.nlm.nih.gov/genomes/all/GCA/000/010/245/GCA_000010245.1_ASM1024v1/GCA_000010245.1_ASM1024v1_genomic.fna.gz"
   ]
  },
  {
   "cell_type": "code",
   "execution_count": 22,
   "metadata": {},
   "outputs": [
    {
     "name": "stdout",
     "output_type": "stream",
     "text": [
      "  % Total    % Received % Xferd  Average Speed   Time    Time     Time  Current\n",
      "                                 Dload  Upload   Total   Spent    Left  Speed\n",
      "100  274k  100  274k    0     0   280k      0 --:--:-- --:--:-- --:--:--  280k\n"
     ]
    }
   ],
   "source": [
    "curl -o ${REF}/ecoli_w3110.gff.gz \\\n",
    "ftp://ftp.ncbi.nlm.nih.gov/genomes/all/GCA/000/010/245/GCA_000010245.1_ASM1024v1/GCA_000010245.1_ASM1024v1_genomic.gff.gz"
   ]
  },
  {
   "cell_type": "code",
   "execution_count": 23,
   "metadata": {},
   "outputs": [],
   "source": [
    "gunzip ${REF}/ecoli_w3110.fa.gz ${REF}/ecoli_w3110.gff.gz "
   ]
  },
  {
   "cell_type": "code",
   "execution_count": 24,
   "metadata": {},
   "outputs": [
    {
     "name": "stdout",
     "output_type": "stream",
     "text": [
      ">AP009048.1 Escherichia coli str. K-12 substr. W3110 DNA, complete genome\n",
      "AGCTTTTCATTCTGACTGCAACGGGCAATATGTCTCTGTGTGGATTAAAAAAAGAGTGTCTGATAGCAGCTTCTGAACTG\n",
      "GTTACCTGCCGTGAGTAAATTAAAATTTTATTGACTTAGGTCACTAAATACTTTAACCAATATAGGCATAGCGCACAGAC\n",
      "AGATAAAAATTACAGAGTACACAACATCCATGAAACGCATTAGCACCACCATTACCACCACCATCACCATTACCACAGGT\n",
      "AACGGTGCGGGCTGACGCGTACAGGAAACACAGAAAAAAGCCCGCACCTGACAGTGCGGGCTTTTTTTTTCGACCAAAGG\n",
      "TAACGAGGTAACAACCATGCGAGTGTTGAAGTTCGGCGGTACATCAGTGGCAAATGCAGAACGTTTTCTGCGTGTTGCCG\n",
      "ATATTCTGGAAAGCAATGCCAGGCAGGGGCAGGTGGCCACCGTCCTCTCTGCCCCCGCCAAAATCACCAACCACCTGGTG\n",
      "GCGATGATTGAAAAAACCATTAGCGGCCAGGATGCTTTACCCAATATCAGCGATGCCGAACGTATTTTTGCCGAACTTTT\n",
      "GACGGGACTCGCCGCCGCCCAGCCGGGGTTCCCGCTGGCGCAATTGAAAACTTTCGTCGATCAGGAATTTGCCCAAATAA\n",
      "AACATGTCCTGCATGGCATTAGTTTGTTGGGGCAGTGCCCGGATAGCATCAACGCTGCGCTGATTTGCCGTGGCGAGAAA\n"
     ]
    }
   ],
   "source": [
    "head ${REF}/ecoli_w3110.fa"
   ]
  },
  {
   "cell_type": "code",
   "execution_count": 25,
   "metadata": {},
   "outputs": [
    {
     "name": "stdout",
     "output_type": "stream",
     "text": [
      "##gff-version 3\n",
      "#!gff-spec-version 1.21\n",
      "#!processor NCBI annotwriter\n",
      "#!genome-build ASM1024v1\n",
      "#!genome-build-accession NCBI_Assembly:GCA_000010245.1\n",
      "##sequence-region AP009048.1 1 4646332\n",
      "##species https://www.ncbi.nlm.nih.gov/Taxonomy/Browser/wwwtax.cgi?id=316407\n",
      "AP009048.1\tDDBJ\tregion\t1\t4646332\t.\t+\t.\tID=id0;D\n",
      "bxref=taxon:316407;Is_circular=true;gbkey=Src;mol_type=genomic DNA;strain=K-12;s\n",
      "ubstrain=W3110\n",
      "AP009048.1\tDDBJ\tgene\t190\t255\t.\t+\t.\tID=gene0\n",
      ";Name=thrL;gbkey=Gene;gene=thrL;gene_biotype=protein_coding\n",
      "AP009048.1\tDDBJ\tCDS\t190\t255\t.\t+\t0\tID=cds0;\n",
      "Parent=gene0;Dbxref=NCBI_GP:BAE76026.1;Name=BAE76026.1;Note=ECK0001:JW4367:b0001\n",
      ";gbkey=CDS;gene=thrL;product=thr operon leader peptide;protein_id=BAE76026.1;tra\n",
      "nsl_table=11\n"
     ]
    }
   ],
   "source": [
    "head ${REF}/ecoli_w3110.gff | fold -w 80"
   ]
  },
  {
   "cell_type": "markdown",
   "metadata": {},
   "source": [
    "### Indexing the genome"
   ]
  },
  {
   "cell_type": "code",
   "execution_count": 26,
   "metadata": {},
   "outputs": [
    {
     "name": "stdout",
     "output_type": "stream",
     "text": [
      "Bowtie 2 version 2.3.2 by Ben Langmead (langmea@cs.jhu.edu, www.cs.jhu.edu/~langmea)\n",
      "Usage: bowtie2-build [options]* <reference_in> <bt2_index_base>\n",
      "    reference_in            comma-separated list of files with ref sequences\n",
      "    bt2_index_base          write bt2 data to files with this dir/basename\n",
      "*** Bowtie 2 indexes work only with v2 (not v1).  Likewise for v1 indexes. ***\n",
      "Options:\n",
      "    -f                      reference files are Fasta (default)\n",
      "    -c                      reference sequences given on cmd line (as\n",
      "                            <reference_in>)\n",
      "    --large-index           force generated index to be 'large', even if ref\n",
      "                            has fewer than 4 billion nucleotides\n",
      "    -a/--noauto             disable automatic -p/--bmax/--dcv memory-fitting\n",
      "    -p/--packed             use packed strings internally; slower, less memory\n",
      "    --bmax <int>            max bucket sz for blockwise suffix-array builder\n",
      "    --bmaxdivn <int>        max bucket sz as divisor of ref len (default: 4)\n",
      "    --dcv <int>             diff-cover period for blockwise (default: 1024)\n",
      "    --nodc                  disable diff-cover (algorithm becomes quadratic)\n",
      "    -r/--noref              don't build .3/.4 index files\n",
      "    -3/--justref            just build .3/.4 index files\n",
      "    -o/--offrate <int>      SA is sampled every 2^<int> BWT chars (default: 5)\n",
      "    -t/--ftabchars <int>    # of chars consumed in initial lookup (default: 10)\n",
      "    --threads <int>         # of threads\n",
      "    --seed <int>            seed for random number generator\n",
      "    -q/--quiet              verbose output (for debugging)\n",
      "    -h/--help               print detailed description of tool and its options\n",
      "    --usage                 print this usage message\n",
      "    --version               print version information and quit\n"
     ]
    }
   ],
   "source": [
    "bowtie2-build -h | cat"
   ]
  },
  {
   "cell_type": "code",
   "execution_count": 27,
   "metadata": {
    "scrolled": false
   },
   "outputs": [],
   "source": [
    "bowtie2-build -q ${REF}/ecoli_w3110.fa ${REF}/ecoli_w3110"
   ]
  },
  {
   "cell_type": "code",
   "execution_count": 28,
   "metadata": {},
   "outputs": [
    {
     "name": "stdout",
     "output_type": "stream",
     "text": [
      "ecoli_w3110.1.bt2\tecoli_w3110.4.bt2\tecoli_w3110.rev.1.bt2\n",
      "ecoli_w3110.2.bt2\tecoli_w3110.fa\t\tecoli_w3110.rev.2.bt2\n",
      "ecoli_w3110.3.bt2\tecoli_w3110.gff\n"
     ]
    }
   ],
   "source": [
    "ls ${REF}"
   ]
  },
  {
   "cell_type": "markdown",
   "metadata": {},
   "source": [
    "### Using  TopHat to align\n",
    "\n",
    "- [Paper](https://genomebiology.biomedcentral.com/articles/10.1186/gb-2013-14-4-r36)\n",
    "- [Manual](https://ccb.jhu.edu/software/tophat/manual.shtml)"
   ]
  },
  {
   "cell_type": "code",
   "execution_count": 29,
   "metadata": {
    "scrolled": false
   },
   "outputs": [
    {
     "name": "stdout",
     "output_type": "stream",
     "text": [
      "readlink: illegal option -- f\n",
      "usage: readlink [-n] [file ...]\n",
      "tophat: \n",
      "TopHat maps short sequences from spliced transcripts to whole genomes.\n",
      "\n",
      "Usage:\n",
      "    tophat [options] <bowtie_index> <reads1[,reads2,...]> [reads1[,reads2,...]] \\\n",
      "                                    [quals1,[quals2,...]] [quals1[,quals2,...]]\n",
      "\n",
      "Options:\n",
      "    -v/--version\n",
      "    -o/--output-dir                <string>    [ default: ./tophat_out         ]\n",
      "    --bowtie1                                  [ default: bowtie2              ]\n",
      "    -N/--read-mismatches           <int>       [ default: 2                    ]\n",
      "    --read-gap-length              <int>       [ default: 2                    ]\n",
      "    --read-edit-dist               <int>       [ default: 2                    ]\n",
      "    --read-realign-edit-dist       <int>       [ default: \"read-edit-dist\" + 1 ]\n",
      "    -a/--min-anchor                <int>       [ default: 8                    ]\n",
      "    -m/--splice-mismatches         <0-2>       [ default: 0                    ]\n",
      "    -i/--min-intron-length         <int>       [ default: 50                   ]\n",
      "    -I/--max-intron-length         <int>       [ default: 500000               ]\n",
      "    -g/--max-multihits             <int>       [ default: 20                   ]\n",
      "    --suppress-hits\n",
      "    -x/--transcriptome-max-hits    <int>       [ default: 60                   ]\n",
      "    -M/--prefilter-multihits                   ( for -G/--GTF option, enable\n",
      "                                                 an initial bowtie search\n",
      "                                                 against the genome )\n",
      "    --max-insertion-length         <int>       [ default: 3                    ]\n",
      "    --max-deletion-length          <int>       [ default: 3                    ]\n",
      "    --solexa-quals\n",
      "    --solexa1.3-quals                          (same as phred64-quals)\n",
      "    --phred64-quals                            (same as solexa1.3-quals)\n",
      "    -Q/--quals\n",
      "    --integer-quals\n",
      "    -C/--color                                 (Solid - color space)\n",
      "    --color-out\n",
      "    --library-type                 <string>    (fr-unstranded, fr-firststrand,\n",
      "                                                fr-secondstrand)\n",
      "    -p/--num-threads               <int>       [ default: 1                   ]\n",
      "    -R/--resume                    <out_dir>   ( try to resume execution )\n",
      "    -G/--GTF                       <filename>  (GTF/GFF with known transcripts)\n",
      "    --transcriptome-index          <bwtidx>    (transcriptome bowtie index)\n",
      "    -T/--transcriptome-only                    (map only to the transcriptome)\n",
      "    -j/--raw-juncs                 <filename>\n",
      "    --insertions                   <filename>\n",
      "    --deletions                    <filename>\n",
      "    -r/--mate-inner-dist           <int>       [ default: 50                  ]\n",
      "    --mate-std-dev                 <int>       [ default: 20                  ]\n",
      "    --no-novel-juncs\n",
      "    --no-novel-indels\n",
      "    --no-gtf-juncs\n",
      "    --no-coverage-search\n",
      "    --coverage-search\n",
      "    --microexon-search\n",
      "    --keep-tmp\n",
      "    --tmp-dir                      <dirname>   [ default: <output_dir>/tmp ]\n",
      "    -z/--zpacker                   <program>   [ default: gzip             ]\n",
      "    -X/--unmapped-fifo                         [use mkfifo to compress more temporary\n",
      "                                                 files for color space reads]\n",
      "\n",
      "Advanced Options:\n",
      "    --report-secondary-alignments\n",
      "    --no-discordant\n",
      "    --no-mixed\n",
      "\n",
      "    --segment-mismatches           <int>       [ default: 2                ]\n",
      "    --segment-length               <int>       [ default: 25               ]\n",
      "\n",
      "    --bowtie-n                                 [ default: bowtie -v        ]\n",
      "    --min-coverage-intron          <int>       [ default: 50               ]\n",
      "    --max-coverage-intron          <int>       [ default: 20000            ]\n",
      "    --min-segment-intron           <int>       [ default: 50               ]\n",
      "    --max-segment-intron           <int>       [ default: 500000           ]\n",
      "    --no-sort-bam                              (Output BAM is not coordinate-sorted)\n",
      "    --no-convert-bam                           (Do not output bam format.\n",
      "                                                Output is <output_dir>/accepted_hits.sam)\n",
      "    --keep-fasta-order\n",
      "    --allow-partial-mapping\n",
      "\n",
      "Bowtie2 related options:\n",
      "  Preset options in --end-to-end mode (local alignment is not used in TopHat2)\n",
      "    --b2-very-fast\n",
      "    --b2-fast\n",
      "    --b2-sensitive\n",
      "    --b2-very-sensitive\n",
      "\n",
      "  Alignment options\n",
      "    --b2-N                         <int>       [ default: 0                ]\n",
      "    --b2-L                         <int>       [ default: 20               ]\n",
      "    --b2-i                         <func>      [ default: S,1,1.25         ]\n",
      "    --b2-n-ceil                    <func>      [ default: L,0,0.15         ]\n",
      "    --b2-gbar                      <int>       [ default: 4                ]\n",
      "\n",
      "  Scoring options\n",
      "    --b2-mp                        <int>,<int> [ default: 6,2              ]\n",
      "    --b2-np                        <int>       [ default: 1                ]\n",
      "    --b2-rdg                       <int>,<int> [ default: 5,3              ]\n",
      "    --b2-rfg                       <int>,<int> [ default: 5,3              ]\n",
      "    --b2-score-min                 <func>      [ default: L,-0.6,-0.6      ]\n",
      "\n",
      "  Effort options\n",
      "    --b2-D                         <int>       [ default: 15               ]\n",
      "    --b2-R                         <int>       [ default: 2                ]\n",
      "\n",
      "Fusion related options:\n",
      "    --fusion-search\n",
      "    --fusion-anchor-length         <int>       [ default: 20               ]\n",
      "    --fusion-min-dist              <int>       [ default: 10000000         ]\n",
      "    --fusion-read-mismatches       <int>       [ default: 2                ]\n",
      "    --fusion-multireads            <int>       [ default: 2                ]\n",
      "    --fusion-multipairs            <int>       [ default: 2                ]\n",
      "    --fusion-ignore-chromosomes    <list>      [ e.g, <chrM,chrX>          ]\n",
      "\n",
      "    --fusion-do-not-resolve-conflicts          [this is for test purposes  ]\n",
      "\n",
      "SAM Header Options (for embedding sequencing run metadata in output):\n",
      "    --rg-id                        <string>    (read group ID)\n",
      "    --rg-sample                    <string>    (sample ID)\n",
      "    --rg-library                   <string>    (library ID)\n",
      "    --rg-description               <string>    (descriptive string, no tabs allowed)\n",
      "    --rg-platform-unit             <string>    (e.g Illumina lane ID)\n",
      "    --rg-center                    <string>    (sequencing center name)\n",
      "    --rg-date                      <string>    (ISO 8601 date of the sequencing run)\n",
      "    --rg-platform                  <string>    (Sequencing platform descriptor)\n",
      "\n",
      "    for detailed help see http://ccb.jhu.edu/software/tophat/manual.shtml\n"
     ]
    }
   ],
   "source": [
    "tophat2 -h | cat"
   ]
  },
  {
   "cell_type": "markdown",
   "metadata": {},
   "source": [
    "Default parameters are for human genome, and have to be changed for bacterial genomes."
   ]
  },
  {
   "cell_type": "code",
   "execution_count": 30,
   "metadata": {
    "scrolled": false
   },
   "outputs": [
    {
     "name": "stdout",
     "output_type": "stream",
     "text": [
      "readlink: illegal option -- f\n",
      "usage: readlink [-n] [file ...]\n",
      "\n",
      "[2017-06-06 16:28:57] Beginning TopHat run (v2.1.1)\n",
      "-----------------------------------------------\n",
      "[2017-06-06 16:28:57] Checking for Bowtie\n",
      "\t\t  Bowtie version:\t 2.3.2.0\n",
      "[2017-06-06 16:28:57] Checking for Bowtie index files (genome)..\n",
      "[2017-06-06 16:28:57] Checking for reference FASTA file\n",
      "[2017-06-06 16:28:57] Generating SAM header for /Volumes/HD2/data/HTS/genome/ecoli_w3110\n",
      "[2017-06-06 16:28:57] Reading known junctions from GTF file\n",
      "[2017-06-06 16:28:57] Preparing reads\n",
      "\t left reads: min. length=21, max. length=101, 1303263 kept reads (9 discarded)\n",
      "[2017-06-06 16:29:33] Building transcriptome data files /Volumes/HD2/data/HTS/align/r1.7A_pilot/tmp/ecoli_w3110\n",
      "[2017-06-06 16:29:34] Building Bowtie index from ecoli_w3110.fa\n",
      "[2017-06-06 16:29:37] Mapping left_kept_reads to transcriptome ecoli_w3110 with Bowtie2 \n",
      "[2017-06-06 16:31:54] Resuming TopHat pipeline with unmapped reads\n",
      "[2017-06-06 16:31:54] Mapping left_kept_reads.m2g_um to genome ecoli_w3110 with Bowtie2 \n",
      "[2017-06-06 16:32:21] Mapping left_kept_reads.m2g_um_seg1 to genome ecoli_w3110 with Bowtie2 (1/4)\n",
      "[2017-06-06 16:32:25] Mapping left_kept_reads.m2g_um_seg2 to genome ecoli_w3110 with Bowtie2 (2/4)\n",
      "[2017-06-06 16:32:29] Mapping left_kept_reads.m2g_um_seg3 to genome ecoli_w3110 with Bowtie2 (3/4)\n",
      "[2017-06-06 16:32:33] Mapping left_kept_reads.m2g_um_seg4 to genome ecoli_w3110 with Bowtie2 (4/4)\n",
      "[2017-06-06 16:32:36] Retrieving sequences for splices\n",
      "[2017-06-06 16:32:37] Indexing splices\n",
      "Building a SMALL index\n",
      "[2017-06-06 16:32:37] Mapping left_kept_reads.m2g_um_seg1 to genome segment_juncs with Bowtie2 (1/4)\n",
      "[2017-06-06 16:32:41] Mapping left_kept_reads.m2g_um_seg2 to genome segment_juncs with Bowtie2 (2/4)\n",
      "[2017-06-06 16:32:45] Mapping left_kept_reads.m2g_um_seg3 to genome segment_juncs with Bowtie2 (3/4)\n",
      "[2017-06-06 16:32:49] Mapping left_kept_reads.m2g_um_seg4 to genome segment_juncs with Bowtie2 (4/4)\n",
      "[2017-06-06 16:32:53] Joining segment hits\n",
      "[2017-06-06 16:32:54] Reporting output tracks\n",
      "-----------------------------------------------\n",
      "[2017-06-06 16:34:15] A summary of the alignment counts can be found in /Volumes/HD2/data/HTS/align/r1.7A_pilot/align_summary.txt\n",
      "[2017-06-06 16:34:15] Run complete: 00:05:18 elapsed\n",
      "readlink: illegal option -- f\n",
      "usage: readlink [-n] [file ...]\n",
      "\n",
      "[2017-06-06 16:34:15] Beginning TopHat run (v2.1.1)\n",
      "-----------------------------------------------\n",
      "[2017-06-06 16:34:15] Checking for Bowtie\n",
      "\t\t  Bowtie version:\t 2.3.2.0\n",
      "[2017-06-06 16:34:16] Checking for Bowtie index files (genome)..\n",
      "[2017-06-06 16:34:16] Checking for reference FASTA file\n",
      "[2017-06-06 16:34:16] Generating SAM header for /Volumes/HD2/data/HTS/genome/ecoli_w3110\n",
      "[2017-06-06 16:34:16] Reading known junctions from GTF file\n",
      "[2017-06-06 16:34:16] Preparing reads\n",
      "\t left reads: min. length=20, max. length=101, 1828155 kept reads (16 discarded)\n",
      "[2017-06-06 16:35:04] Building transcriptome data files /Volumes/HD2/data/HTS/align/r1.7B_pilot/tmp/ecoli_w3110\n",
      "[2017-06-06 16:35:04] Building Bowtie index from ecoli_w3110.fa\n",
      "[2017-06-06 16:35:07] Mapping left_kept_reads to transcriptome ecoli_w3110 with Bowtie2 \n",
      "[2017-06-06 16:38:59] Resuming TopHat pipeline with unmapped reads\n",
      "[2017-06-06 16:38:59] Mapping left_kept_reads.m2g_um to genome ecoli_w3110 with Bowtie2 \n",
      "[2017-06-06 16:39:41] Mapping left_kept_reads.m2g_um_seg1 to genome ecoli_w3110 with Bowtie2 (1/4)\n",
      "[2017-06-06 16:39:47] Mapping left_kept_reads.m2g_um_seg2 to genome ecoli_w3110 with Bowtie2 (2/4)\n",
      "[2017-06-06 16:39:54] Mapping left_kept_reads.m2g_um_seg3 to genome ecoli_w3110 with Bowtie2 (3/4)\n",
      "[2017-06-06 16:40:01] Mapping left_kept_reads.m2g_um_seg4 to genome ecoli_w3110 with Bowtie2 (4/4)\n",
      "[2017-06-06 16:40:07] Retrieving sequences for splices\n",
      "[2017-06-06 16:40:07] Indexing splices\n",
      "Building a SMALL index\n",
      "[2017-06-06 16:40:08] Mapping left_kept_reads.m2g_um_seg1 to genome segment_juncs with Bowtie2 (1/4)\n",
      "[2017-06-06 16:40:14] Mapping left_kept_reads.m2g_um_seg2 to genome segment_juncs with Bowtie2 (2/4)\n",
      "[2017-06-06 16:40:20] Mapping left_kept_reads.m2g_um_seg3 to genome segment_juncs with Bowtie2 (3/4)\n",
      "[2017-06-06 16:40:27] Mapping left_kept_reads.m2g_um_seg4 to genome segment_juncs with Bowtie2 (4/4)\n",
      "[2017-06-06 16:40:34] Joining segment hits\n",
      "[2017-06-06 16:40:35] Reporting output tracks\n",
      "-----------------------------------------------\n",
      "[2017-06-06 16:42:19] A summary of the alignment counts can be found in /Volumes/HD2/data/HTS/align/r1.7B_pilot/align_summary.txt\n",
      "[2017-06-06 16:42:19] Run complete: 00:08:03 elapsed\n",
      "readlink: illegal option -- f\n",
      "usage: readlink [-n] [file ...]\n",
      "\n",
      "[2017-06-06 16:42:19] Beginning TopHat run (v2.1.1)\n",
      "-----------------------------------------------\n",
      "[2017-06-06 16:42:19] Checking for Bowtie\n",
      "\t\t  Bowtie version:\t 2.3.2.0\n",
      "[2017-06-06 16:42:19] Checking for Bowtie index files (genome)..\n",
      "[2017-06-06 16:42:19] Checking for reference FASTA file\n",
      "[2017-06-06 16:42:19] Generating SAM header for /Volumes/HD2/data/HTS/genome/ecoli_w3110\n",
      "[2017-06-06 16:42:19] Reading known junctions from GTF file\n",
      "[2017-06-06 16:42:19] Preparing reads\n",
      "\t left reads: min. length=19, max. length=101, 1689820 kept reads (13 discarded)\n",
      "Warning: short reads (<20bp) will make TopHat quite slow and take large amount of memory because they are likely to be mapped in too many places\n",
      "[2017-06-06 16:43:01] Building transcriptome data files /Volumes/HD2/data/HTS/align/r1.7C_pilot/tmp/ecoli_w3110\n",
      "[2017-06-06 16:43:02] Building Bowtie index from ecoli_w3110.fa\n",
      "[2017-06-06 16:43:04] Mapping left_kept_reads to transcriptome ecoli_w3110 with Bowtie2 \n",
      "[2017-06-06 16:46:26] Resuming TopHat pipeline with unmapped reads\n",
      "[2017-06-06 16:46:26] Mapping left_kept_reads.m2g_um to genome ecoli_w3110 with Bowtie2 \n",
      "[2017-06-06 16:47:01] Mapping left_kept_reads.m2g_um_seg1 to genome ecoli_w3110 with Bowtie2 (1/4)\n",
      "[2017-06-06 16:47:06] Mapping left_kept_reads.m2g_um_seg2 to genome ecoli_w3110 with Bowtie2 (2/4)\n",
      "[2017-06-06 16:47:12] Mapping left_kept_reads.m2g_um_seg3 to genome ecoli_w3110 with Bowtie2 (3/4)\n",
      "[2017-06-06 16:47:17] Mapping left_kept_reads.m2g_um_seg4 to genome ecoli_w3110 with Bowtie2 (4/4)\n",
      "[2017-06-06 16:47:21] Retrieving sequences for splices\n",
      "[2017-06-06 16:47:22] Indexing splices\n",
      "Building a SMALL index\n",
      "[2017-06-06 16:47:22] Mapping left_kept_reads.m2g_um_seg1 to genome segment_juncs with Bowtie2 (1/4)\n",
      "[2017-06-06 16:47:27] Mapping left_kept_reads.m2g_um_seg2 to genome segment_juncs with Bowtie2 (2/4)\n",
      "[2017-06-06 16:47:31] Mapping left_kept_reads.m2g_um_seg3 to genome segment_juncs with Bowtie2 (3/4)\n",
      "[2017-06-06 16:47:36] Mapping left_kept_reads.m2g_um_seg4 to genome segment_juncs with Bowtie2 (4/4)\n",
      "[2017-06-06 16:47:41] Joining segment hits\n",
      "[2017-06-06 16:47:42] Reporting output tracks\n",
      "-----------------------------------------------\n",
      "[2017-06-06 16:49:18] A summary of the alignment counts can be found in /Volumes/HD2/data/HTS/align/r1.7C_pilot/align_summary.txt\n",
      "[2017-06-06 16:49:18] Run complete: 00:06:59 elapsed\n",
      "readlink: illegal option -- f\n",
      "usage: readlink [-n] [file ...]\n",
      "\n",
      "[2017-06-06 16:49:18] Beginning TopHat run (v2.1.1)\n",
      "-----------------------------------------------\n",
      "[2017-06-06 16:49:18] Checking for Bowtie\n",
      "\t\t  Bowtie version:\t 2.3.2.0\n",
      "[2017-06-06 16:49:19] Checking for Bowtie index files (genome)..\n",
      "[2017-06-06 16:49:19] Checking for reference FASTA file\n",
      "[2017-06-06 16:49:19] Generating SAM header for /Volumes/HD2/data/HTS/genome/ecoli_w3110\n",
      "[2017-06-06 16:49:19] Reading known junctions from GTF file\n",
      "[2017-06-06 16:49:19] Preparing reads\n",
      "\t left reads: min. length=27, max. length=101, 1242744 kept reads (1 discarded)\n",
      "[2017-06-06 16:49:50] Building transcriptome data files /Volumes/HD2/data/HTS/align/r1.8A_pilot/tmp/ecoli_w3110\n",
      "[2017-06-06 16:49:50] Building Bowtie index from ecoli_w3110.fa\n",
      "[2017-06-06 16:49:53] Mapping left_kept_reads to transcriptome ecoli_w3110 with Bowtie2 \n",
      "[2017-06-06 16:52:23] Resuming TopHat pipeline with unmapped reads\n",
      "[2017-06-06 16:52:23] Mapping left_kept_reads.m2g_um to genome ecoli_w3110 with Bowtie2 \n",
      "[2017-06-06 16:52:48] Mapping left_kept_reads.m2g_um_seg1 to genome ecoli_w3110 with Bowtie2 (1/4)\n",
      "[2017-06-06 16:52:51] Mapping left_kept_reads.m2g_um_seg2 to genome ecoli_w3110 with Bowtie2 (2/4)\n"
     ]
    },
    {
     "name": "stdout",
     "output_type": "stream",
     "text": [
      "[2017-06-06 16:52:55] Mapping left_kept_reads.m2g_um_seg3 to genome ecoli_w3110 with Bowtie2 (3/4)\n",
      "[2017-06-06 16:52:58] Mapping left_kept_reads.m2g_um_seg4 to genome ecoli_w3110 with Bowtie2 (4/4)\n",
      "[2017-06-06 16:53:02] Retrieving sequences for splices\n",
      "[2017-06-06 16:53:02] Indexing splices\n",
      "Building a SMALL index\n",
      "[2017-06-06 16:53:02] Mapping left_kept_reads.m2g_um_seg1 to genome segment_juncs with Bowtie2 (1/4)\n",
      "[2017-06-06 16:53:06] Mapping left_kept_reads.m2g_um_seg2 to genome segment_juncs with Bowtie2 (2/4)\n",
      "[2017-06-06 16:53:09] Mapping left_kept_reads.m2g_um_seg3 to genome segment_juncs with Bowtie2 (3/4)\n",
      "[2017-06-06 16:53:13] Mapping left_kept_reads.m2g_um_seg4 to genome segment_juncs with Bowtie2 (4/4)\n",
      "[2017-06-06 16:53:16] Joining segment hits\n",
      "[2017-06-06 16:53:17] Reporting output tracks\n",
      "-----------------------------------------------\n",
      "[2017-06-06 16:53:57] A summary of the alignment counts can be found in /Volumes/HD2/data/HTS/align/r1.8A_pilot/align_summary.txt\n",
      "[2017-06-06 16:53:57] Run complete: 00:04:38 elapsed\n",
      "readlink: illegal option -- f\n",
      "usage: readlink [-n] [file ...]\n",
      "\n",
      "[2017-06-06 16:53:57] Beginning TopHat run (v2.1.1)\n",
      "-----------------------------------------------\n",
      "[2017-06-06 16:53:57] Checking for Bowtie\n",
      "\t\t  Bowtie version:\t 2.3.2.0\n",
      "[2017-06-06 16:53:57] Checking for Bowtie index files (genome)..\n",
      "[2017-06-06 16:53:57] Checking for reference FASTA file\n",
      "[2017-06-06 16:53:57] Generating SAM header for /Volumes/HD2/data/HTS/genome/ecoli_w3110\n",
      "[2017-06-06 16:53:57] Reading known junctions from GTF file\n",
      "[2017-06-06 16:53:57] Preparing reads\n",
      "\t left reads: min. length=61, max. length=101, 1480942 kept reads (5 discarded)\n",
      "[2017-06-06 16:54:35] Building transcriptome data files /Volumes/HD2/data/HTS/align/r1.8B_pilot/tmp/ecoli_w3110\n",
      "[2017-06-06 16:54:35] Building Bowtie index from ecoli_w3110.fa\n",
      "[2017-06-06 16:54:38] Mapping left_kept_reads to transcriptome ecoli_w3110 with Bowtie2 \n",
      "[2017-06-06 16:57:30] Resuming TopHat pipeline with unmapped reads\n",
      "[2017-06-06 16:57:30] Mapping left_kept_reads.m2g_um to genome ecoli_w3110 with Bowtie2 \n",
      "[2017-06-06 16:58:05] Mapping left_kept_reads.m2g_um_seg1 to genome ecoli_w3110 with Bowtie2 (1/4)\n",
      "[2017-06-06 16:58:11] Mapping left_kept_reads.m2g_um_seg2 to genome ecoli_w3110 with Bowtie2 (2/4)\n",
      "[2017-06-06 16:58:16] Mapping left_kept_reads.m2g_um_seg3 to genome ecoli_w3110 with Bowtie2 (3/4)\n",
      "[2017-06-06 16:58:23] Mapping left_kept_reads.m2g_um_seg4 to genome ecoli_w3110 with Bowtie2 (4/4)\n",
      "[2017-06-06 16:58:29] Retrieving sequences for splices\n",
      "[2017-06-06 16:58:29] Indexing splices\n",
      "Building a SMALL index\n",
      "[2017-06-06 16:58:29] Mapping left_kept_reads.m2g_um_seg1 to genome segment_juncs with Bowtie2 (1/4)\n",
      "[2017-06-06 16:58:35] Mapping left_kept_reads.m2g_um_seg2 to genome segment_juncs with Bowtie2 (2/4)\n",
      "[2017-06-06 16:58:41] Mapping left_kept_reads.m2g_um_seg3 to genome segment_juncs with Bowtie2 (3/4)\n",
      "[2017-06-06 16:58:47] Mapping left_kept_reads.m2g_um_seg4 to genome segment_juncs with Bowtie2 (4/4)\n",
      "[2017-06-06 16:58:53] Joining segment hits\n",
      "[2017-06-06 16:58:54] Reporting output tracks\n",
      "-----------------------------------------------\n",
      "[2017-06-06 16:59:38] A summary of the alignment counts can be found in /Volumes/HD2/data/HTS/align/r1.8B_pilot/align_summary.txt\n",
      "[2017-06-06 16:59:38] Run complete: 00:05:41 elapsed\n",
      "readlink: illegal option -- f\n",
      "usage: readlink [-n] [file ...]\n",
      "\n",
      "[2017-06-06 16:59:38] Beginning TopHat run (v2.1.1)\n",
      "-----------------------------------------------\n",
      "[2017-06-06 16:59:38] Checking for Bowtie\n",
      "\t\t  Bowtie version:\t 2.3.2.0\n",
      "[2017-06-06 16:59:39] Checking for Bowtie index files (genome)..\n",
      "[2017-06-06 16:59:39] Checking for reference FASTA file\n",
      "[2017-06-06 16:59:39] Generating SAM header for /Volumes/HD2/data/HTS/genome/ecoli_w3110\n",
      "[2017-06-06 16:59:39] Reading known junctions from GTF file\n",
      "[2017-06-06 16:59:39] Preparing reads\n",
      "\t left reads: min. length=19, max. length=101, 1238815 kept reads (2 discarded)\n",
      "Warning: short reads (<20bp) will make TopHat quite slow and take large amount of memory because they are likely to be mapped in too many places\n",
      "[2017-06-06 17:00:10] Building transcriptome data files /Volumes/HD2/data/HTS/align/r1.8C_pilot/tmp/ecoli_w3110\n",
      "[2017-06-06 17:00:10] Building Bowtie index from ecoli_w3110.fa\n",
      "[2017-06-06 17:00:13] Mapping left_kept_reads to transcriptome ecoli_w3110 with Bowtie2 \n",
      "[2017-06-06 17:02:50] Resuming TopHat pipeline with unmapped reads\n",
      "[2017-06-06 17:02:50] Mapping left_kept_reads.m2g_um to genome ecoli_w3110 with Bowtie2 \n",
      "[2017-06-06 17:03:16] Mapping left_kept_reads.m2g_um_seg1 to genome ecoli_w3110 with Bowtie2 (1/4)\n",
      "[2017-06-06 17:03:20] Mapping left_kept_reads.m2g_um_seg2 to genome ecoli_w3110 with Bowtie2 (2/4)\n",
      "[2017-06-06 17:03:25] Mapping left_kept_reads.m2g_um_seg3 to genome ecoli_w3110 with Bowtie2 (3/4)\n",
      "[2017-06-06 17:03:29] Mapping left_kept_reads.m2g_um_seg4 to genome ecoli_w3110 with Bowtie2 (4/4)\n",
      "[2017-06-06 17:03:34] Retrieving sequences for splices\n",
      "[2017-06-06 17:03:34] Indexing splices\n",
      "Building a SMALL index\n",
      "[2017-06-06 17:03:34] Mapping left_kept_reads.m2g_um_seg1 to genome segment_juncs with Bowtie2 (1/4)\n",
      "[2017-06-06 17:03:39] Mapping left_kept_reads.m2g_um_seg2 to genome segment_juncs with Bowtie2 (2/4)\n",
      "[2017-06-06 17:03:43] Mapping left_kept_reads.m2g_um_seg3 to genome segment_juncs with Bowtie2 (3/4)\n",
      "[2017-06-06 17:03:47] Mapping left_kept_reads.m2g_um_seg4 to genome segment_juncs with Bowtie2 (4/4)\n",
      "[2017-06-06 17:03:51] Joining segment hits\n",
      "[2017-06-06 17:03:52] Reporting output tracks\n",
      "-----------------------------------------------\n",
      "[2017-06-06 17:05:03] A summary of the alignment counts can be found in /Volumes/HD2/data/HTS/align/r1.8C_pilot/align_summary.txt\n",
      "[2017-06-06 17:05:03] Run complete: 00:05:24 elapsed\n",
      "readlink: illegal option -- f\n",
      "usage: readlink [-n] [file ...]\n",
      "\n",
      "[2017-06-06 17:05:03] Beginning TopHat run (v2.1.1)\n",
      "-----------------------------------------------\n",
      "[2017-06-06 17:05:03] Checking for Bowtie\n",
      "\t\t  Bowtie version:\t 2.3.2.0\n",
      "[2017-06-06 17:05:04] Checking for Bowtie index files (genome)..\n",
      "[2017-06-06 17:05:04] Checking for reference FASTA file\n",
      "[2017-06-06 17:05:04] Generating SAM header for /Volumes/HD2/data/HTS/genome/ecoli_w3110\n",
      "[2017-06-06 17:05:04] Reading known junctions from GTF file\n",
      "[2017-06-06 17:05:04] Preparing reads\n",
      "\t left reads: min. length=23, max. length=101, 1303249 kept reads (23 discarded)\n",
      "[2017-06-06 17:05:37] Building transcriptome data files /Volumes/HD2/data/HTS/align/r2.7A_pilot/tmp/ecoli_w3110\n",
      "[2017-06-06 17:05:37] Building Bowtie index from ecoli_w3110.fa\n",
      "[2017-06-06 17:05:40] Mapping left_kept_reads to transcriptome ecoli_w3110 with Bowtie2 \n",
      "[2017-06-06 17:08:23] Resuming TopHat pipeline with unmapped reads\n",
      "[2017-06-06 17:08:23] Mapping left_kept_reads.m2g_um to genome ecoli_w3110 with Bowtie2 \n",
      "[2017-06-06 17:08:56] Mapping left_kept_reads.m2g_um_seg1 to genome ecoli_w3110 with Bowtie2 (1/4)\n",
      "[2017-06-06 17:09:02] Mapping left_kept_reads.m2g_um_seg2 to genome ecoli_w3110 with Bowtie2 (2/4)\n",
      "[2017-06-06 17:09:08] Mapping left_kept_reads.m2g_um_seg3 to genome ecoli_w3110 with Bowtie2 (3/4)\n",
      "[2017-06-06 17:09:13] Mapping left_kept_reads.m2g_um_seg4 to genome ecoli_w3110 with Bowtie2 (4/4)\n",
      "[2017-06-06 17:09:19] Retrieving sequences for splices\n",
      "[2017-06-06 17:09:19] Indexing splices\n",
      "Building a SMALL index\n",
      "[2017-06-06 17:09:19] Mapping left_kept_reads.m2g_um_seg1 to genome segment_juncs with Bowtie2 (1/4)\n",
      "[2017-06-06 17:09:25] Mapping left_kept_reads.m2g_um_seg2 to genome segment_juncs with Bowtie2 (2/4)\n",
      "[2017-06-06 17:09:30] Mapping left_kept_reads.m2g_um_seg3 to genome segment_juncs with Bowtie2 (3/4)\n",
      "[2017-06-06 17:09:36] Mapping left_kept_reads.m2g_um_seg4 to genome segment_juncs with Bowtie2 (4/4)\n",
      "[2017-06-06 17:09:41] Joining segment hits\n",
      "[2017-06-06 17:09:42] Reporting output tracks\n",
      "-----------------------------------------------\n",
      "[2017-06-06 17:10:58] A summary of the alignment counts can be found in /Volumes/HD2/data/HTS/align/r2.7A_pilot/align_summary.txt\n",
      "[2017-06-06 17:10:58] Run complete: 00:05:54 elapsed\n",
      "readlink: illegal option -- f\n",
      "usage: readlink [-n] [file ...]\n",
      "\n",
      "[2017-06-06 17:10:58] Beginning TopHat run (v2.1.1)\n",
      "-----------------------------------------------\n",
      "[2017-06-06 17:10:58] Checking for Bowtie\n"
     ]
    },
    {
     "name": "stdout",
     "output_type": "stream",
     "text": [
      "\t\t  Bowtie version:\t 2.3.2.0\n",
      "[2017-06-06 17:10:58] Checking for Bowtie index files (genome)..\n",
      "[2017-06-06 17:10:58] Checking for reference FASTA file\n",
      "[2017-06-06 17:10:58] Generating SAM header for /Volumes/HD2/data/HTS/genome/ecoli_w3110\n",
      "[2017-06-06 17:10:58] Reading known junctions from GTF file\n",
      "[2017-06-06 17:10:58] Preparing reads\n",
      "\t left reads: min. length=20, max. length=101, 1828141 kept reads (30 discarded)\n",
      "[2017-06-06 17:11:44] Building transcriptome data files /Volumes/HD2/data/HTS/align/r2.7B_pilot/tmp/ecoli_w3110\n",
      "[2017-06-06 17:11:45] Building Bowtie index from ecoli_w3110.fa\n",
      "[2017-06-06 17:11:47] Mapping left_kept_reads to transcriptome ecoli_w3110 with Bowtie2 \n",
      "[2017-06-06 17:15:31] Resuming TopHat pipeline with unmapped reads\n",
      "[2017-06-06 17:15:31] Mapping left_kept_reads.m2g_um to genome ecoli_w3110 with Bowtie2 \n",
      "[2017-06-06 17:16:19] Mapping left_kept_reads.m2g_um_seg1 to genome ecoli_w3110 with Bowtie2 (1/4)\n",
      "[2017-06-06 17:16:28] Mapping left_kept_reads.m2g_um_seg2 to genome ecoli_w3110 with Bowtie2 (2/4)\n",
      "[2017-06-06 17:16:36] Mapping left_kept_reads.m2g_um_seg3 to genome ecoli_w3110 with Bowtie2 (3/4)\n",
      "[2017-06-06 17:16:45] Mapping left_kept_reads.m2g_um_seg4 to genome ecoli_w3110 with Bowtie2 (4/4)\n",
      "[2017-06-06 17:16:52] Retrieving sequences for splices\n",
      "[2017-06-06 17:16:52] Indexing splices\n",
      "Building a SMALL index\n",
      "[2017-06-06 17:16:53] Mapping left_kept_reads.m2g_um_seg1 to genome segment_juncs with Bowtie2 (1/4)\n",
      "[2017-06-06 17:17:01] Mapping left_kept_reads.m2g_um_seg2 to genome segment_juncs with Bowtie2 (2/4)\n",
      "[2017-06-06 17:17:08] Mapping left_kept_reads.m2g_um_seg3 to genome segment_juncs with Bowtie2 (3/4)\n",
      "[2017-06-06 17:17:16] Mapping left_kept_reads.m2g_um_seg4 to genome segment_juncs with Bowtie2 (4/4)\n",
      "[2017-06-06 17:17:24] Joining segment hits\n",
      "[2017-06-06 17:17:25] Reporting output tracks\n",
      "-----------------------------------------------\n",
      "[2017-06-06 17:19:10] A summary of the alignment counts can be found in /Volumes/HD2/data/HTS/align/r2.7B_pilot/align_summary.txt\n",
      "[2017-06-06 17:19:10] Run complete: 00:08:12 elapsed\n",
      "readlink: illegal option -- f\n",
      "usage: readlink [-n] [file ...]\n",
      "\n",
      "[2017-06-06 17:19:11] Beginning TopHat run (v2.1.1)\n",
      "-----------------------------------------------\n",
      "[2017-06-06 17:19:11] Checking for Bowtie\n",
      "\t\t  Bowtie version:\t 2.3.2.0\n",
      "[2017-06-06 17:19:11] Checking for Bowtie index files (genome)..\n",
      "[2017-06-06 17:19:11] Checking for reference FASTA file\n",
      "[2017-06-06 17:19:11] Generating SAM header for /Volumes/HD2/data/HTS/genome/ecoli_w3110\n",
      "[2017-06-06 17:19:11] Reading known junctions from GTF file\n",
      "[2017-06-06 17:19:11] Preparing reads\n",
      "\t left reads: min. length=19, max. length=101, 1689803 kept reads (30 discarded)\n",
      "Warning: short reads (<20bp) will make TopHat quite slow and take large amount of memory because they are likely to be mapped in too many places\n",
      "[2017-06-06 17:19:53] Building transcriptome data files /Volumes/HD2/data/HTS/align/r2.7C_pilot/tmp/ecoli_w3110\n",
      "[2017-06-06 17:19:54] Building Bowtie index from ecoli_w3110.fa\n",
      "[2017-06-06 17:19:56] Mapping left_kept_reads to transcriptome ecoli_w3110 with Bowtie2 \n",
      "[2017-06-06 17:23:15] Resuming TopHat pipeline with unmapped reads\n",
      "[2017-06-06 17:23:15] Mapping left_kept_reads.m2g_um to genome ecoli_w3110 with Bowtie2 \n",
      "[2017-06-06 17:23:57] Mapping left_kept_reads.m2g_um_seg1 to genome ecoli_w3110 with Bowtie2 (1/4)\n",
      "[2017-06-06 17:24:04] Mapping left_kept_reads.m2g_um_seg2 to genome ecoli_w3110 with Bowtie2 (2/4)\n",
      "[2017-06-06 17:24:11] Mapping left_kept_reads.m2g_um_seg3 to genome ecoli_w3110 with Bowtie2 (3/4)\n",
      "[2017-06-06 17:24:18] Mapping left_kept_reads.m2g_um_seg4 to genome ecoli_w3110 with Bowtie2 (4/4)\n",
      "[2017-06-06 17:24:25] Retrieving sequences for splices\n",
      "[2017-06-06 17:24:25] Indexing splices\n",
      "Building a SMALL index\n",
      "[2017-06-06 17:24:26] Mapping left_kept_reads.m2g_um_seg1 to genome segment_juncs with Bowtie2 (1/4)\n",
      "[2017-06-06 17:24:33] Mapping left_kept_reads.m2g_um_seg2 to genome segment_juncs with Bowtie2 (2/4)\n",
      "[2017-06-06 17:24:40] Mapping left_kept_reads.m2g_um_seg3 to genome segment_juncs with Bowtie2 (3/4)\n",
      "[2017-06-06 17:24:47] Mapping left_kept_reads.m2g_um_seg4 to genome segment_juncs with Bowtie2 (4/4)\n",
      "[2017-06-06 17:24:54] Joining segment hits\n",
      "[2017-06-06 17:24:55] Reporting output tracks\n",
      "-----------------------------------------------\n",
      "[2017-06-06 17:26:32] A summary of the alignment counts can be found in /Volumes/HD2/data/HTS/align/r2.7C_pilot/align_summary.txt\n",
      "[2017-06-06 17:26:32] Run complete: 00:07:21 elapsed\n",
      "readlink: illegal option -- f\n",
      "usage: readlink [-n] [file ...]\n",
      "\n",
      "[2017-06-06 17:26:32] Beginning TopHat run (v2.1.1)\n",
      "-----------------------------------------------\n",
      "[2017-06-06 17:26:32] Checking for Bowtie\n",
      "\t\t  Bowtie version:\t 2.3.2.0\n",
      "[2017-06-06 17:26:33] Checking for Bowtie index files (genome)..\n",
      "[2017-06-06 17:26:33] Checking for reference FASTA file\n",
      "[2017-06-06 17:26:33] Generating SAM header for /Volumes/HD2/data/HTS/genome/ecoli_w3110\n",
      "[2017-06-06 17:26:33] Reading known junctions from GTF file\n",
      "[2017-06-06 17:26:33] Preparing reads\n",
      "\t left reads: min. length=26, max. length=100, 1242727 kept reads (18 discarded)\n",
      "[2017-06-06 17:27:04] Building transcriptome data files /Volumes/HD2/data/HTS/align/r2.8A_pilot/tmp/ecoli_w3110\n",
      "[2017-06-06 17:27:05] Building Bowtie index from ecoli_w3110.fa\n",
      "[2017-06-06 17:27:07] Mapping left_kept_reads to transcriptome ecoli_w3110 with Bowtie2 \n",
      "[2017-06-06 17:29:43] Resuming TopHat pipeline with unmapped reads\n",
      "[2017-06-06 17:29:43] Mapping left_kept_reads.m2g_um to genome ecoli_w3110 with Bowtie2 \n",
      "[2017-06-06 17:30:11] Mapping left_kept_reads.m2g_um_seg1 to genome ecoli_w3110 with Bowtie2 (1/4)\n",
      "[2017-06-06 17:30:15] Mapping left_kept_reads.m2g_um_seg2 to genome ecoli_w3110 with Bowtie2 (2/4)\n",
      "[2017-06-06 17:30:20] Mapping left_kept_reads.m2g_um_seg3 to genome ecoli_w3110 with Bowtie2 (3/4)\n",
      "[2017-06-06 17:30:25] Mapping left_kept_reads.m2g_um_seg4 to genome ecoli_w3110 with Bowtie2 (4/4)\n",
      "[2017-06-06 17:30:29] Retrieving sequences for splices\n",
      "[2017-06-06 17:30:30] Indexing splices\n",
      "Building a SMALL index\n",
      "[2017-06-06 17:30:30] Mapping left_kept_reads.m2g_um_seg1 to genome segment_juncs with Bowtie2 (1/4)\n",
      "[2017-06-06 17:30:35] Mapping left_kept_reads.m2g_um_seg2 to genome segment_juncs with Bowtie2 (2/4)\n",
      "[2017-06-06 17:30:39] Mapping left_kept_reads.m2g_um_seg3 to genome segment_juncs with Bowtie2 (3/4)\n",
      "[2017-06-06 17:30:44] Mapping left_kept_reads.m2g_um_seg4 to genome segment_juncs with Bowtie2 (4/4)\n",
      "[2017-06-06 17:30:48] Joining segment hits\n",
      "[2017-06-06 17:30:49] Reporting output tracks\n",
      "-----------------------------------------------\n",
      "[2017-06-06 17:32:01] A summary of the alignment counts can be found in /Volumes/HD2/data/HTS/align/r2.8A_pilot/align_summary.txt\n",
      "[2017-06-06 17:32:01] Run complete: 00:05:28 elapsed\n",
      "readlink: illegal option -- f\n",
      "usage: readlink [-n] [file ...]\n",
      "\n",
      "[2017-06-06 17:32:01] Beginning TopHat run (v2.1.1)\n",
      "-----------------------------------------------\n",
      "[2017-06-06 17:32:01] Checking for Bowtie\n",
      "\t\t  Bowtie version:\t 2.3.2.0\n",
      "[2017-06-06 17:32:01] Checking for Bowtie index files (genome)..\n",
      "[2017-06-06 17:32:01] Checking for reference FASTA file\n",
      "[2017-06-06 17:32:01] Generating SAM header for /Volumes/HD2/data/HTS/genome/ecoli_w3110\n",
      "[2017-06-06 17:32:01] Reading known junctions from GTF file\n",
      "[2017-06-06 17:32:01] Preparing reads\n",
      "\t left reads: min. length=28, max. length=101, 1480933 kept reads (14 discarded)\n",
      "[2017-06-06 17:32:39] Building transcriptome data files /Volumes/HD2/data/HTS/align/r2.8B_pilot/tmp/ecoli_w3110\n",
      "[2017-06-06 17:32:39] Building Bowtie index from ecoli_w3110.fa\n",
      "[2017-06-06 17:32:42] Mapping left_kept_reads to transcriptome ecoli_w3110 with Bowtie2 \n",
      "[2017-06-06 17:35:44] Resuming TopHat pipeline with unmapped reads\n",
      "[2017-06-06 17:35:44] Mapping left_kept_reads.m2g_um to genome ecoli_w3110 with Bowtie2 \n",
      "[2017-06-06 17:36:24] Mapping left_kept_reads.m2g_um_seg1 to genome ecoli_w3110 with Bowtie2 (1/4)\n",
      "[2017-06-06 17:36:31] Mapping left_kept_reads.m2g_um_seg2 to genome ecoli_w3110 with Bowtie2 (2/4)\n",
      "[2017-06-06 17:36:39] Mapping left_kept_reads.m2g_um_seg3 to genome ecoli_w3110 with Bowtie2 (3/4)\n",
      "[2017-06-06 17:36:46] Mapping left_kept_reads.m2g_um_seg4 to genome ecoli_w3110 with Bowtie2 (4/4)\n"
     ]
    },
    {
     "name": "stdout",
     "output_type": "stream",
     "text": [
      "[2017-06-06 17:36:53] Retrieving sequences for splices\n",
      "[2017-06-06 17:36:54] Indexing splices\n",
      "Building a SMALL index\n",
      "[2017-06-06 17:36:54] Mapping left_kept_reads.m2g_um_seg1 to genome segment_juncs with Bowtie2 (1/4)\n",
      "[2017-06-06 17:37:01] Mapping left_kept_reads.m2g_um_seg2 to genome segment_juncs with Bowtie2 (2/4)\n",
      "[2017-06-06 17:37:08] Mapping left_kept_reads.m2g_um_seg3 to genome segment_juncs with Bowtie2 (3/4)\n",
      "[2017-06-06 17:37:16] Mapping left_kept_reads.m2g_um_seg4 to genome segment_juncs with Bowtie2 (4/4)\n",
      "[2017-06-06 17:37:23] Joining segment hits\n",
      "[2017-06-06 17:37:24] Reporting output tracks\n",
      "-----------------------------------------------\n",
      "[2017-06-06 17:38:50] A summary of the alignment counts can be found in /Volumes/HD2/data/HTS/align/r2.8B_pilot/align_summary.txt\n",
      "[2017-06-06 17:38:50] Run complete: 00:06:48 elapsed\n",
      "readlink: illegal option -- f\n",
      "usage: readlink [-n] [file ...]\n",
      "\n",
      "[2017-06-06 17:38:50] Beginning TopHat run (v2.1.1)\n",
      "-----------------------------------------------\n",
      "[2017-06-06 17:38:50] Checking for Bowtie\n",
      "\t\t  Bowtie version:\t 2.3.2.0\n",
      "[2017-06-06 17:38:50] Checking for Bowtie index files (genome)..\n",
      "[2017-06-06 17:38:50] Checking for reference FASTA file\n",
      "[2017-06-06 17:38:50] Generating SAM header for /Volumes/HD2/data/HTS/genome/ecoli_w3110\n",
      "[2017-06-06 17:38:50] Reading known junctions from GTF file\n",
      "[2017-06-06 17:38:50] Preparing reads\n",
      "\t left reads: min. length=19, max. length=101, 1238807 kept reads (10 discarded)\n",
      "Warning: short reads (<20bp) will make TopHat quite slow and take large amount of memory because they are likely to be mapped in too many places\n",
      "[2017-06-06 17:39:22] Building transcriptome data files /Volumes/HD2/data/HTS/align/r2.8C_pilot/tmp/ecoli_w3110\n",
      "[2017-06-06 17:39:22] Building Bowtie index from ecoli_w3110.fa\n",
      "[2017-06-06 17:39:24] Mapping left_kept_reads to transcriptome ecoli_w3110 with Bowtie2 \n",
      "[2017-06-06 17:41:59] Resuming TopHat pipeline with unmapped reads\n",
      "[2017-06-06 17:41:59] Mapping left_kept_reads.m2g_um to genome ecoli_w3110 with Bowtie2 \n",
      "[2017-06-06 17:42:28] Mapping left_kept_reads.m2g_um_seg1 to genome ecoli_w3110 with Bowtie2 (1/4)\n",
      "[2017-06-06 17:42:33] Mapping left_kept_reads.m2g_um_seg2 to genome ecoli_w3110 with Bowtie2 (2/4)\n",
      "[2017-06-06 17:42:38] Mapping left_kept_reads.m2g_um_seg3 to genome ecoli_w3110 with Bowtie2 (3/4)\n",
      "[2017-06-06 17:42:44] Mapping left_kept_reads.m2g_um_seg4 to genome ecoli_w3110 with Bowtie2 (4/4)\n",
      "[2017-06-06 17:42:48] Retrieving sequences for splices\n",
      "[2017-06-06 17:42:49] Indexing splices\n",
      "Building a SMALL index\n",
      "[2017-06-06 17:42:49] Mapping left_kept_reads.m2g_um_seg1 to genome segment_juncs with Bowtie2 (1/4)\n",
      "[2017-06-06 17:42:54] Mapping left_kept_reads.m2g_um_seg2 to genome segment_juncs with Bowtie2 (2/4)\n",
      "[2017-06-06 17:42:59] Mapping left_kept_reads.m2g_um_seg3 to genome segment_juncs with Bowtie2 (3/4)\n",
      "[2017-06-06 17:43:04] Mapping left_kept_reads.m2g_um_seg4 to genome segment_juncs with Bowtie2 (4/4)\n",
      "[2017-06-06 17:43:09] Joining segment hits\n",
      "[2017-06-06 17:43:10] Reporting output tracks\n",
      "-----------------------------------------------\n",
      "[2017-06-06 17:43:50] A summary of the alignment counts can be found in /Volumes/HD2/data/HTS/align/r2.8C_pilot/align_summary.txt\n",
      "[2017-06-06 17:43:50] Run complete: 00:05:00 elapsed\n"
     ]
    }
   ],
   "source": [
    "for f in $(ls ${TRIM}/*pilot* | xargs -n 1 basename) \n",
    "do\n",
    "    CUR_DIR=${ALIGN}/${f/_trim.fq/} \n",
    "    mkdir -p ${CUR_DIR}\n",
    "    tophat2 -G ${REF}/ecoli_w3110.gff \\\n",
    "        --library-type fr-firststrand \\\n",
    "        --output-dir $CUR_DIR \\\n",
    "        --max-intron-length 5 \\\n",
    "        --min-intron-length 4 \\\n",
    "        --transcriptome-max-hits 1 \\\n",
    "        --max-multihits 1 \\\n",
    "        --no-coverage-search \\\n",
    "        --no-novel-juncs \\\n",
    "        --num-threads 16 \\\n",
    "        ${REF}/ecoli_w3110 \\\n",
    "        ${TRIM}/${f} \n",
    "done"
   ]
  },
  {
   "cell_type": "code",
   "execution_count": 31,
   "metadata": {},
   "outputs": [
    {
     "name": "stdout",
     "output_type": "stream",
     "text": [
      "Reads:\n",
      "          Input     :   1238817\n",
      "           Mapped   :   1181524 (95.4% of input)\n",
      "95.4% overall read mapping rate.\n"
     ]
    }
   ],
   "source": [
    "head $CUR_DIR/align_summary.txt"
   ]
  },
  {
   "cell_type": "code",
   "execution_count": 32,
   "metadata": {},
   "outputs": [
    {
     "name": "stdout",
     "output_type": "stream",
     "text": [
      "M00698:36:000000000-AFBEL:1:2113:12452:5224\t0\tAP009048.1\t27\t50\t101M\t*\t0\t0\tAATATGTCTCTGTGTGGATTAAAAAAAGAGTGTCTGATAGCAGCTTCTGAACTGGTTACCTGCCGTGAGTAAATTAAAATTTTATTGACTTAGGTCACTAA\tABBBAFFFFFBFGGFGGGGGGGHFHGGGFGGHHHHHGHHHHHGHHHHHHHHFHHGHFHGHHHHHFGGGGHHHHGHFHHHHHHHGHHHHHHHGHFHFHHHHF\tAS:i:0\tXN:i:0\tXM:i:0\tXO:i:0\tXG:i:0\tNM:i:0\tMD:Z:101\tYT:Z:UU\tNH:i:1\tXS:A:-\n",
      "M00698:36:000000000-AFBEL:1:2102:16181:7437\t0\tAP009048.1\t48\t50\t101M\t*\t0\t0\tAAAAAAGAGTGTCTGATAGCAGCTTCTGAACTGGTTACCTGCCGTGAGTAAATTAAAATTTTATTGACTTAGGTCACTAAATACTTTAACCAATATAGGCA\tACCCCCBCFFFFGGGGGGGGGGHHHHHHHHHHHHHHHHHHHHHGGGGGHHHHHHHHHHHHGHHHHHHHHHHHGHHHHHHHHHHHHHHHHHHHHHHHHHHHH\tAS:i:0\tXN:i:0\tXM:i:0\tXO:i:0\tXG:i:0\tNM:i:0\tMD:Z:101\tYT:Z:UU\tNH:i:1\tXS:A:-\n",
      "M00698:36:000000000-AFBEL:1:2101:24671:10743\t0\tAP009048.1\t49\t50\t101M\t*\t0\t0\tAAAAAGAGTGTCTGATAGCAGCTTCTGAACTGGTTACCTGCCGTGAGTAAATTAAAATTTTATTGACTTAGGTCACTAAATACTTTAACCAATATAGGCAT\tBCCDDCCFFFFFGGGGGGGGGGHHHHHHHHHHHHHHHHHHHHGEGGGHHHHHHHHHHHHHHHHHHHHHHHHHHHHHHHHHHHHHHHHHHHHHHHHHHHHHH\tAS:i:0\tXN:i:0\tXM:i:0\tXO:i:0\tXG:i:0\tNM:i:0\tMD:Z:101\tYT:Z:UU\tNH:i:1\tXS:A:-\n",
      "M00698:36:000000000-AFBEL:1:1112:15352:21975\t0\tAP009048.1\t98\t50\t100M\t*\t0\t0\tAATTAAAATTTTATTGACTTAGGTCACTAAATACTTTAACCAATATAGGCATAGCGCACAGACAGATAAAAATTACAGAGTACACAACATCCATGAAACG\tCCDDDFFFFFFFGGGGGGGGGGHHHHHHHHHHHHHHHHHHHHHHHHHHHHHHHHGGGGGGHHHHHHHHHHHHHHHHHHHHHHHHHHGGHHHHHHHHHHHG\tAS:i:0\tXN:i:0\tXM:i:0\tXO:i:0\tXG:i:0\tNM:i:0\tMD:Z:100\tYT:Z:UU\tNH:i:1\tXS:A:-\n",
      "M00698:36:000000000-AFBEL:1:1106:14796:24035\t0\tAP009048.1\t131\t50\t101M\t*\t0\t0\tCTTTAACCAATATAGGCATAGCGCACAGACAGATAAAAATTACAGAGTACACAACATCCATGAAACGCATTAGCACCACCATTACCACCACCATCACCATT\tBAABBFDFFAFFGGGGGGGGGGGGGGGHHHHGHHHHHHHHHHHHHHHFFHFHHG?GFFHHHHHHHGGGGGGHGHHGHHEGHHHHHHHHGHEGHGHHGHHGG\tAS:i:0\tXN:i:0\tXM:i:0\tXO:i:0\tXG:i:0\tNM:i:0\tMD:Z:101\tYT:Z:UU\tNH:i:1\tXS:A:-\n",
      "M00698:36:000000000-AFBEL:1:1108:19950:19598\t0\tAP009048.1\t131\t50\t101M\t*\t0\t0\tCTTTAACCAATATAGGCATAGCGCACAGACAGATAAAAATTACAGAGTACACAACATCCATGAAACGCATTAGCACCACCATTACCACCACCATCACCATT\tBBBBBFFFFBFFGFGGGFGGGGGGGGGHHHHHHHHHHHHHHGHHHHHHHHHHHGGHHHHHHHHHHHGGGGGFGHHHHHHGHHHHHHHHGHHGHHHHHHHHH\tAS:i:0\tXN:i:0\tXM:i:0\tXO:i:0\tXG:i:0\tNM:i:0\tMD:Z:101\tYT:Z:UU\tNH:i:1\tXS:A:-\n",
      "M00698:36:000000000-AFBEL:1:2114:4930:18692\t0\tAP009048.1\t131\t50\t101M\t*\t0\t0\tCTTTAACCAATATAGGCATAGCGCACAGACAGATAAAAATTACAGAGTACACAACATCCATGAAACGCATTAGCACCACCATTACCACCACCATCACCATT\t?AAAAF1FFA1BFGGG1GGGGGG?ECEHHFHHFGHFHGHCHGHCBF01FBFFHGGHG1BGFHHFFGFCGGGHHHHFEHHGEHBGBHFGGEHGHHHHHHHHH\tAS:i:0\tXN:i:0\tXM:i:0\tXO:i:0\tXG:i:0\tNM:i:0\tMD:Z:101\tYT:Z:UU\tNH:i:1\tXS:A:-\n",
      "M00698:36:000000000-AFBEL:1:2102:9931:20410\t0\tAP009048.1\t158\t50\t100M\t*\t0\t0\tGACAGATAAAAATTACAGAGTACACAACATCCATGAAACGCATTAGCACCACCATTACCACCACCATCACCATTACCACAGGTAACGGTGCGGGCTGACG\tABBBBFFFFFFFGGGGGGGGGGHHHHGGHHHHHHHHHHHGGGGGHHHHHHHHGHHHHHHHHGHHGHHHHHHHHHHHHHHHHHFHHHGGFGGGGGGGGHHG\tAS:i:0\tXN:i:0\tXM:i:0\tXO:i:0\tXG:i:0\tNM:i:0\tMD:Z:100\tYT:Z:UU\tNH:i:1\tXS:A:-\n",
      "M00698:36:000000000-AFBEL:1:1110:19238:18875\t0\tAP009048.1\t165\t50\t101M\t*\t0\t0\tAAAAATTACAGAGTACACAACATCCATGAAACGCATTAGCACCACCATTACCACCACCATCACCATTACCACAGGTAACGGTGCGGGCTGACGCGTACAGG\tBCCCCFFFFFFFGGGGGGGGGGHHHHHHHHHHGGGGGHHHHHHHHGHHHHHHHHGHHGHHHHHHHHHHHHHHHHHHHHHGGEHGGGGGGGHHGGGFGGGHH\tAS:i:0\tXN:i:0\tXM:i:0\tXO:i:0\tXG:i:0\tNM:i:0\tMD:Z:101\tYT:Z:UU\tNH:i:1\tXS:A:-\n",
      "M00698:36:000000000-AFBEL:1:1112:26114:7696\t0\tAP009048.1\t165\t50\t101M\t*\t0\t0\tAAAAATTACAGAGTACACAACATCCATGAAACGCATTAGCACCACCATTACCACCACCATCACCATTACCACAGGTAACGGTGCGGGCTGACGCGTACAGG\tCCCCCFFFFFFFGGGGGGGGGGHHHHHHHHHHGGGGGHHHHHHHHGHHHHGHHFGHHGHHHHHHHHHHHHHGHHHGHHHGGEHGGGGGGGHHGGGGGGGHH\tAS:i:0\tXN:i:0\tXM:i:0\tXO:i:0\tXG:i:0\tNM:i:0\tMD:Z:101\tYT:Z:UU\tNH:i:1\tXS:A:-\n"
     ]
    }
   ],
   "source": [
    "samtools view $CUR_DIR/accepted_hits.bam | head"
   ]
  },
  {
   "cell_type": "markdown",
   "metadata": {},
   "source": [
    "## Counting reads"
   ]
  },
  {
   "cell_type": "code",
   "execution_count": 33,
   "metadata": {},
   "outputs": [],
   "source": [
    "mkdir -p ${COUNT}"
   ]
  },
  {
   "cell_type": "code",
   "execution_count": 34,
   "metadata": {},
   "outputs": [
    {
     "name": "stdout",
     "output_type": "stream",
     "text": [
      "Usage: htseq-count [options] alignment_file gff_file\n",
      "\n",
      "This script takes an alignment file in SAM/BAM format and a feature file in\n",
      "GFF format and calculates for each feature the number of reads mapping to it.\n",
      "See http://www-huber.embl.de/users/anders/HTSeq/doc/count.html for details.\n",
      "\n",
      "Options:\n",
      "  -h, --help            show this help message and exit\n",
      "  -f SAMTYPE, --format=SAMTYPE\n",
      "                        type of <alignment_file> data, either 'sam' or 'bam'\n",
      "                        (default: sam)\n",
      "  -r ORDER, --order=ORDER\n",
      "                        'pos' or 'name'. Sorting order of <alignment_file>\n",
      "                        (default: name). Paired-end sequencing data must be\n",
      "                        sorted either by position or by read name, and the\n",
      "                        sorting order must be specified. Ignored for single-\n",
      "                        end data.\n",
      "  -s STRANDED, --stranded=STRANDED\n",
      "                        whether the data is from a strand-specific assay.\n",
      "                        Specify 'yes', 'no', or 'reverse' (default: yes).\n",
      "                        'reverse' means 'yes' with reversed strand\n",
      "                        interpretation\n",
      "  -a MINAQUAL, --minaqual=MINAQUAL\n",
      "                        skip all reads with alignment quality lower than the\n",
      "                        given minimum value (default: 10)\n",
      "  -t FEATURETYPE, --type=FEATURETYPE\n",
      "                        feature type (3rd column in GFF file) to be used, all\n",
      "                        features of other type are ignored (default, suitable\n",
      "                        for Ensembl GTF files: exon)\n",
      "  -i IDATTR, --idattr=IDATTR\n",
      "                        GFF attribute to be used as feature ID (default,\n",
      "                        suitable for Ensembl GTF files: gene_id)\n",
      "  -m MODE, --mode=MODE  mode to handle reads overlapping more than one feature\n",
      "                        (choices: union, intersection-strict, intersection-\n",
      "                        nonempty; default: union)\n",
      "  -o SAMOUT, --samout=SAMOUT\n",
      "                        write out all SAM alignment records into an output SAM\n",
      "                        file called SAMOUT, annotating each line with its\n",
      "                        feature assignment (as an optional field with tag\n",
      "                        'XF')\n",
      "  -q, --quiet           suppress progress report\n",
      "\n",
      "Written by Simon Anders (sanders@fs.tum.de), European Molecular Biology\n",
      "Laboratory (EMBL). (c) 2010. Released under the terms of the GNU General\n",
      "Public License v3. Part of the 'HTSeq' framework, version 0.7.2.\n"
     ]
    }
   ],
   "source": [
    "htseq-count -h | cat"
   ]
  },
  {
   "cell_type": "code",
   "execution_count": 35,
   "metadata": {},
   "outputs": [
    {
     "name": "stdout",
     "output_type": "stream",
     "text": [
      "##gff-version 3\n",
      "#!gff-spec-version 1.21\n",
      "#!processor NCBI annotwriter\n",
      "#!genome-build ASM1024v1\n",
      "#!genome-build-accession NCBI_Assembly:GCA_000010245.1\n",
      "##sequence-region AP009048.1 1 4646332\n",
      "##species https://www.ncbi.nlm.nih.gov/Taxonomy/Browser\n",
      "AP009048.1\tDDBJ\tregion\t1\t4646332\t.\t+\t.\tID=id0;Dbxref=ta\n",
      "AP009048.1\tDDBJ\tgene\t190\t255\t.\t+\t.\tID=gene0;Name=thrL;g\n",
      "AP009048.1\tDDBJ\tCDS\t190\t255\t.\t+\t0\tID=cds0;Parent=gene0;\n",
      "AP009048.1\tDDBJ\tgene\t337\t2799\t.\t+\t.\tID=gene1;Name=thrA;\n",
      "AP009048.1\tDDBJ\tCDS\t337\t2799\t.\t+\t0\tID=cds1;Parent=gene1\n",
      "AP009048.1\tDDBJ\tgene\t2801\t3733\t.\t+\t.\tID=gene2;Name=thrB\n",
      "AP009048.1\tDDBJ\tCDS\t2801\t3733\t.\t+\t0\tID=cds2;Parent=gene\n",
      "AP009048.1\tDDBJ\tgene\t3734\t5020\t.\t+\t.\tID=gene3;Name=thrC\n",
      "AP009048.1\tDDBJ\tCDS\t3734\t5020\t.\t+\t0\tID=cds3;Parent=gene\n",
      "AP009048.1\tDDBJ\tgene\t5234\t5530\t.\t+\t.\tID=gene4;Name=yaaX\n",
      "AP009048.1\tDDBJ\tCDS\t5234\t5530\t.\t+\t0\tID=cds4;Parent=gene\n",
      "AP009048.1\tDDBJ\tgene\t5683\t6459\t.\t-\t.\tID=gene5;Name=yaaA\n",
      "AP009048.1\tDDBJ\tCDS\t5683\t6459\t.\t-\t0\tID=cds5;Parent=gene\n"
     ]
    }
   ],
   "source": [
    "head -20 $REF/ecoli_w3110.gff | cut -c -55"
   ]
  },
  {
   "cell_type": "code",
   "execution_count": 36,
   "metadata": {},
   "outputs": [
    {
     "name": "stdout",
     "output_type": "stream",
     "text": [
      "[1] 29458\n",
      "[2] 29459\n",
      "[3] 29460\n",
      "[4] 29461\n",
      "[5] 29462\n",
      "[6] 29463\n",
      "[7] 29464\n",
      "[8] 29465\n",
      "[9] 29466\n",
      "[10] 29467\n",
      "[11] 29468\n",
      "[12] 29469\n",
      "[1]   Done                    htseq-count --quiet --format=bam --stranded=reverse --type=gene --idattr=ID ${ALIGN}/${CUR_SAMPLE_DIR}/accepted_hits.bam $REF/ecoli_w3110.gff > $CUR_COUNT\n",
      "[4]   Done                    htseq-count --quiet --format=bam --stranded=reverse --type=gene --idattr=ID ${ALIGN}/${CUR_SAMPLE_DIR}/accepted_hits.bam $REF/ecoli_w3110.gff > $CUR_COUNT\n",
      "[6]   Done                    htseq-count --quiet --format=bam --stranded=reverse --type=gene --idattr=ID ${ALIGN}/${CUR_SAMPLE_DIR}/accepted_hits.bam $REF/ecoli_w3110.gff > $CUR_COUNT\n",
      "[7]   Done                    htseq-count --quiet --format=bam --stranded=reverse --type=gene --idattr=ID ${ALIGN}/${CUR_SAMPLE_DIR}/accepted_hits.bam $REF/ecoli_w3110.gff > $CUR_COUNT\n",
      "[10]   Done                    htseq-count --quiet --format=bam --stranded=reverse --type=gene --idattr=ID ${ALIGN}/${CUR_SAMPLE_DIR}/accepted_hits.bam $REF/ecoli_w3110.gff > $CUR_COUNT\n",
      "[12]+  Done                    htseq-count --quiet --format=bam --stranded=reverse --type=gene --idattr=ID ${ALIGN}/${CUR_SAMPLE_DIR}/accepted_hits.bam $REF/ecoli_w3110.gff > $CUR_COUNT\n",
      "[2]   Done                    htseq-count --quiet --format=bam --stranded=reverse --type=gene --idattr=ID ${ALIGN}/${CUR_SAMPLE_DIR}/accepted_hits.bam $REF/ecoli_w3110.gff > $CUR_COUNT\n",
      "[3]   Done                    htseq-count --quiet --format=bam --stranded=reverse --type=gene --idattr=ID ${ALIGN}/${CUR_SAMPLE_DIR}/accepted_hits.bam $REF/ecoli_w3110.gff > $CUR_COUNT\n",
      "[5]   Done                    htseq-count --quiet --format=bam --stranded=reverse --type=gene --idattr=ID ${ALIGN}/${CUR_SAMPLE_DIR}/accepted_hits.bam $REF/ecoli_w3110.gff > $CUR_COUNT\n",
      "[8]   Done                    htseq-count --quiet --format=bam --stranded=reverse --type=gene --idattr=ID ${ALIGN}/${CUR_SAMPLE_DIR}/accepted_hits.bam $REF/ecoli_w3110.gff > $CUR_COUNT\n",
      "[9]-  Done                    htseq-count --quiet --format=bam --stranded=reverse --type=gene --idattr=ID ${ALIGN}/${CUR_SAMPLE_DIR}/accepted_hits.bam $REF/ecoli_w3110.gff > $CUR_COUNT\n",
      "[11]+  Done                    htseq-count --quiet --format=bam --stranded=reverse --type=gene --idattr=ID ${ALIGN}/${CUR_SAMPLE_DIR}/accepted_hits.bam $REF/ecoli_w3110.gff > $CUR_COUNT\n"
     ]
    }
   ],
   "source": [
    "for CUR_SAMPLE_DIR in $(ls ${ALIGN})\n",
    "do\n",
    "    CUR_COUNT=${COUNT}/${CUR_SAMPLE_DIR}.tsv\n",
    "    htseq-count \\\n",
    "        --quiet \\\n",
    "        --format=bam \\\n",
    "        --stranded=reverse \\\n",
    "        --type=gene \\\n",
    "        --idattr=ID \\\n",
    "        ${ALIGN}/${CUR_SAMPLE_DIR}/accepted_hits.bam \\\n",
    "        $REF/ecoli_w3110.gff > $CUR_COUNT &\n",
    "done\n",
    "wait"
   ]
  },
  {
   "cell_type": "code",
   "execution_count": 37,
   "metadata": {},
   "outputs": [
    {
     "name": "stdout",
     "output_type": "stream",
     "text": [
      "gene0\t0\n",
      "gene1\t0\n",
      "gene10\t0\n",
      "gene100\t1\n",
      "gene1000\t0\n",
      "gene1001\t1\n",
      "gene1002\t0\n",
      "gene1003\t1\n",
      "gene1004\t0\n",
      "gene1005\t1\n"
     ]
    }
   ],
   "source": [
    "head $CUR_COUNT"
   ]
  },
  {
   "cell_type": "code",
   "execution_count": 38,
   "metadata": {},
   "outputs": [
    {
     "name": "stdout",
     "output_type": "stream",
     "text": [
      "gene995\t2\n",
      "gene996\t7\n",
      "gene997\t3\n",
      "gene998\t1\n",
      "gene999\t4\n",
      "__no_feature\t1165821\n",
      "__ambiguous\t147\n",
      "__too_low_aQual\t0\n",
      "__not_aligned\t0\n",
      "__alignment_not_unique\t0\n"
     ]
    }
   ],
   "source": [
    "tail $CUR_COUNT"
   ]
  },
  {
   "cell_type": "code",
   "execution_count": null,
   "metadata": {
    "collapsed": true
   },
   "outputs": [],
   "source": []
  }
 ],
 "metadata": {
  "kernelspec": {
   "display_name": "Bash",
   "language": "bash",
   "name": "bash"
  },
  "language_info": {
   "codemirror_mode": "shell",
   "file_extension": ".sh",
   "mimetype": "text/x-sh",
   "name": "bash"
  }
 },
 "nbformat": 4,
 "nbformat_minor": 2
}
