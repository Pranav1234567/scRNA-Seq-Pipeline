{
 "cells": [
  {
   "cell_type": "markdown",
   "metadata": {},
   "source": [
    "# Using DESeq\n",
    "\n",
    "[Simon Anders, Wolfgang Huber: Differential expression analysis for sequence count data. Genome Biology 2010, 11:106.](http://dx.doi.org/10.1186/gb-2010-11-10-r106)"
   ]
  },
  {
   "cell_type": "code",
   "execution_count": 48,
   "metadata": {
    "collapsed": true
   },
   "outputs": [],
   "source": [
    "suppressPackageStartupMessages(library(tidyverse))"
   ]
  },
  {
   "cell_type": "code",
   "execution_count": 49,
   "metadata": {
    "collapsed": true
   },
   "outputs": [],
   "source": [
    "suppressPackageStartupMessages(library(DESeq2))"
   ]
  },
  {
   "cell_type": "markdown",
   "metadata": {},
   "source": [
    "## Processing FastQ"
   ]
  },
  {
   "cell_type": "code",
   "execution_count": 50,
   "metadata": {
    "collapsed": true
   },
   "outputs": [],
   "source": [
    "data.dir <- \"/Volumes/HD2/hts-course-stat/CURRENT/Data/studentcounts2015\""
   ]
  },
  {
   "cell_type": "code",
   "execution_count": 51,
   "metadata": {},
   "outputs": [],
   "source": [
    "fs <- list.files(path = data.dir, pattern = '*.csv')"
   ]
  },
  {
   "cell_type": "code",
   "execution_count": 52,
   "metadata": {},
   "outputs": [],
   "source": [
    "df <- data.frame(files=fs, stringsAsFactors=F)"
   ]
  },
  {
   "cell_type": "code",
   "execution_count": 53,
   "metadata": {},
   "outputs": [
    {
     "data": {
      "text/html": [
       "<table>\n",
       "<thead><tr><th scope=col>files</th></tr></thead>\n",
       "<tbody>\n",
       "\t<tr><td>7A_E.csv</td></tr>\n",
       "\t<tr><td>7A_G.csv</td></tr>\n",
       "\t<tr><td>7A_K.csv</td></tr>\n",
       "</tbody>\n",
       "</table>\n"
      ],
      "text/latex": [
       "\\begin{tabular}{r|l}\n",
       " files\\\\\n",
       "\\hline\n",
       "\t 7A\\_E.csv\\\\\n",
       "\t 7A\\_G.csv\\\\\n",
       "\t 7A\\_K.csv\\\\\n",
       "\\end{tabular}\n"
      ],
      "text/markdown": [
       "\n",
       "files | \n",
       "|---|---|---|\n",
       "| 7A_E.csv | \n",
       "| 7A_G.csv | \n",
       "| 7A_K.csv | \n",
       "\n",
       "\n"
      ],
      "text/plain": [
       "  files   \n",
       "1 7A_E.csv\n",
       "2 7A_G.csv\n",
       "3 7A_K.csv"
      ]
     },
     "metadata": {},
     "output_type": "display_data"
    }
   ],
   "source": [
    "head(df, 3)"
   ]
  },
  {
   "cell_type": "code",
   "execution_count": 54,
   "metadata": {},
   "outputs": [],
   "source": [
    "df <- df %>% transmute(sample=substr(files, 1, 4), files) %>%\n",
    "mutate(treatment=as.factor(substr(sample, 1, 1)), \n",
    "       repl=as.factor(substr(sample, 2, 2)),\n",
    "       team=as.factor(substr(sample, 4,4)))"
   ]
  },
  {
   "cell_type": "code",
   "execution_count": 55,
   "metadata": {},
   "outputs": [
    {
     "data": {
      "text/html": [
       "<table>\n",
       "<thead><tr><th scope=col>sample</th><th scope=col>files</th><th scope=col>treatment</th><th scope=col>repl</th><th scope=col>team</th></tr></thead>\n",
       "<tbody>\n",
       "\t<tr><td>7A_E    </td><td>7A_E.csv</td><td>7       </td><td>A       </td><td>E       </td></tr>\n",
       "\t<tr><td>7A_G    </td><td>7A_G.csv</td><td>7       </td><td>A       </td><td>G       </td></tr>\n",
       "\t<tr><td>7A_K    </td><td>7A_K.csv</td><td>7       </td><td>A       </td><td>K       </td></tr>\n",
       "</tbody>\n",
       "</table>\n"
      ],
      "text/latex": [
       "\\begin{tabular}{r|lllll}\n",
       " sample & files & treatment & repl & team\\\\\n",
       "\\hline\n",
       "\t 7A\\_E     & 7A\\_E.csv & 7          & A          & E         \\\\\n",
       "\t 7A\\_G     & 7A\\_G.csv & 7          & A          & G         \\\\\n",
       "\t 7A\\_K     & 7A\\_K.csv & 7          & A          & K         \\\\\n",
       "\\end{tabular}\n"
      ],
      "text/markdown": [
       "\n",
       "sample | files | treatment | repl | team | \n",
       "|---|---|---|\n",
       "| 7A_E     | 7A_E.csv | 7        | A        | E        | \n",
       "| 7A_G     | 7A_G.csv | 7        | A        | G        | \n",
       "| 7A_K     | 7A_K.csv | 7        | A        | K        | \n",
       "\n",
       "\n"
      ],
      "text/plain": [
       "  sample files    treatment repl team\n",
       "1 7A_E   7A_E.csv 7         A    E   \n",
       "2 7A_G   7A_G.csv 7         A    G   \n",
       "3 7A_K   7A_K.csv 7         A    K   "
      ]
     },
     "metadata": {},
     "output_type": "display_data"
    }
   ],
   "source": [
    "head(df, 3)"
   ]
  },
  {
   "cell_type": "code",
   "execution_count": 56,
   "metadata": {},
   "outputs": [],
   "source": [
    "htseq <- DESeqDataSetFromHTSeqCount(directory = data.dir, \n",
    "                                    sampleTable = df, \n",
    "                                    design=~ treatment)"
   ]
  },
  {
   "cell_type": "code",
   "execution_count": 57,
   "metadata": {},
   "outputs": [
    {
     "data": {
      "text/plain": [
       "class: DESeqDataSet \n",
       "dim: 4444 30 \n",
       "metadata(1): version\n",
       "assays(1): counts\n",
       "rownames(4444): gene0 gene1 ... gene998 gene999\n",
       "rowData names(0):\n",
       "colnames(30): 7A_E 7A_G ... 8C_N 8C_P\n",
       "colData names(3): treatment repl team"
      ]
     },
     "metadata": {},
     "output_type": "display_data"
    }
   ],
   "source": [
    "htseq"
   ]
  },
  {
   "cell_type": "markdown",
   "metadata": {},
   "source": [
    "### Data \n",
    "\n",
    "4444 genes and 30 samples"
   ]
  },
  {
   "cell_type": "code",
   "execution_count": 58,
   "metadata": {},
   "outputs": [
    {
     "data": {
      "text/html": [
       "<ol class=list-inline>\n",
       "\t<li>4444</li>\n",
       "\t<li>30</li>\n",
       "</ol>\n"
      ],
      "text/latex": [
       "\\begin{enumerate*}\n",
       "\\item 4444\n",
       "\\item 30\n",
       "\\end{enumerate*}\n"
      ],
      "text/markdown": [
       "1. 4444\n",
       "2. 30\n",
       "\n",
       "\n"
      ],
      "text/plain": [
       "[1] 4444   30"
      ]
     },
     "metadata": {},
     "output_type": "display_data"
    }
   ],
   "source": [
    "dim(counts(htseq))"
   ]
  },
  {
   "cell_type": "code",
   "execution_count": 59,
   "metadata": {},
   "outputs": [
    {
     "data": {
      "text/html": [
       "<table>\n",
       "<thead><tr><th></th><th scope=col>7A_E</th><th scope=col>7A_G</th><th scope=col>7A_K</th><th scope=col>7A_N</th><th scope=col>7A_P</th><th scope=col>7B_E</th><th scope=col>7B_G</th><th scope=col>7B_K</th><th scope=col>7B_N</th><th scope=col>7B_P</th><th scope=col>⋯</th><th scope=col>8B_E</th><th scope=col>8B_G</th><th scope=col>8B_K</th><th scope=col>8B_N</th><th scope=col>8B_P</th><th scope=col>8C_E</th><th scope=col>8C_G</th><th scope=col>8C_K</th><th scope=col>8C_N</th><th scope=col>8C_P</th></tr></thead>\n",
       "<tbody>\n",
       "\t<tr><th scope=row>gene0</th><td>  9</td><td> 17</td><td>11 </td><td>17 </td><td> 11</td><td> 12</td><td> 22</td><td> 20</td><td> 6 </td><td>  9</td><td>⋯  </td><td>  8</td><td> 29</td><td> 17</td><td>12 </td><td> 28</td><td> 10</td><td>22 </td><td> 15</td><td>  7</td><td> 25</td></tr>\n",
       "\t<tr><th scope=row>gene1</th><td>108</td><td>170</td><td>97 </td><td>88 </td><td>173</td><td>119</td><td>241</td><td>103</td><td>51 </td><td>162</td><td>⋯  </td><td>164</td><td>215</td><td>171</td><td>99 </td><td>238</td><td>196</td><td>98 </td><td>153</td><td>121</td><td>247</td></tr>\n",
       "\t<tr><th scope=row>gene10</th><td>  3</td><td>  0</td><td> 7 </td><td> 3 </td><td>  3</td><td>  2</td><td>  1</td><td>  1</td><td> 2 </td><td>  2</td><td>⋯  </td><td>  3</td><td>  0</td><td>  3</td><td> 1 </td><td>  1</td><td>  7</td><td> 3 </td><td>  2</td><td>  3</td><td>  1</td></tr>\n",
       "</tbody>\n",
       "</table>\n"
      ],
      "text/latex": [
       "\\begin{tabular}{r|llllllllllllllllllllllllllllll}\n",
       "  & 7A\\_E & 7A\\_G & 7A\\_K & 7A\\_N & 7A\\_P & 7B\\_E & 7B\\_G & 7B\\_K & 7B\\_N & 7B\\_P & ⋯ & 8B\\_E & 8B\\_G & 8B\\_K & 8B\\_N & 8B\\_P & 8C\\_E & 8C\\_G & 8C\\_K & 8C\\_N & 8C\\_P\\\\\n",
       "\\hline\n",
       "\tgene0 &   9 &  17 & 11  & 17  &  11 &  12 &  22 &  20 &  6  &   9 & ⋯   &   8 &  29 &  17 & 12  &  28 &  10 & 22  &  15 &   7 &  25\\\\\n",
       "\tgene1 & 108 & 170 & 97  & 88  & 173 & 119 & 241 & 103 & 51  & 162 & ⋯   & 164 & 215 & 171 & 99  & 238 & 196 & 98  & 153 & 121 & 247\\\\\n",
       "\tgene10 &   3 &   0 &  7  &  3  &   3 &   2 &   1 &   1 &  2  &   2 & ⋯   &   3 &   0 &   3 &  1  &   1 &   7 &  3  &   2 &   3 &   1\\\\\n",
       "\\end{tabular}\n"
      ],
      "text/markdown": [
       "\n",
       "| <!--/--> | 7A_E | 7A_G | 7A_K | 7A_N | 7A_P | 7B_E | 7B_G | 7B_K | 7B_N | 7B_P | ⋯ | 8B_E | 8B_G | 8B_K | 8B_N | 8B_P | 8C_E | 8C_G | 8C_K | 8C_N | 8C_P | \n",
       "|---|---|---|\n",
       "| gene0 |   9 |  17 | 11  | 17  |  11 |  12 |  22 |  20 |  6  |   9 | ⋯   |   8 |  29 |  17 | 12  |  28 |  10 | 22  |  15 |   7 |  25 | \n",
       "| gene1 | 108 | 170 | 97  | 88  | 173 | 119 | 241 | 103 | 51  | 162 | ⋯   | 164 | 215 | 171 | 99  | 238 | 196 | 98  | 153 | 121 | 247 | \n",
       "| gene10 |   3 |   0 |  7  |  3  |   3 |   2 |   1 |   1 |  2  |   2 | ⋯   |   3 |   0 |   3 |  1  |   1 |   7 |  3  |   2 |   3 |   1 | \n",
       "\n",
       "\n"
      ],
      "text/plain": [
       "       7A_E 7A_G 7A_K 7A_N 7A_P 7B_E 7B_G 7B_K 7B_N 7B_P ⋯ 8B_E 8B_G 8B_K 8B_N\n",
       "gene0    9   17  11   17    11   12   22   20   6     9  ⋯   8   29   17  12  \n",
       "gene1  108  170  97   88   173  119  241  103  51   162  ⋯ 164  215  171  99  \n",
       "gene10   3    0   7    3     3    2    1    1   2     2  ⋯   3    0    3   1  \n",
       "       8B_P 8C_E 8C_G 8C_K 8C_N 8C_P\n",
       "gene0   28   10  22    15    7   25 \n",
       "gene1  238  196  98   153  121  247 \n",
       "gene10   1    7   3     2    3    1 "
      ]
     },
     "metadata": {},
     "output_type": "display_data"
    }
   ],
   "source": [
    "head(counts(htseq), 3)"
   ]
  },
  {
   "cell_type": "code",
   "execution_count": 60,
   "metadata": {},
   "outputs": [
    {
     "name": "stderr",
     "output_type": "stream",
     "text": [
      "estimating size factors\n",
      "estimating dispersions\n",
      "gene-wise dispersion estimates\n",
      "mean-dispersion relationship\n",
      "final dispersion estimates\n",
      "fitting model and testing\n",
      "-- replacing outliers and refitting for 46 genes\n",
      "-- DESeq argument 'minReplicatesForReplace' = 7 \n",
      "-- original counts are preserved in counts(dds)\n",
      "estimating dispersions\n",
      "fitting model and testing\n"
     ]
    }
   ],
   "source": [
    "de <- DESeq(htseq)"
   ]
  },
  {
   "cell_type": "markdown",
   "metadata": {},
   "source": [
    "### Normalized counts"
   ]
  },
  {
   "cell_type": "code",
   "execution_count": 62,
   "metadata": {
    "scrolled": true
   },
   "outputs": [
    {
     "data": {
      "text/html": [
       "<table>\n",
       "<thead><tr><th></th><th scope=col>7A_E</th><th scope=col>7A_G</th><th scope=col>7A_K</th><th scope=col>7A_N</th><th scope=col>7A_P</th><th scope=col>7B_E</th><th scope=col>7B_G</th><th scope=col>7B_K</th><th scope=col>7B_N</th><th scope=col>7B_P</th><th scope=col>⋯</th><th scope=col>8B_E</th><th scope=col>8B_G</th><th scope=col>8B_K</th><th scope=col>8B_N</th><th scope=col>8B_P</th><th scope=col>8C_E</th><th scope=col>8C_G</th><th scope=col>8C_K</th><th scope=col>8C_N</th><th scope=col>8C_P</th></tr></thead>\n",
       "<tbody>\n",
       "\t<tr><th scope=row>gene0</th><td>  8.987548 </td><td> 14.98392  </td><td>10.476357  </td><td>18.231760  </td><td> 10.270378 </td><td> 11.408986 </td><td> 15.8224808</td><td>18.3164294 </td><td> 13.377277 </td><td>  7.566147 </td><td>⋯          </td><td>  5.672115 </td><td> 25.80545  </td><td> 13.54928  </td><td> 19.36032  </td><td> 29.146080 </td><td>  6.456431 </td><td>19.43201   </td><td> 14.430438 </td><td>  9.810017 </td><td> 25.07025  </td></tr>\n",
       "\t<tr><th scope=row>gene1</th><td>107.850571 </td><td>149.83919  </td><td>92.382420  </td><td>94.376167  </td><td>161.525030 </td><td>113.139110 </td><td>173.3280851</td><td>94.3296112 </td><td>113.706858 </td><td>136.190642 </td><td>⋯          </td><td>116.278353 </td><td>191.31629  </td><td>136.28986  </td><td>159.72261  </td><td>247.741682 </td><td>126.546050 </td><td>86.56078   </td><td>147.190472 </td><td>169.573151 </td><td>247.69411  </td></tr>\n",
       "\t<tr><th scope=row>gene10</th><td>  2.995849 </td><td>  0.00000  </td><td> 6.666773  </td><td> 3.217369  </td><td>  2.801012 </td><td>  1.901498 </td><td>  0.7192037</td><td> 0.9158215 </td><td>  4.459092 </td><td>  1.681366 </td><td>⋯          </td><td>  2.127043 </td><td>  0.00000  </td><td>  2.39105  </td><td>  1.61336  </td><td>  1.040931 </td><td>  4.519502 </td><td> 2.64982   </td><td>  1.924058 </td><td>  4.204293 </td><td>  1.00281  </td></tr>\n",
       "</tbody>\n",
       "</table>\n"
      ],
      "text/latex": [
       "\\begin{tabular}{r|llllllllllllllllllllllllllllll}\n",
       "  & 7A\\_E & 7A\\_G & 7A\\_K & 7A\\_N & 7A\\_P & 7B\\_E & 7B\\_G & 7B\\_K & 7B\\_N & 7B\\_P & ⋯ & 8B\\_E & 8B\\_G & 8B\\_K & 8B\\_N & 8B\\_P & 8C\\_E & 8C\\_G & 8C\\_K & 8C\\_N & 8C\\_P\\\\\n",
       "\\hline\n",
       "\tgene0 &   8.987548  &  14.98392   & 10.476357   & 18.231760   &  10.270378  &  11.408986  &  15.8224808 & 18.3164294  &  13.377277  &   7.566147  & ⋯           &   5.672115  &  25.80545   &  13.54928   &  19.36032   &  29.146080  &   6.456431  & 19.43201    &  14.430438  &   9.810017  &  25.07025  \\\\\n",
       "\tgene1 & 107.850571  & 149.83919   & 92.382420   & 94.376167   & 161.525030  & 113.139110  & 173.3280851 & 94.3296112  & 113.706858  & 136.190642  & ⋯           & 116.278353  & 191.31629   & 136.28986   & 159.72261   & 247.741682  & 126.546050  & 86.56078    & 147.190472  & 169.573151  & 247.69411  \\\\\n",
       "\tgene10 &   2.995849  &   0.00000   &  6.666773   &  3.217369   &   2.801012  &   1.901498  &   0.7192037 &  0.9158215  &   4.459092  &   1.681366  & ⋯           &   2.127043  &   0.00000   &   2.39105   &   1.61336   &   1.040931  &   4.519502  &  2.64982    &   1.924058  &   4.204293  &   1.00281  \\\\\n",
       "\\end{tabular}\n"
      ],
      "text/markdown": [
       "\n",
       "| <!--/--> | 7A_E | 7A_G | 7A_K | 7A_N | 7A_P | 7B_E | 7B_G | 7B_K | 7B_N | 7B_P | ⋯ | 8B_E | 8B_G | 8B_K | 8B_N | 8B_P | 8C_E | 8C_G | 8C_K | 8C_N | 8C_P | \n",
       "|---|---|---|\n",
       "| gene0 |   8.987548  |  14.98392   | 10.476357   | 18.231760   |  10.270378  |  11.408986  |  15.8224808 | 18.3164294  |  13.377277  |   7.566147  | ⋯           |   5.672115  |  25.80545   |  13.54928   |  19.36032   |  29.146080  |   6.456431  | 19.43201    |  14.430438  |   9.810017  |  25.07025   | \n",
       "| gene1 | 107.850571  | 149.83919   | 92.382420   | 94.376167   | 161.525030  | 113.139110  | 173.3280851 | 94.3296112  | 113.706858  | 136.190642  | ⋯           | 116.278353  | 191.31629   | 136.28986   | 159.72261   | 247.741682  | 126.546050  | 86.56078    | 147.190472  | 169.573151  | 247.69411   | \n",
       "| gene10 |   2.995849  |   0.00000   |  6.666773   |  3.217369   |   2.801012  |   1.901498  |   0.7192037 |  0.9158215  |   4.459092  |   1.681366  | ⋯           |   2.127043  |   0.00000   |   2.39105   |   1.61336   |   1.040931  |   4.519502  |  2.64982    |   1.924058  |   4.204293  |   1.00281   | \n",
       "\n",
       "\n"
      ],
      "text/plain": [
       "       7A_E       7A_G      7A_K      7A_N      7A_P       7B_E      \n",
       "gene0    8.987548  14.98392 10.476357 18.231760  10.270378  11.408986\n",
       "gene1  107.850571 149.83919 92.382420 94.376167 161.525030 113.139110\n",
       "gene10   2.995849   0.00000  6.666773  3.217369   2.801012   1.901498\n",
       "       7B_G        7B_K       7B_N       7B_P       ⋯ 8B_E       8B_G     \n",
       "gene0   15.8224808 18.3164294  13.377277   7.566147 ⋯   5.672115  25.80545\n",
       "gene1  173.3280851 94.3296112 113.706858 136.190642 ⋯ 116.278353 191.31629\n",
       "gene10   0.7192037  0.9158215   4.459092   1.681366 ⋯   2.127043   0.00000\n",
       "       8B_K      8B_N      8B_P       8C_E       8C_G     8C_K       8C_N      \n",
       "gene0   13.54928  19.36032  29.146080   6.456431 19.43201  14.430438   9.810017\n",
       "gene1  136.28986 159.72261 247.741682 126.546050 86.56078 147.190472 169.573151\n",
       "gene10   2.39105   1.61336   1.040931   4.519502  2.64982   1.924058   4.204293\n",
       "       8C_P     \n",
       "gene0   25.07025\n",
       "gene1  247.69411\n",
       "gene10   1.00281"
      ]
     },
     "metadata": {},
     "output_type": "display_data"
    }
   ],
   "source": [
    "head(counts(de, normalize=T), 3)"
   ]
  },
  {
   "cell_type": "markdown",
   "metadata": {},
   "source": [
    "### Mean-dispersion plot"
   ]
  },
  {
   "cell_type": "code",
   "execution_count": 61,
   "metadata": {},
   "outputs": [
    {
     "name": "stderr",
     "output_type": "stream",
     "text": [
      "Warning message:\n",
      "“Removed 58 rows containing missing values (geom_point).”"
     ]
    },
    {
     "data": {},
     "metadata": {},
     "output_type": "display_data"
    },
    {
     "data": {
      "image/png": "[encoded data removed]",
      "text/plain": [
       "plot without title"
      ]
     },
     "metadata": {},
     "output_type": "display_data"
    }
   ],
   "source": [
    "ggplot(data.frame(mean=log1p(apply(counts(de, normalize=T), 1, mean)), \n",
    "                  dispersion=dispersions(de)),\n",
    "       aes(x=mean, y=dispersion)) +\n",
    "geom_point(size=1, alpha=0.2)"
   ]
  },
  {
   "cell_type": "markdown",
   "metadata": {},
   "source": [
    "## Analysis of individual teams"
   ]
  },
  {
   "cell_type": "code",
   "execution_count": 81,
   "metadata": {},
   "outputs": [],
   "source": [
    "de.E <- de[, de@colData$team == 'E']"
   ]
  },
  {
   "cell_type": "code",
   "execution_count": 82,
   "metadata": {},
   "outputs": [
    {
     "data": {
      "text/plain": [
       "class: DESeqDataSet \n",
       "dim: 4444 6 \n",
       "metadata(1): version\n",
       "assays(5): counts mu cooks replaceCounts replaceCooks\n",
       "rownames(4444): gene0 gene1 ... gene998 gene999\n",
       "rowData names(22): baseMean baseVar ... maxCooks replace\n",
       "colnames(6): 7A_E 7B_E ... 8B_E 8C_E\n",
       "colData names(5): treatment repl team sizeFactor replaceable"
      ]
     },
     "metadata": {},
     "output_type": "display_data"
    }
   ],
   "source": [
    "de.E"
   ]
  },
  {
   "cell_type": "code",
   "execution_count": 83,
   "metadata": {},
   "outputs": [
    {
     "data": {
      "text/html": [
       "<ol class=list-inline>\n",
       "\t<li>4444</li>\n",
       "\t<li>6</li>\n",
       "</ol>\n"
      ],
      "text/latex": [
       "\\begin{enumerate*}\n",
       "\\item 4444\n",
       "\\item 6\n",
       "\\end{enumerate*}\n"
      ],
      "text/markdown": [
       "1. 4444\n",
       "2. 6\n",
       "\n",
       "\n"
      ],
      "text/plain": [
       "[1] 4444    6"
      ]
     },
     "metadata": {},
     "output_type": "display_data"
    }
   ],
   "source": [
    "dim(counts(de.E))"
   ]
  },
  {
   "cell_type": "code",
   "execution_count": 84,
   "metadata": {},
   "outputs": [
    {
     "data": {
      "text/html": [
       "<table>\n",
       "<thead><tr><th></th><th scope=col>7A_E</th><th scope=col>7B_E</th><th scope=col>7C_E</th><th scope=col>8A_E</th><th scope=col>8B_E</th><th scope=col>8C_E</th></tr></thead>\n",
       "<tbody>\n",
       "\t<tr><th scope=row>gene0</th><td>  9</td><td> 12</td><td> 19</td><td> 21</td><td>  8</td><td> 10</td></tr>\n",
       "\t<tr><th scope=row>gene1</th><td>108</td><td>119</td><td>155</td><td>193</td><td>164</td><td>196</td></tr>\n",
       "\t<tr><th scope=row>gene10</th><td>  3</td><td>  2</td><td>  2</td><td>  6</td><td>  3</td><td>  7</td></tr>\n",
       "</tbody>\n",
       "</table>\n"
      ],
      "text/latex": [
       "\\begin{tabular}{r|llllll}\n",
       "  & 7A\\_E & 7B\\_E & 7C\\_E & 8A\\_E & 8B\\_E & 8C\\_E\\\\\n",
       "\\hline\n",
       "\tgene0 &   9 &  12 &  19 &  21 &   8 &  10\\\\\n",
       "\tgene1 & 108 & 119 & 155 & 193 & 164 & 196\\\\\n",
       "\tgene10 &   3 &   2 &   2 &   6 &   3 &   7\\\\\n",
       "\\end{tabular}\n"
      ],
      "text/markdown": [
       "\n",
       "| <!--/--> | 7A_E | 7B_E | 7C_E | 8A_E | 8B_E | 8C_E | \n",
       "|---|---|---|\n",
       "| gene0 |   9 |  12 |  19 |  21 |   8 |  10 | \n",
       "| gene1 | 108 | 119 | 155 | 193 | 164 | 196 | \n",
       "| gene10 |   3 |   2 |   2 |   6 |   3 |   7 | \n",
       "\n",
       "\n"
      ],
      "text/plain": [
       "       7A_E 7B_E 7C_E 8A_E 8B_E 8C_E\n",
       "gene0    9   12   19   21    8   10 \n",
       "gene1  108  119  155  193  164  196 \n",
       "gene10   3    2    2    6    3    7 "
      ]
     },
     "metadata": {},
     "output_type": "display_data"
    }
   ],
   "source": [
    "head(counts(de.E), 3)"
   ]
  },
  {
   "cell_type": "code",
   "execution_count": 115,
   "metadata": {},
   "outputs": [
    {
     "data": {
      "image/png": "[encoded data removed]",
      "text/plain": [
       "plot without title"
      ]
     },
     "metadata": {},
     "output_type": "display_data"
    }
   ],
   "source": [
    "boxplot(log(dispersions(de.E))) "
   ]
  },
  {
   "cell_type": "code",
   "execution_count": 140,
   "metadata": {},
   "outputs": [],
   "source": [
    "res <- results(de.E)"
   ]
  },
  {
   "cell_type": "code",
   "execution_count": 141,
   "metadata": {},
   "outputs": [
    {
     "data": {
      "text/plain": [
       "log2 fold change (MLE): treatment 8 vs 7 \n",
       "Wald test p-value: treatment 8 vs 7 \n",
       "DataFrame with 4 rows and 6 columns\n",
       "          baseMean log2FoldChange     lfcSE       stat       pvalue        padj\n",
       "         <numeric>      <numeric> <numeric>  <numeric>    <numeric>   <numeric>\n",
       "gene0    15.274431      0.2993059 0.2244440  1.3335435 0.1823535183 0.335028826\n",
       "gene1   145.603062      0.4360634 0.1308688  3.3320662 0.0008620376 0.004175252\n",
       "gene10    2.605083     -0.3214136 0.4133084 -0.7776604 0.4367692261 0.615109509\n",
       "gene100  20.323396      0.0880341 0.1514543  0.5812586 0.5610661707 0.724668348"
      ]
     },
     "metadata": {},
     "output_type": "display_data"
    }
   ],
   "source": [
    "res[1:4,]"
   ]
  },
  {
   "cell_type": "code",
   "execution_count": 144,
   "metadata": {},
   "outputs": [
    {
     "data": {
      "text/html": [
       "<table>\n",
       "<thead><tr><th scope=col>colums</th></tr></thead>\n",
       "<tbody>\n",
       "\t<tr><td>mean of normalized counts for all samples</td></tr>\n",
       "\t<tr><td>log2 fold change (MLE): treatment 8 vs 7 </td></tr>\n",
       "\t<tr><td>standard error: treatment 8 vs 7         </td></tr>\n",
       "\t<tr><td>Wald statistic: treatment 8 vs 7         </td></tr>\n",
       "\t<tr><td>Wald test p-value: treatment 8 vs 7      </td></tr>\n",
       "\t<tr><td>BH adjusted p-values                     </td></tr>\n",
       "</tbody>\n",
       "</table>\n"
      ],
      "text/latex": [
       "\\begin{tabular}{r|l}\n",
       " colums\\\\\n",
       "\\hline\n",
       "\t mean of normalized counts for all samples\\\\\n",
       "\t log2 fold change (MLE): treatment 8 vs 7 \\\\\n",
       "\t standard error: treatment 8 vs 7         \\\\\n",
       "\t Wald statistic: treatment 8 vs 7         \\\\\n",
       "\t Wald test p-value: treatment 8 vs 7      \\\\\n",
       "\t BH adjusted p-values                     \\\\\n",
       "\\end{tabular}\n"
      ],
      "text/markdown": [
       "\n",
       "colums | \n",
       "|---|---|---|---|---|---|\n",
       "| mean of normalized counts for all samples | \n",
       "| log2 fold change (MLE): treatment 8 vs 7  | \n",
       "| standard error: treatment 8 vs 7          | \n",
       "| Wald statistic: treatment 8 vs 7          | \n",
       "| Wald test p-value: treatment 8 vs 7       | \n",
       "| BH adjusted p-values                      | \n",
       "\n",
       "\n"
      ],
      "text/plain": [
       "  colums                                   \n",
       "1 mean of normalized counts for all samples\n",
       "2 log2 fold change (MLE): treatment 8 vs 7 \n",
       "3 standard error: treatment 8 vs 7         \n",
       "4 Wald statistic: treatment 8 vs 7         \n",
       "5 Wald test p-value: treatment 8 vs 7      \n",
       "6 BH adjusted p-values                     "
      ]
     },
     "metadata": {},
     "output_type": "display_data"
    }
   ],
   "source": [
    "data.frame(colums = mcols(res)$description)"
   ]
  },
  {
   "cell_type": "code",
   "execution_count": 145,
   "metadata": {},
   "outputs": [],
   "source": [
    "res <- as.data.frame(res) %>% mutate(BH = p.adjust(pvalue, 'BH'))"
   ]
  },
  {
   "cell_type": "code",
   "execution_count": 146,
   "metadata": {},
   "outputs": [
    {
     "data": {
      "text/html": [
       "<table>\n",
       "<thead><tr><th scope=col>baseMean</th><th scope=col>log2FoldChange</th><th scope=col>lfcSE</th><th scope=col>stat</th><th scope=col>pvalue</th><th scope=col>padj</th><th scope=col>BH</th></tr></thead>\n",
       "<tbody>\n",
       "\t<tr><td> 15.274431  </td><td> 0.2993059  </td><td>0.2244440   </td><td> 1.3335435  </td><td>0.1823535183</td><td>0.335028826 </td><td>0.341649949 </td></tr>\n",
       "\t<tr><td>145.603062  </td><td> 0.4360634  </td><td>0.1308688   </td><td> 3.3320662  </td><td>0.0008620376</td><td>0.004175252 </td><td>0.004257767 </td></tr>\n",
       "\t<tr><td>  2.605083  </td><td>-0.3214136  </td><td>0.4133084   </td><td>-0.7776604  </td><td>0.4367692261</td><td>0.615109509 </td><td>0.627265824 </td></tr>\n",
       "</tbody>\n",
       "</table>\n"
      ],
      "text/latex": [
       "\\begin{tabular}{r|lllllll}\n",
       " baseMean & log2FoldChange & lfcSE & stat & pvalue & padj & BH\\\\\n",
       "\\hline\n",
       "\t  15.274431   &  0.2993059   & 0.2244440    &  1.3335435   & 0.1823535183 & 0.335028826  & 0.341649949 \\\\\n",
       "\t 145.603062   &  0.4360634   & 0.1308688    &  3.3320662   & 0.0008620376 & 0.004175252  & 0.004257767 \\\\\n",
       "\t   2.605083   & -0.3214136   & 0.4133084    & -0.7776604   & 0.4367692261 & 0.615109509  & 0.627265824 \\\\\n",
       "\\end{tabular}\n"
      ],
      "text/markdown": [
       "\n",
       "baseMean | log2FoldChange | lfcSE | stat | pvalue | padj | BH | \n",
       "|---|---|---|\n",
       "|  15.274431   |  0.2993059   | 0.2244440    |  1.3335435   | 0.1823535183 | 0.335028826  | 0.341649949  | \n",
       "| 145.603062   |  0.4360634   | 0.1308688    |  3.3320662   | 0.0008620376 | 0.004175252  | 0.004257767  | \n",
       "|   2.605083   | -0.3214136   | 0.4133084    | -0.7776604   | 0.4367692261 | 0.615109509  | 0.627265824  | \n",
       "\n",
       "\n"
      ],
      "text/plain": [
       "  baseMean   log2FoldChange lfcSE     stat       pvalue       padj       \n",
       "1  15.274431  0.2993059     0.2244440  1.3335435 0.1823535183 0.335028826\n",
       "2 145.603062  0.4360634     0.1308688  3.3320662 0.0008620376 0.004175252\n",
       "3   2.605083 -0.3214136     0.4133084 -0.7776604 0.4367692261 0.615109509\n",
       "  BH         \n",
       "1 0.341649949\n",
       "2 0.004257767\n",
       "3 0.627265824"
      ]
     },
     "metadata": {},
     "output_type": "display_data"
    }
   ],
   "source": [
    "head(res, 3)"
   ]
  },
  {
   "cell_type": "code",
   "execution_count": 149,
   "metadata": {},
   "outputs": [
    {
     "data": {
      "text/html": [
       "<table>\n",
       "<thead><tr><th scope=col>baseMean</th><th scope=col>log2FoldChange</th><th scope=col>lfcSE</th><th scope=col>stat</th><th scope=col>pvalue</th><th scope=col>padj</th><th scope=col>BH</th></tr></thead>\n",
       "<tbody>\n",
       "\t<tr><td>163.46111   </td><td>-2.034680   </td><td>0.1887792   </td><td>-10.77809   </td><td>4.368460e-27</td><td>1.878875e-23</td><td>1.916007e-23</td></tr>\n",
       "\t<tr><td> 40.50071   </td><td> 2.712166   </td><td>0.2534469   </td><td> 10.70112   </td><td>1.005540e-26</td><td>2.162413e-23</td><td>2.205149e-23</td></tr>\n",
       "\t<tr><td> 90.42765   </td><td> 3.387681   </td><td>0.3223246   </td><td> 10.51016   </td><td>7.756518e-26</td><td>1.112026e-22</td><td>1.134003e-22</td></tr>\n",
       "</tbody>\n",
       "</table>\n"
      ],
      "text/latex": [
       "\\begin{tabular}{r|lllllll}\n",
       " baseMean & log2FoldChange & lfcSE & stat & pvalue & padj & BH\\\\\n",
       "\\hline\n",
       "\t 163.46111    & -2.034680    & 0.1887792    & -10.77809    & 4.368460e-27 & 1.878875e-23 & 1.916007e-23\\\\\n",
       "\t  40.50071    &  2.712166    & 0.2534469    &  10.70112    & 1.005540e-26 & 2.162413e-23 & 2.205149e-23\\\\\n",
       "\t  90.42765    &  3.387681    & 0.3223246    &  10.51016    & 7.756518e-26 & 1.112026e-22 & 1.134003e-22\\\\\n",
       "\\end{tabular}\n"
      ],
      "text/markdown": [
       "\n",
       "baseMean | log2FoldChange | lfcSE | stat | pvalue | padj | BH | \n",
       "|---|---|---|\n",
       "| 163.46111    | -2.034680    | 0.1887792    | -10.77809    | 4.368460e-27 | 1.878875e-23 | 1.916007e-23 | \n",
       "|  40.50071    |  2.712166    | 0.2534469    |  10.70112    | 1.005540e-26 | 2.162413e-23 | 2.205149e-23 | \n",
       "|  90.42765    |  3.387681    | 0.3223246    |  10.51016    | 7.756518e-26 | 1.112026e-22 | 1.134003e-22 | \n",
       "\n",
       "\n"
      ],
      "text/plain": [
       "  baseMean  log2FoldChange lfcSE     stat      pvalue       padj        \n",
       "1 163.46111 -2.034680      0.1887792 -10.77809 4.368460e-27 1.878875e-23\n",
       "2  40.50071  2.712166      0.2534469  10.70112 1.005540e-26 2.162413e-23\n",
       "3  90.42765  3.387681      0.3223246  10.51016 7.756518e-26 1.112026e-22\n",
       "  BH          \n",
       "1 1.916007e-23\n",
       "2 2.205149e-23\n",
       "3 1.134003e-22"
      ]
     },
     "metadata": {},
     "output_type": "display_data"
    }
   ],
   "source": [
    "res %>% arrange(pvalue) %>% head(3)"
   ]
  },
  {
   "cell_type": "code",
   "execution_count": 177,
   "metadata": {},
   "outputs": [
    {
     "data": {
      "text/html": [
       "<table>\n",
       "<thead><tr><th scope=col>baseMean</th><th scope=col>log2FoldChange</th><th scope=col>lfcSE</th><th scope=col>stat</th><th scope=col>pvalue</th><th scope=col>padj</th><th scope=col>BH</th><th scope=col>hits</th></tr></thead>\n",
       "<tbody>\n",
       "\t<tr><td> 15.274431  </td><td> 0.2993059  </td><td>0.2244440   </td><td> 1.3335435  </td><td>0.1823535183</td><td>0.335028826 </td><td>0.341649949 </td><td>FALSE       </td></tr>\n",
       "\t<tr><td>145.603062  </td><td> 0.4360634  </td><td>0.1308688   </td><td> 3.3320662  </td><td>0.0008620376</td><td>0.004175252 </td><td>0.004257767 </td><td>FALSE       </td></tr>\n",
       "\t<tr><td>  2.605083  </td><td>-0.3214136  </td><td>0.4133084   </td><td>-0.7776604  </td><td>0.4367692261</td><td>0.615109509 </td><td>0.627265824 </td><td>FALSE       </td></tr>\n",
       "</tbody>\n",
       "</table>\n"
      ],
      "text/latex": [
       "\\begin{tabular}{r|llllllll}\n",
       " baseMean & log2FoldChange & lfcSE & stat & pvalue & padj & BH & hits\\\\\n",
       "\\hline\n",
       "\t  15.274431   &  0.2993059   & 0.2244440    &  1.3335435   & 0.1823535183 & 0.335028826  & 0.341649949  & FALSE       \\\\\n",
       "\t 145.603062   &  0.4360634   & 0.1308688    &  3.3320662   & 0.0008620376 & 0.004175252  & 0.004257767  & FALSE       \\\\\n",
       "\t   2.605083   & -0.3214136   & 0.4133084    & -0.7776604   & 0.4367692261 & 0.615109509  & 0.627265824  & FALSE       \\\\\n",
       "\\end{tabular}\n"
      ],
      "text/markdown": [
       "\n",
       "baseMean | log2FoldChange | lfcSE | stat | pvalue | padj | BH | hits | \n",
       "|---|---|---|\n",
       "|  15.274431   |  0.2993059   | 0.2244440    |  1.3335435   | 0.1823535183 | 0.335028826  | 0.341649949  | FALSE        | \n",
       "| 145.603062   |  0.4360634   | 0.1308688    |  3.3320662   | 0.0008620376 | 0.004175252  | 0.004257767  | FALSE        | \n",
       "|   2.605083   | -0.3214136   | 0.4133084    | -0.7776604   | 0.4367692261 | 0.615109509  | 0.627265824  | FALSE        | \n",
       "\n",
       "\n"
      ],
      "text/plain": [
       "  baseMean   log2FoldChange lfcSE     stat       pvalue       padj       \n",
       "1  15.274431  0.2993059     0.2244440  1.3335435 0.1823535183 0.335028826\n",
       "2 145.603062  0.4360634     0.1308688  3.3320662 0.0008620376 0.004175252\n",
       "3   2.605083 -0.3214136     0.4133084 -0.7776604 0.4367692261 0.615109509\n",
       "  BH          hits \n",
       "1 0.341649949 FALSE\n",
       "2 0.004257767 FALSE\n",
       "3 0.627265824 FALSE"
      ]
     },
     "metadata": {},
     "output_type": "display_data"
    }
   ],
   "source": [
    "res <- res %>% mutate(hits=(padj < 0.05) & (abs(log2FoldChange) > 2))\n",
    "head(res, 3)"
   ]
  },
  {
   "cell_type": "code",
   "execution_count": 184,
   "metadata": {},
   "outputs": [
    {
     "name": "stderr",
     "output_type": "stream",
     "text": [
      "Warning message:\n",
      "“Removed 143 rows containing missing values (geom_point).”"
     ]
    },
    {
     "data": {},
     "metadata": {},
     "output_type": "display_data"
    },
    {
     "data": {
      "image/png": "[encoded data removed]",
      "text/plain": [
       "plot without title"
      ]
     },
     "metadata": {},
     "output_type": "display_data"
    }
   ],
   "source": [
    "ggplot(res, aes(x=log2FoldChange, y=-log(padj), color=hits)) +\n",
    "geom_point() +\n",
    "scale_colour_manual(values = c(\"black\", \"red\"))"
   ]
  },
  {
   "cell_type": "markdown",
   "metadata": {},
   "source": [
    "### FPM: fragments per million mapped fragments"
   ]
  },
  {
   "cell_type": "code",
   "execution_count": 185,
   "metadata": {},
   "outputs": [
    {
     "data": {
      "text/html": [
       "<table>\n",
       "<thead><tr><th></th><th scope=col>7A_E</th><th scope=col>7B_E</th><th scope=col>7C_E</th><th scope=col>8A_E</th><th scope=col>8B_E</th><th scope=col>8C_E</th></tr></thead>\n",
       "<tbody>\n",
       "\t<tr><th scope=row>gene0</th><td> 6.153663</td><td> 7.811592</td><td>10.787843</td><td>10.803960</td><td> 3.883627</td><td> 4.420639</td></tr>\n",
       "\t<tr><th scope=row>gene1</th><td>73.843954</td><td>77.464951</td><td>88.006090</td><td>99.293534</td><td>79.614352</td><td>86.644518</td></tr>\n",
       "\t<tr><th scope=row>gene10</th><td> 2.051221</td><td> 1.301932</td><td> 1.135562</td><td> 3.086846</td><td> 1.456360</td><td> 3.094447</td></tr>\n",
       "</tbody>\n",
       "</table>\n"
      ],
      "text/latex": [
       "\\begin{tabular}{r|llllll}\n",
       "  & 7A\\_E & 7B\\_E & 7C\\_E & 8A\\_E & 8B\\_E & 8C\\_E\\\\\n",
       "\\hline\n",
       "\tgene0 &  6.153663 &  7.811592 & 10.787843 & 10.803960 &  3.883627 &  4.420639\\\\\n",
       "\tgene1 & 73.843954 & 77.464951 & 88.006090 & 99.293534 & 79.614352 & 86.644518\\\\\n",
       "\tgene10 &  2.051221 &  1.301932 &  1.135562 &  3.086846 &  1.456360 &  3.094447\\\\\n",
       "\\end{tabular}\n"
      ],
      "text/markdown": [
       "\n",
       "| <!--/--> | 7A_E | 7B_E | 7C_E | 8A_E | 8B_E | 8C_E | \n",
       "|---|---|---|\n",
       "| gene0 |  6.153663 |  7.811592 | 10.787843 | 10.803960 |  3.883627 |  4.420639 | \n",
       "| gene1 | 73.843954 | 77.464951 | 88.006090 | 99.293534 | 79.614352 | 86.644518 | \n",
       "| gene10 |  2.051221 |  1.301932 |  1.135562 |  3.086846 |  1.456360 |  3.094447 | \n",
       "\n",
       "\n"
      ],
      "text/plain": [
       "       7A_E      7B_E      7C_E      8A_E      8B_E      8C_E     \n",
       "gene0   6.153663  7.811592 10.787843 10.803960  3.883627  4.420639\n",
       "gene1  73.843954 77.464951 88.006090 99.293534 79.614352 86.644518\n",
       "gene10  2.051221  1.301932  1.135562  3.086846  1.456360  3.094447"
      ]
     },
     "metadata": {},
     "output_type": "display_data"
    }
   ],
   "source": [
    "head(fpm(de.E), 3)"
   ]
  },
  {
   "cell_type": "markdown",
   "metadata": {},
   "source": [
    "### FPKM: fragments per kilobase per million mapped fragments"
   ]
  },
  {
   "cell_type": "code",
   "execution_count": 187,
   "metadata": {
    "collapsed": true
   },
   "outputs": [],
   "source": [
    "# Need annotation of gene length"
   ]
  },
  {
   "cell_type": "markdown",
   "metadata": {},
   "source": [
    "## Regularized log transform"
   ]
  },
  {
   "cell_type": "code",
   "execution_count": 200,
   "metadata": {},
   "outputs": [],
   "source": [
    "rld <- rlog(de.E, blind = T)"
   ]
  },
  {
   "cell_type": "code",
   "execution_count": 201,
   "metadata": {},
   "outputs": [
    {
     "data": {
      "text/plain": [
       "class: DESeqTransform \n",
       "dim: 4444 6 \n",
       "metadata(1): version\n",
       "assays(1): ''\n",
       "rownames(4444): gene0 gene1 ... gene998 gene999\n",
       "rowData names(23): baseMean baseVar ... dispFit rlogIntercept\n",
       "colnames(6): 7A_E 7B_E ... 8B_E 8C_E\n",
       "colData names(5): treatment repl team sizeFactor replaceable"
      ]
     },
     "metadata": {},
     "output_type": "display_data"
    }
   ],
   "source": [
    "rld"
   ]
  },
  {
   "cell_type": "code",
   "execution_count": 202,
   "metadata": {},
   "outputs": [
    {
     "data": {
      "text/html": [
       "<table>\n",
       "<thead><tr><th></th><th scope=col>7A_E</th><th scope=col>7B_E</th><th scope=col>7C_E</th><th scope=col>8A_E</th><th scope=col>8B_E</th><th scope=col>8C_E</th></tr></thead>\n",
       "<tbody>\n",
       "\t<tr><th scope=row>gene0</th><td>3.286976</td><td>3.416716</td><td>3.622487</td><td>3.626383</td><td>3.063574</td><td>3.116328</td></tr>\n",
       "\t<tr><th scope=row>gene1</th><td>6.838159</td><td>6.874599</td><td>6.974391</td><td>7.071443</td><td>6.895511</td><td>6.962116</td></tr>\n",
       "\t<tr><th scope=row>gene10</th><td>1.550284</td><td>1.433806</td><td>1.400066</td><td>1.704624</td><td>1.451038</td><td>1.711100</td></tr>\n",
       "\t<tr><th scope=row>gene100</th><td>4.420682</td><td>3.928262</td><td>4.295481</td><td>4.283255</td><td>4.363556</td><td>4.383583</td></tr>\n",
       "\t<tr><th scope=row>gene1000</th><td>2.884798</td><td>2.800880</td><td>2.612119</td><td>2.372327</td><td>2.279139</td><td>2.377640</td></tr>\n",
       "\t<tr><th scope=row>gene1001</th><td>1.284654</td><td>1.488203</td><td>1.448676</td><td>1.584320</td><td>1.486914</td><td>1.600126</td></tr>\n",
       "</tbody>\n",
       "</table>\n"
      ],
      "text/latex": [
       "\\begin{tabular}{r|llllll}\n",
       "  & 7A\\_E & 7B\\_E & 7C\\_E & 8A\\_E & 8B\\_E & 8C\\_E\\\\\n",
       "\\hline\n",
       "\tgene0 & 3.286976 & 3.416716 & 3.622487 & 3.626383 & 3.063574 & 3.116328\\\\\n",
       "\tgene1 & 6.838159 & 6.874599 & 6.974391 & 7.071443 & 6.895511 & 6.962116\\\\\n",
       "\tgene10 & 1.550284 & 1.433806 & 1.400066 & 1.704624 & 1.451038 & 1.711100\\\\\n",
       "\tgene100 & 4.420682 & 3.928262 & 4.295481 & 4.283255 & 4.363556 & 4.383583\\\\\n",
       "\tgene1000 & 2.884798 & 2.800880 & 2.612119 & 2.372327 & 2.279139 & 2.377640\\\\\n",
       "\tgene1001 & 1.284654 & 1.488203 & 1.448676 & 1.584320 & 1.486914 & 1.600126\\\\\n",
       "\\end{tabular}\n"
      ],
      "text/markdown": [
       "\n",
       "| <!--/--> | 7A_E | 7B_E | 7C_E | 8A_E | 8B_E | 8C_E | \n",
       "|---|---|---|---|---|---|\n",
       "| gene0 | 3.286976 | 3.416716 | 3.622487 | 3.626383 | 3.063574 | 3.116328 | \n",
       "| gene1 | 6.838159 | 6.874599 | 6.974391 | 7.071443 | 6.895511 | 6.962116 | \n",
       "| gene10 | 1.550284 | 1.433806 | 1.400066 | 1.704624 | 1.451038 | 1.711100 | \n",
       "| gene100 | 4.420682 | 3.928262 | 4.295481 | 4.283255 | 4.363556 | 4.383583 | \n",
       "| gene1000 | 2.884798 | 2.800880 | 2.612119 | 2.372327 | 2.279139 | 2.377640 | \n",
       "| gene1001 | 1.284654 | 1.488203 | 1.448676 | 1.584320 | 1.486914 | 1.600126 | \n",
       "\n",
       "\n"
      ],
      "text/plain": [
       "         7A_E     7B_E     7C_E     8A_E     8B_E     8C_E    \n",
       "gene0    3.286976 3.416716 3.622487 3.626383 3.063574 3.116328\n",
       "gene1    6.838159 6.874599 6.974391 7.071443 6.895511 6.962116\n",
       "gene10   1.550284 1.433806 1.400066 1.704624 1.451038 1.711100\n",
       "gene100  4.420682 3.928262 4.295481 4.283255 4.363556 4.383583\n",
       "gene1000 2.884798 2.800880 2.612119 2.372327 2.279139 2.377640\n",
       "gene1001 1.284654 1.488203 1.448676 1.584320 1.486914 1.600126"
      ]
     },
     "metadata": {},
     "output_type": "display_data"
    }
   ],
   "source": [
    "head(assay(rld))"
   ]
  },
  {
   "cell_type": "code",
   "execution_count": 203,
   "metadata": {
    "collapsed": true
   },
   "outputs": [],
   "source": [
    "d <- dist(t(assay(rld)))"
   ]
  },
  {
   "cell_type": "code",
   "execution_count": 204,
   "metadata": {},
   "outputs": [
    {
     "data": {
      "image/png": "[encoded data removed]",
      "text/plain": [
       "Plot with title “Cluster Dendrogram”"
      ]
     },
     "metadata": {},
     "output_type": "display_data"
    }
   ],
   "source": [
    "plot(hclust(d))"
   ]
  },
  {
   "cell_type": "code",
   "execution_count": 206,
   "metadata": {},
   "outputs": [
    {
     "data": {},
     "metadata": {},
     "output_type": "display_data"
    },
    {
     "data": {
      "image/png": "[encoded data removed]",
      "text/plain": [
       "plot without title"
      ]
     },
     "metadata": {},
     "output_type": "display_data"
    }
   ],
   "source": [
    "plotPCA(rld, intgroup='treatment')"
   ]
  },
  {
   "cell_type": "code",
   "execution_count": null,
   "metadata": {
    "collapsed": true
   },
   "outputs": [],
   "source": []
  }
 ],
 "metadata": {
  "kernelspec": {
   "display_name": "R",
   "language": "R",
   "name": "ir"
  },
  "language_info": {
   "codemirror_mode": "r",
   "file_extension": ".r",
   "mimetype": "text/x-r-source",
   "name": "R",
   "pygments_lexer": "r",
   "version": "3.4.0"
  }
 },
 "nbformat": 4,
 "nbformat_minor": 2
}
