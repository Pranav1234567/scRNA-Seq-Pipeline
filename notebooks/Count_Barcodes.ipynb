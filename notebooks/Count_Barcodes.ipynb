{
 "cells": [
  {
   "cell_type": "code",
   "execution_count": 12,
   "metadata": {
    "collapsed": true
   },
   "outputs": [],
   "source": [
    "%matplotlib inline"
   ]
  },
  {
   "cell_type": "code",
   "execution_count": 15,
   "metadata": {
    "collapsed": true
   },
   "outputs": [],
   "source": [
    "import matplotlib.pyplot as plt"
   ]
  },
  {
   "cell_type": "code",
   "execution_count": 1,
   "metadata": {
    "collapsed": true
   },
   "outputs": [],
   "source": [
    "from collections import Counter"
   ]
  },
  {
   "cell_type": "code",
   "execution_count": 2,
   "metadata": {
    "collapsed": true
   },
   "outputs": [],
   "source": [
    "import numpy as np"
   ]
  },
  {
   "cell_type": "code",
   "execution_count": 5,
   "metadata": {},
   "outputs": [],
   "source": [
    "data = np.loadtxt('../Scripts/firstEight.txt', dtype='str')"
   ]
  },
  {
   "cell_type": "code",
   "execution_count": 6,
   "metadata": {},
   "outputs": [
    {
     "data": {
      "text/plain": [
       "(952371,)"
      ]
     },
     "execution_count": 6,
     "metadata": {},
     "output_type": "execute_result"
    }
   ],
   "source": [
    "data.shape"
   ]
  },
  {
   "cell_type": "code",
   "execution_count": 7,
   "metadata": {
    "collapsed": true
   },
   "outputs": [],
   "source": [
    "c = Counter(data)"
   ]
  },
  {
   "cell_type": "code",
   "execution_count": 8,
   "metadata": {},
   "outputs": [
    {
     "data": {
      "text/plain": [
       "[('TAGACCGA', 150818),\n",
       " ('GCTCAATC', 40361),\n",
       " ('TCCGAATC', 28382),\n",
       " ('GTCGTCGC', 25052),\n",
       " ('GTACGCGA', 22153),\n",
       " ('TCCGACGA', 18339),\n",
       " ('ATGTGGAG', 17114),\n",
       " ('GAATCATC', 16908),\n",
       " ('ACAGTCGA', 14827),\n",
       " ('TGTACCGA', 14017)]"
      ]
     },
     "execution_count": 8,
     "metadata": {},
     "output_type": "execute_result"
    }
   ],
   "source": [
    "c.most_common(10)"
   ]
  },
  {
   "cell_type": "code",
   "execution_count": 24,
   "metadata": {
    "collapsed": true
   },
   "outputs": [],
   "source": [
    "counts = np.array(sorted(c.values(), reverse=True))"
   ]
  },
  {
   "cell_type": "code",
   "execution_count": 11,
   "metadata": {},
   "outputs": [
    {
     "data": {
      "text/plain": [
       "[150818, 40361, 28382, 25052, 22153, 18339, 17114, 16908, 14827, 14017]"
      ]
     },
     "execution_count": 11,
     "metadata": {},
     "output_type": "execute_result"
    }
   ],
   "source": [
    "counts[:10]"
   ]
  },
  {
   "cell_type": "code",
   "execution_count": 13,
   "metadata": {},
   "outputs": [],
   "source": [
    "cs = np.cumsum(counts)"
   ]
  },
  {
   "cell_type": "code",
   "execution_count": 207,
   "metadata": {},
   "outputs": [
    {
     "data": {
      "image/png": "[encoded data removed]",
      "text/plain": [
       "<matplotlib.figure.Figure at 0x1105ef7f0>"
      ]
     },
     "metadata": {},
     "output_type": "display_data"
    }
   ],
   "source": [
    "plt.semilogx(cs)\n",
    "plt.axvline(10**2.1, c='red')\n",
    "pass"
   ]
  },
  {
   "cell_type": "code",
   "execution_count": 208,
   "metadata": {
    "collapsed": true
   },
   "outputs": [],
   "source": [
    "barcodes = [seq for seq in c if c[seq] > 10**2.1]"
   ]
  },
  {
   "cell_type": "code",
   "execution_count": 209,
   "metadata": {},
   "outputs": [
    {
     "data": {
      "text/plain": [
       "263"
      ]
     },
     "execution_count": 209,
     "metadata": {},
     "output_type": "execute_result"
    }
   ],
   "source": [
    "len(barcodes)"
   ]
  },
  {
   "cell_type": "code",
   "execution_count": 210,
   "metadata": {},
   "outputs": [
    {
     "data": {
      "text/plain": [
       "['AAAAAAAA',\n",
       " 'AAAACCGC',\n",
       " 'AAAGTCGA',\n",
       " 'AAATGGAA',\n",
       " 'AACTGATC',\n",
       " 'AACTGCGA',\n",
       " 'AAGAAAGA',\n",
       " 'AAGAACGA',\n",
       " 'AAGACAGA',\n",
       " 'AAGACATC']"
      ]
     },
     "execution_count": 210,
     "metadata": {},
     "output_type": "execute_result"
    }
   ],
   "source": [
    "sorted(barcodes)[:10]"
   ]
  },
  {
   "cell_type": "code",
   "execution_count": 211,
   "metadata": {
    "collapsed": true
   },
   "outputs": [],
   "source": [
    "import editdistance"
   ]
  },
  {
   "cell_type": "code",
   "execution_count": 212,
   "metadata": {},
   "outputs": [
    {
     "data": {
      "text/plain": [
       "array([-8, -7, -6, -5, -4, -3, -2, -1,  0])"
      ]
     },
     "execution_count": 212,
     "metadata": {},
     "output_type": "execute_result"
    }
   ],
   "source": [
    "np.unique(lev_similarity)"
   ]
  },
  {
   "cell_type": "code",
   "execution_count": 213,
   "metadata": {},
   "outputs": [
    {
     "data": {
      "text/plain": [
       "['TGTACCGA', 'TAGACCGA', 'ATTCGATC', 'CGGATTCA', 'GCTTGTCA']"
      ]
     },
     "execution_count": 213,
     "metadata": {},
     "output_type": "execute_result"
    }
   ],
   "source": [
    "barcodes[:5]"
   ]
  },
  {
   "cell_type": "code",
   "execution_count": 214,
   "metadata": {},
   "outputs": [],
   "source": [
    "hits = []\n",
    "for i, b1 in enumerate(barcodes):\n",
    "    group = set([b1])\n",
    "    for j, b2 in enumerate(barcodes):\n",
    "        if j <= i: \n",
    "            continue\n",
    "        d = editdistance.eval(b1, b2)\n",
    "        if d <= 2:\n",
    "            group.add(b2)\n",
    "    hits.append(group)"
   ]
  },
  {
   "cell_type": "code",
   "execution_count": 215,
   "metadata": {},
   "outputs": [],
   "source": [
    "seen = set([])\n",
    "for hit in hits:\n",
    "    s = sorted(hit)[0]\n",
    "    if s.count('A') <6 and s.count('T') <= 6:\n",
    "        seen.add(s)"
   ]
  },
  {
   "cell_type": "code",
   "execution_count": 216,
   "metadata": {},
   "outputs": [],
   "source": [
    "seen = sorted(seen)"
   ]
  },
  {
   "cell_type": "code",
   "execution_count": 217,
   "metadata": {},
   "outputs": [
    {
     "data": {
      "text/plain": [
       "113"
      ]
     },
     "execution_count": 217,
     "metadata": {},
     "output_type": "execute_result"
    }
   ],
   "source": [
    "len(seen)"
   ]
  },
  {
   "cell_type": "code",
   "execution_count": 218,
   "metadata": {
    "scrolled": false
   },
   "outputs": [],
   "source": [
    "hits = []\n",
    "for barcode in seen:\n",
    "    hits.append((barcode, c[barcode]))"
   ]
  },
  {
   "cell_type": "code",
   "execution_count": 219,
   "metadata": {
    "collapsed": true
   },
   "outputs": [],
   "source": [
    "true_barcodes = [\n",
    " 'CATCACGC',\n",
    " 'GTCGTCGC',\n",
    " 'ACGACCGC',\n",
    " 'TGATGCGC',\n",
    " 'CATCAATC',\n",
    " 'GTCGTATC',\n",
    " 'ACGACATC',\n",
    " 'TGATGATC',\n",
    " 'CATCATCC',\n",
    " 'GTCGTTCC',\n",
    " 'ACGACTCC',\n",
    " 'TGATGTCC',\n",
    " 'CATCAGAA',\n",
    " 'GTCGTGAA',\n",
    " 'ACGACGAA',\n",
    " 'TGATGGAA',\n",
    " 'TCACACGC',\n",
    " 'CGTGTCGC',\n",
    " 'GACACCGC',\n",
    " 'ATGTGCGC',\n",
    " 'TCACATCA',\n",
    " 'CGTGTTCA',\n",
    " 'GACACTCA',\n",
    " 'ATGTGTCA',\n",
    " 'TCACAGAG',\n",
    " 'CGTGTGAG',\n",
    " 'GACACGAG',\n",
    " 'ATGTGGAG',\n",
    " 'CTAACCGC',\n",
    " 'GCTTGCGC',\n",
    " 'AGCCACGC',\n",
    " 'TAGGTCGC',\n",
    " 'CTAACTCA',\n",
    " 'GCTTGTCA',\n",
    " 'AGCCATCA',\n",
    " 'TAGGTTCA',\n",
    " 'CTAACGAG',\n",
    " 'GCTTGGAG',\n",
    " 'AGCCAGAG',\n",
    " 'TAGGTGAG',\n",
    " 'GAATCCGA',\n",
    " 'ATTCGCGA',\n",
    " 'TCCGACGA',\n",
    " 'CGGATCGA',\n",
    " 'GAATCATC',\n",
    " 'ATTCGATC',\n",
    " 'TCCGAATC',\n",
    " 'CGGATATC',\n",
    " 'GAATCTCG',\n",
    " 'ATTCGTCG',\n",
    " 'TCCGATCG',\n",
    " 'CGGATTCG',\n",
    " 'GAATCGAT',\n",
    " 'ATTCGGAT',\n",
    " 'TCCGAGAT',\n",
    " 'CGGATGAT',\n",
    " 'AGCGTCGA',\n",
    " 'TAGACCGA',\n",
    " 'CTATGCGA',\n",
    " 'GCTCACGA',\n",
    " 'AGCGTATC',\n",
    " 'TAGACATC',\n",
    " 'CTATGATC',\n",
    " 'GCTCAATC',\n",
    " 'AGCGTTCG',\n",
    " 'TAGACTCG',\n",
    " 'CTATGTCG',\n",
    " 'GCTCATCG',\n",
    " 'AGCGTGAT',\n",
    " 'TAGACGAT',\n",
    " 'CTATGGAT',\n",
    " 'GCTCAGAT',\n",
    " 'ACTGACGA',\n",
    " 'TGCATCGA',\n",
    " 'CAGTCCGA',\n",
    " 'GTACGCGA',\n",
    " 'ACTGAATC',\n",
    " 'TGCATATC',\n",
    " 'CAGTCATC',\n",
    " 'GTACGATC',\n",
    " 'ACTGATCG',\n",
    " 'TGCATTCG',\n",
    " 'CAGTCTCG',\n",
    " 'GTACGTCG',\n",
    " 'ACTGAGAT',\n",
    " 'TGCATGAT',\n",
    " 'CAGTCGAT',\n",
    " 'GTACGGAT',\n",
    " 'TGTACCGA',\n",
    " 'CACTGCGA',\n",
    " 'GTGCACGA',\n",
    " 'ACAGTCGA',\n",
    " 'TGTACATC',\n",
    " 'CACTGATC',\n",
    " 'GTGCAATC',\n",
    " 'ACAGTATC']"
   ]
  },
  {
   "cell_type": "code",
   "execution_count": 221,
   "metadata": {},
   "outputs": [
    {
     "data": {
      "text/plain": [
       "['ACAGTATC',\n",
       " 'ACAGTCGA',\n",
       " 'ACGACATC',\n",
       " 'ACGACCGC',\n",
       " 'ACGACGAA',\n",
       " 'ACGACTCC',\n",
       " 'ACTGAATC',\n",
       " 'ACTGACGA',\n",
       " 'ACTGAGAT',\n",
       " 'ACTGATCG',\n",
       " 'AGCCACGC',\n",
       " 'AGCCAGAG',\n",
       " 'AGCCATCA',\n",
       " 'AGCGTATC',\n",
       " 'AGCGTCGA',\n",
       " 'AGCGTGAT',\n",
       " 'AGCGTTCG',\n",
       " 'ATGTGCGC',\n",
       " 'ATGTGGAG',\n",
       " 'ATGTGTCA',\n",
       " 'ATTCGATC',\n",
       " 'ATTCGCGA',\n",
       " 'ATTCGGAT',\n",
       " 'ATTCGTCG',\n",
       " 'CACTGATC',\n",
       " 'CACTGCGA',\n",
       " 'CAGTCATC',\n",
       " 'CAGTCCGA',\n",
       " 'CAGTCGAT',\n",
       " 'CAGTCTCG',\n",
       " 'CATCAATC',\n",
       " 'CATCACGC',\n",
       " 'CATCAGAA',\n",
       " 'CATCATCC',\n",
       " 'CGGATATC',\n",
       " 'CGGATCGA',\n",
       " 'CGGATGAT',\n",
       " 'CGGATTCG',\n",
       " 'CGTGTCGC',\n",
       " 'CGTGTGAG',\n",
       " 'CGTGTTCA',\n",
       " 'CTAACCGC',\n",
       " 'CTAACGAG',\n",
       " 'CTAACTCA',\n",
       " 'CTATGATC',\n",
       " 'CTATGCGA',\n",
       " 'CTATGGAT',\n",
       " 'CTATGTCG',\n",
       " 'GAATCATC',\n",
       " 'GAATCCGA',\n",
       " 'GAATCGAT',\n",
       " 'GAATCTCG',\n",
       " 'GACACCGC',\n",
       " 'GACACGAG',\n",
       " 'GACACTCA',\n",
       " 'GCTCAATC',\n",
       " 'GCTCACGA',\n",
       " 'GCTCAGAT',\n",
       " 'GCTCATCG',\n",
       " 'GCTTGCGC',\n",
       " 'GCTTGGAG',\n",
       " 'GCTTGTCA',\n",
       " 'GTACGATC',\n",
       " 'GTACGCGA',\n",
       " 'GTACGGAT',\n",
       " 'GTACGTCG',\n",
       " 'GTCGTATC',\n",
       " 'GTCGTCGC',\n",
       " 'GTCGTGAA',\n",
       " 'GTCGTTCC',\n",
       " 'GTGCAATC',\n",
       " 'GTGCACGA',\n",
       " 'TAGACATC',\n",
       " 'TAGACCGA',\n",
       " 'TAGACGAT',\n",
       " 'TAGACTCG',\n",
       " 'TAGGTCGC',\n",
       " 'TAGGTGAG',\n",
       " 'TAGGTTCA',\n",
       " 'TCACACGC',\n",
       " 'TCACAGAG',\n",
       " 'TCACATCA',\n",
       " 'TCCGAATC',\n",
       " 'TCCGACGA',\n",
       " 'TCCGAGAT',\n",
       " 'TCCGATCG',\n",
       " 'TGATGATC',\n",
       " 'TGATGCGC',\n",
       " 'TGATGGAA',\n",
       " 'TGATGTCC',\n",
       " 'TGCATATC',\n",
       " 'TGCATCGA',\n",
       " 'TGCATGAT',\n",
       " 'TGCATTCG',\n",
       " 'TGTACATC',\n",
       " 'TGTACCGA']"
      ]
     },
     "execution_count": 221,
     "metadata": {},
     "output_type": "execute_result"
    }
   ],
   "source": [
    "sorted(true_barcodes)"
   ]
  },
  {
   "cell_type": "code",
   "execution_count": 223,
   "metadata": {
    "scrolled": false
   },
   "outputs": [
    {
     "name": "stdout",
     "output_type": "stream",
     "text": [
      "000 TAGACATC 10572 TP\n",
      "001 GCTCACGA  7028 TP\n",
      "002 GTACGATC  6940 TP\n",
      "003 CTATGATC  5861 TP\n",
      "004 CAGTCATC  5609 TP\n",
      "005 CAGTCTCG  5185 TP\n",
      "006 GCTTGTCA  4486 TP\n",
      "007 ACTGAGAT  4383 TP\n",
      "008 CGTGTGAG  4340 TP\n",
      "009 CGTGTTCA  3821 TP\n",
      "010 ACAGTATC  3524 TP\n",
      "011 GCTTGCGC  3303 TP\n",
      "012 TCACACGC  3165 TP\n",
      "013 ATTCGTCG  2815 TP\n",
      "014 TCACATCA  2738 TP\n",
      "015 CGTGTCGC  2265 TP\n",
      "016 ACGACATC  2230 TP\n",
      "017 ATGTGCGC  2140 TP\n",
      "018 CTATGCGA  2006 TP\n",
      "019 GCTTGGAG  1842 TP\n",
      "020 CAGTCCGA  1698 TP\n",
      "021 CACTTGAC   924 FP\n",
      "022 GATCAATC   757 TP\n",
      "023 AGCGTGAT   695 TP\n",
      "024 AAGACAGA   664 FP\n",
      "025 GTACGGAA   642 TP\n",
      "026 AAGAACGA   621 FP\n",
      "027 GTAAGCGA   523 TP\n",
      "028 AGCGTTCG   514 TP\n",
      "029 GAATAATC   465 TP\n",
      "030 TACGACGA   457 TP\n",
      "031 ATTAGATC   440 TP\n",
      "032 GTGCAAGA   372 TP\n",
      "033 AATCAATC   363 TP\n",
      "034 AACTGCGA   350 TP\n",
      "035 AGCAAGAG   334 TP\n",
      "036 ACTGAATC   333 TP\n",
      "037 ACAGACGA   330 TP\n",
      "038 ATTAGCGA   319 TP\n",
      "039 GTGCACAC   308 FP\n",
      "040 GTACGAAT   304 TP\n",
      "041 AAAGTCGA   298 TP\n",
      "042 AACTGATC   287 TP\n",
      "043 AGGATTCG   282 TP\n",
      "044 CATAAATC   281 TP\n",
      "045 GAATGGAA   271 FP\n",
      "046 ATAACCGC   260 TP\n",
      "047 GCTAACGA   256 TP\n",
      "048 GTCGTAGC   256 TP\n",
      "049 ATTCGCCA   255 TP\n",
      "050 GAATCAGA   254 TP\n",
      "051 CTAACAGC   249 TP\n",
      "052 AAGACATC   247 TP\n",
      "053 TCAAAGAG   245 TP\n",
      "054 AAGTGGAG   241 TP\n",
      "055 AGCAATCA   231 TP\n",
      "056 CAGTCGAA   228 TP\n",
      "057 ACTGATCG   223 TP\n",
      "058 ACAGTCAA   217 TP\n",
      "059 AATCACGC   215 TP\n",
      "060 TGTACAGA   215 TP\n",
      "061 AAGGTGAG   211 TP\n",
      "062 ATGTGGAA   210 TP\n",
      "063 TAGGTAGC   208 TP\n",
      "064 AGACAGAG   203 TP\n",
      "065 GCTAAAAC   202 FP\n",
      "066 ACCGAATC   197 TP\n",
      "067 GAATCATA   190 TP\n",
      "068 AAATGGAA   188 FP\n",
      "069 TACACCGA   185 TP\n",
      "070 GTACGCGG   182 TP\n",
      "071 CTATAATC   180 TP\n",
      "072 TGCATGAA   179 TP\n",
      "073 GCTCAACC   176 TP\n",
      "074 TAGATCGA   174 TP\n",
      "075 ACAGAATC   173 TP\n",
      "076 GAACGCGA   172 TP\n",
      "077 AAAACCGC   171 FP\n",
      "078 AAGGTCGC   168 TP\n",
      "079 TAGACACA   165 FP\n",
      "080 ACAGTCGT   163 TP\n",
      "081 AGTACCGA   163 TP\n",
      "082 CACTGAGA   161 TP\n",
      "083 ACACAGAG   160 TP\n",
      "084 AGGATCGA   159 TP\n",
      "085 AATCAGAA   158 TP\n",
      "086 ATTAGTCG   158 TP\n",
      "087 GAACAATC   158 FP\n",
      "088 GCTCAAAA   153 FP\n",
      "089 AATGACGA   151 TP\n",
      "090 CGGATTCT   151 TP\n",
      "091 ATTAGGAT   149 TP\n",
      "092 ATGAGGAG   148 TP\n",
      "093 GTAAGGAT   148 TP\n",
      "094 TAGGTGAA   148 TP\n",
      "095 AGAGTCGA   147 TP\n",
      "096 ACCGACGA   146 TP\n",
      "097 ACAGTCGC   145 TP\n",
      "098 TGTAACGA   145 TP\n",
      "099 CGGAATCG   144 TP\n",
      "100 AATCGATC   141 TP\n",
      "101 TGATGAGC   140 TP\n",
      "102 ACTGAGAA   139 TP\n",
      "103 CAGTCTCT   138 TP\n",
      "104 CTAACCAC   138 TP\n",
      "105 TGTACATT   137 TP\n",
      "106 CAAACTCA   135 TP\n",
      "107 TAGACATA   135 TP\n",
      "108 AGGATATC   133 TP\n",
      "109 AGGATGAT   133 TP\n",
      "110 CATCACAC   133 TP\n",
      "111 ACTGAAGA   129 TP\n",
      "112 GTACTCGA   127 TP\n",
      "Number of TP found: 102\n"
     ]
    }
   ],
   "source": [
    "k = 0\n",
    "for i, x in enumerate(sorted(hits, key=lambda x: x[1], reverse=True)):\n",
    "    s = 'FP'\n",
    "    for bc in true_barcodes:\n",
    "        if editdistance.eval(bc, x[0]) <= 1:\n",
    "            s = 'TP'\n",
    "            k += 1\n",
    "            break\n",
    "    print('%03d' % i, x[0], '%5d' % x[1], s)\n",
    "print(\"Number of TP found: %d\" % k)"
   ]
  },
  {
   "cell_type": "code",
   "execution_count": 20,
   "metadata": {},
   "outputs": [
    {
     "data": {
      "image/png": "[encoded data removed]",
      "text/plain": [
       "<matplotlib.figure.Figure at 0x10db47fd0>"
      ]
     },
     "metadata": {},
     "output_type": "display_data"
    }
   ],
   "source": [
    "plt.hist(np.log1p(counts), bins=10)\n",
    "pass"
   ]
  },
  {
   "cell_type": "code",
   "execution_count": 21,
   "metadata": {
    "collapsed": true
   },
   "outputs": [],
   "source": [
    "from sklearn.neighbors.kde import KernelDensity"
   ]
  },
  {
   "cell_type": "code",
   "execution_count": 55,
   "metadata": {},
   "outputs": [],
   "source": [
    "kde = KernelDensity(kernel='gaussian', bandwidth=0.5).fit(counts.reshape(-1, 1))"
   ]
  },
  {
   "cell_type": "code",
   "execution_count": 56,
   "metadata": {
    "collapsed": true
   },
   "outputs": [],
   "source": [
    "xp = np.linspace(0, 12, 1000).reshape(-1,1)"
   ]
  },
  {
   "cell_type": "code",
   "execution_count": 57,
   "metadata": {},
   "outputs": [],
   "source": [
    "log_dens = kde.score_samples(xp)"
   ]
  },
  {
   "cell_type": "code",
   "execution_count": 59,
   "metadata": {},
   "outputs": [
    {
     "data": {
      "image/png": "[encoded data removed]",
      "text/plain": [
       "<matplotlib.figure.Figure at 0x11061b400>"
      ]
     },
     "metadata": {},
     "output_type": "display_data"
    }
   ],
   "source": [
    "plt.plot(xp, np.exp(log_dens))\n",
    "pass"
   ]
  },
  {
   "cell_type": "code",
   "execution_count": null,
   "metadata": {
    "collapsed": true
   },
   "outputs": [],
   "source": []
  }
 ],
 "metadata": {
  "kernelspec": {
   "display_name": "Python 3",
   "language": "python",
   "name": "python3"
  },
  "language_info": {
   "codemirror_mode": {
    "name": "ipython",
    "version": 3
   },
   "file_extension": ".py",
   "mimetype": "text/x-python",
   "name": "python",
   "nbconvert_exporter": "python",
   "pygments_lexer": "ipython3",
   "version": "3.6.1"
  }
 },
 "nbformat": 4,
 "nbformat_minor": 2
}
